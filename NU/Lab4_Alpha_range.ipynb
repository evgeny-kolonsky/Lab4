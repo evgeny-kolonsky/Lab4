{
  "nbformat": 4,
  "nbformat_minor": 0,
  "metadata": {
    "colab": {
      "provenance": [],
      "authorship_tag": "ABX9TyPgivI6AQQ/kp8p9mdpJj0Q",
      "include_colab_link": true
    },
    "kernelspec": {
      "name": "python3",
      "display_name": "Python 3"
    },
    "language_info": {
      "name": "python"
    }
  },
  "cells": [
    {
      "cell_type": "markdown",
      "metadata": {
        "id": "view-in-github",
        "colab_type": "text"
      },
      "source": [
        "<a href=\"https://colab.research.google.com/github/evgeny-kolonsky/Lab4/blob/main/NU/Lab4_Alpha_range.ipynb\" target=\"_parent\"><img src=\"https://colab.research.google.com/assets/colab-badge.svg\" alt=\"Open In Colab\"/></a>"
      ]
    },
    {
      "cell_type": "markdown",
      "source": [
        "# Lab4 Nuclear Experiment. Alpha range\n",
        "\n",
        "Evgeny Kolonsky\n",
        "\n",
        "v.0.1.8"
      ],
      "metadata": {
        "id": "Zu3aFu0vSdMz"
      }
    },
    {
      "cell_type": "code",
      "execution_count": null,
      "metadata": {
        "id": "jD1MNY6gScnN"
      },
      "outputs": [],
      "source": [
        "import numpy as np\n",
        "import matplotlib.pyplot as plt\n",
        "from scipy.interpolate import interp1d\n",
        "from scipy.optimize import fsolve"
      ]
    },
    {
      "cell_type": "markdown",
      "source": [
        "Set #1 with Po-210 source dated 10.2024"
      ],
      "metadata": {
        "id": "HtlRy7DtSoMz"
      }
    },
    {
      "cell_type": "markdown",
      "source": [
        "## Equations"
      ],
      "metadata": {
        "id": "CMXjfTL82H3F"
      }
    },
    {
      "cell_type": "markdown",
      "source": [
        "**Tenth-value layer (TVL) range**\n",
        "$$\n",
        "R = 0.32 \\, {E_\\alpha} ^{3/2},\n",
        "\\tag{5}\n",
        "$$\n",
        "where $E_{\\alpha}$ measured in `MeV`, range $R$ in `cm`, at standard temperature and pressure (STP).\n",
        "$\n",
        "\\text{Range at 0°C}≈4\\,\\text{cm}.\n",
        "$\n",
        "\n",
        "**TVL range correction** for room temperature:\n",
        "\n",
        "Air density decreases with temperature (following the ideal gas law). Since the density of air at 25°C is about 1.184 kg/m³, which is about 10% less than the density at 0°C, we can estimate the range at 25°C to be about 5–10% longer than at STP. Thus, the expected range of a 5.3 MeV alpha particle in air at 25°C and 1 atm pressure is approximately\n",
        "$\n",
        "\\text{Range at 25°C}≈4\\,\\text{cm}×1.05≈4.2\\,\\text{cm}.\n",
        "$\n",
        "\n",
        "**Rate correction** for GM counter dead time:\n",
        "$$\n",
        "I = \\frac{m}{1-m\\tau}\n",
        "\\tag{Knoll 4.24}\n",
        "$$\n",
        "where $\\tau = 150\\,\\mu s$ - GM counter sytem dead time (specification [.pdf](https://github.com/evgeny-kolonsky/Lab4/blob/main/NU/GM%2035%20tube%20specs.pdf)), $m$ - recorded count rate, $I$ - true interaction rate, for non-parallelized case.\n",
        "\n",
        "**Mica window effective path in air**:\n",
        "$$\n",
        "h_\\text{eff} = \\frac{\\hat\\rho_\\text{mica}}{\\rho_\\text{air}}\n",
        "$$\n",
        "where $\\hat\\rho_\\text{mica}=2.0(2) \\,\\text{mg}/\\text{cm}^2$ - mica window thikness in units of areal density, $\\rho_\\text{air}=1.1(1) \\,\\text{mg}/\\text{cm}^3 $ - air density at normal pressure and room temperature. Effective path $h_\\text{eff} = 1.8(2) \\,\\text{cm}$.\n",
        "\n",
        "**Solid angle**\n",
        "$$\n",
        "\\Omega = 2 \\pi \\left( 1 - \\frac{1}{\\sqrt{1+(r/h)^2}}\\right)\n",
        "\\tag{13}\n",
        "$$\n",
        "where $r$ is counter window radius, and $h$ is distance between the point source and counter window.\n",
        "\n",
        "The solid angle is essentially influencing parameter at close distance between the radioactive source and the counter. It is assumped that the source is point at plane (which is not quite true taking into account the tablet geometry) and that the point source is centered at symmetry axis (which is ensured by stoppers on the shelf).\n"
      ],
      "metadata": {
        "id": "JptZNQPz1w-P"
      }
    },
    {
      "cell_type": "markdown",
      "source": [
        "## Constants and parameters"
      ],
      "metadata": {
        "id": "KiPSpligT3A3"
      }
    },
    {
      "cell_type": "code",
      "source": [
        "# shelves\n",
        "di = 10 # distance between shelves, mm\n",
        "d0 = 12.3 # distance between top shelf and GM counter window, mm\n",
        "shelf_thickness = 2.0 # sample shelf thickness, mm\n",
        "# spacers\n",
        "spacers_height = np.array([0, 1.06, 1.98, 2.92, 4.16, 5.02, 6.10, 7.02, 8.10, 9.02])  # spacers height +- 0.02 mm\n",
        "\n",
        "# GM counter (source: specification https://github.com/evgeny-kolonsky/Lab4/blob/main/NU/GM%2035%20tube%20specs.pdf)\n",
        "r = 28.7 / 2 # GM window radius, mm\n",
        "tau = 150e-6 # GM counter dead time, s\n",
        "rho_mica = 2.0 # mg/cm2, GM window areal density +- 0.2\n",
        "rho_mica_err = 0.2 # mg/cm2, GM window areal density error\n",
        "rho_mica_rel = rho_mica_err / rho_mica # relative error\n",
        "rho_air  = 1.1 # mg/cm3, air density at 55 rel humidity 25C room temperature\n",
        "rho_air_err = 0.1 # mg/cm3, air density error\n",
        "rho_air_rel = rho_air_err / rho_air # relative error\n",
        "h0 = rho_mica / rho_air * 10 #  path in air equivalent to path in mica window\n",
        "h0_rel = np.sqrt(rho_air_rel**2 + rho_mica_rel**2)\n",
        "h0_err = h0 * h0_rel # error in path in air equivalent to path in mica window\n",
        "\n",
        "# source - Polonium tablet\n",
        "tablet_thikness = 3.4 # Po-210 sample is slighly over the shelf, mm\n",
        "tablet_inner_radius = 6.1 /2 # mm\n",
        "sample_height = 1.0 # mm estimated. Polonium source is small amount on the bottom of inner hole of the tablet\n",
        "E_alpha = 5.3 #MeV, decay energy reference for Po-210\n",
        "R = 3.2 * E_alpha**1.5 #Expected range, mm\n",
        "# correction from STP to room temperature 25C\n",
        "R *= 1.05\n",
        "\n",
        "# background\n",
        "I_background = 0.29 # counts /s - found in previous experiments\n"
      ],
      "metadata": {
        "id": "FwG2stfhSmmt"
      },
      "execution_count": null,
      "outputs": []
    },
    {
      "cell_type": "markdown",
      "source": [
        "## Measurements"
      ],
      "metadata": {
        "id": "QSOD4sP-T40P"
      }
    },
    {
      "cell_type": "code",
      "source": [
        "data = '''\n",
        "# shelf#, spacer#, time/s, counts,\n",
        "# measured 21.11.2024 with spacers\n",
        "2 0 10 3\n",
        "2 1 10 6\n",
        "2 2 10 7\n",
        "2 3 10 10\n",
        "2 4 10 66\n",
        "2 5 10 93\n",
        "2 6 10 247\n",
        "2 7 10 472\n",
        "2 8 10 743\n",
        "2 9 10 1017\n",
        "1 0 10 1268\n",
        "1 1 10 1615\n",
        "1 2 10 1817\n",
        "1 3 10 2068\n",
        "1 4 10 2322\n",
        "1 5 10 2657\n",
        "1 6 10 2903\n",
        "'''\n",
        "\n",
        "n, spacer, time, counts = np.loadtxt(data.splitlines(), unpack=True, dtype=int)\n",
        "# distance from sourse to GM counter window\n",
        "h = d0 + (n - 1) * di - shelf_thickness - sample_height - spacers_height[spacer]\n",
        "\n",
        "# solid angle\n",
        "omega = 2 * np.pi * (1 - 1 / np.sqrt(1 + (r / h)**2))\n",
        "# rate\n",
        "delta = 1 / np.sqrt(counts) # relative error\n",
        "I = counts / time\n",
        "I -= I_background # background correction (negligible)\n",
        "I = I / (1 - I * tau) # system dead time correction (up to 5% increase at high rates)\n",
        "# flux\n",
        "flux = I / omega\n",
        "flux_err = delta * flux\n",
        "\n",
        "#interpolate to find TLV\n",
        "f = interp1d(h, flux, kind='slinear', fill_value='extrapolate')\n",
        "h_new = np.linspace(h.min(), h.max(), 100)\n",
        "flux_new = f(h_new)\n",
        "# find TLV\n",
        "TVL = np.max(flux) / 10\n",
        "h_TVL = fsolve(lambda x: f(x) - TVL, h_new.max())[0]\n",
        "\n",
        "# plot\n",
        "plt.errorbar(h, flux, yerr=flux_err, linestyle='', capsize=2, label='measurements');\n",
        "#plt.plot(h_new, flux_new, color='lightgray', label='interpolation');\n",
        "plt.plot(h_TVL, f(h_TVL), 'o', color='red', label=f'Tenth-value layer: {h_TVL:.0f} mm')\n",
        "plt.xlabel('distance from point source to counter window, mm')\n",
        "plt.ylabel('normalized flux, counts/s/rad')\n",
        "plt.legend()\n",
        "plt.grid();"
      ],
      "metadata": {
        "colab": {
          "base_uri": "https://localhost:8080/",
          "height": 501
        },
        "id": "lE06ZWhTT1V6",
        "outputId": "8808e4f4-e644-4d01-e40e-1ddb83bb0f31"
      },
      "execution_count": null,
      "outputs": [
        {
          "output_type": "stream",
          "name": "stderr",
          "text": [
            "<ipython-input-8-884607ed2d5d>:44: RuntimeWarning: The iteration is not making good progress, as measured by the \n",
            "  improvement from the last ten iterations.\n",
            "  h_TVL = fsolve(lambda x: f(x) - TVL, h_new.max())[0]\n"
          ]
        },
        {
          "output_type": "display_data",
          "data": {
            "text/plain": [
              "<Figure size 640x480 with 1 Axes>"
            ],
            "image/png": "[encoded data removed]"
          },
          "metadata": {}
        }
      ]
    },
    {
      "cell_type": "code",
      "source": [
        "print(f'Observed range TLV: {h_TVL:.0f} mm + effective path in mica {h0:.0f} mm = {h_TVL +h0:.0f} ± {h0_err:.0f} mm')\n",
        "print(f'Expected range for E = {E_alpha} MeV: {R:.0f} mm')"
      ],
      "metadata": {
        "id": "uG83VD7Xoazk",
        "outputId": "2148a3e2-263b-4ca7-a6aa-1911cb95b37d",
        "colab": {
          "base_uri": "https://localhost:8080/"
        }
      },
      "execution_count": null,
      "outputs": [
        {
          "output_type": "stream",
          "name": "stdout",
          "text": [
            "Observed range TLV: 14 mm + effective path in mica 18 mm = 32 ± 2 mm\n",
            "Expected range for E = 5.3 MeV: 41 mm\n"
          ]
        }
      ]
    },
    {
      "cell_type": "markdown",
      "source": [
        "**Conclusion**\n",
        "\n",
        "Difference of about 10 mm between observed and expected range could be explained by additional distance that alpha particle travels inside GM counter before avalanche happens.\n",
        "\n"
      ],
      "metadata": {
        "id": "svPmEGLXvoh8"
      }
    },
    {
      "cell_type": "code",
      "source": [],
      "metadata": {
        "id": "WnIFaOlNYLro"
      },
      "execution_count": null,
      "outputs": []
    }
  ]
}
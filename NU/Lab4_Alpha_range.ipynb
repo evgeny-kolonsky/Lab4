{
  "nbformat": 4,
  "nbformat_minor": 0,
  "metadata": {
    "colab": {
      "provenance": [],
      "authorship_tag": "ABX9TyNLDCXp/DY6waET3XlWtA8h",
      "include_colab_link": true
    },
    "kernelspec": {
      "name": "python3",
      "display_name": "Python 3"
    },
    "language_info": {
      "name": "python"
    }
  },
  "cells": [
    {
      "cell_type": "markdown",
      "metadata": {
        "id": "view-in-github",
        "colab_type": "text"
      },
      "source": [
        "<a href=\"https://colab.research.google.com/github/evgeny-kolonsky/Lab4/blob/main/NU/Lab4_Alpha_range.ipynb\" target=\"_parent\"><img src=\"https://colab.research.google.com/assets/colab-badge.svg\" alt=\"Open In Colab\"/></a>"
      ]
    },
    {
      "cell_type": "markdown",
      "source": [
        "# Lab4 Nuclear Experiment. Alpha range\n",
        "\n",
        "Evgeny Kolonsky\n",
        "\n",
        "v.0.1.6"
      ],
      "metadata": {
        "id": "Zu3aFu0vSdMz"
      }
    },
    {
      "cell_type": "code",
      "execution_count": 2,
      "metadata": {
        "id": "jD1MNY6gScnN"
      },
      "outputs": [],
      "source": [
        "import numpy as np\n",
        "import matplotlib.pyplot as plt\n",
        "from scipy.interpolate import interp1d\n",
        "from scipy.optimize import fsolve"
      ]
    },
    {
      "cell_type": "markdown",
      "source": [
        "Set #1\n",
        "\n",
        "Po-210 dated 10.2024"
      ],
      "metadata": {
        "id": "HtlRy7DtSoMz"
      }
    },
    {
      "cell_type": "markdown",
      "source": [
        "Constants and parameters"
      ],
      "metadata": {
        "id": "KiPSpligT3A3"
      }
    },
    {
      "cell_type": "code",
      "source": [
        "# shelves\n",
        "di = 10 # distance between shelves, mm\n",
        "d0 = 12.3 # distance between top shelf and GM counter window, mm\n",
        "shelf_thickness = 2.0 # sample shelf thickness, mm\n",
        "# spacers\n",
        "spacers_height = np.array([0, 1.06, 1.98, 2.92, 4.16, 5.02, 6.10, 7.02, 8.10, 9.02])  # spacers height +- 0.02 mm\n",
        "\n",
        "# GM counter\n",
        "r = 31.6 / 2 # GM window radius, mm\n",
        "tau = 150e-6 # dead time, s\n",
        "rho_mica = 2.0 # mg/cm2, GM window areal density\n",
        "rho_air  = 1.1 # mg/cm3, air density at 55 rel humidity 25C room temperature\n",
        "rho_air_err = 0.1 # mg/cm3, air density error\n",
        "rho_rel = rho_air_err / rho_air # relative error\n",
        "h0 = rho_mica / rho_air * 10 #  path in air equivalent to path in mica window\n",
        "h0_err = h0 * rho_rel\n",
        "\n",
        "# source - Polonium tablet\n",
        "tablet_thikness = 3.4 # Po-210 sample is slighly over the shelf, mm\n",
        "tablet_inner_radius = 6.1 /2 # mm\n",
        "sample_height = 1.0 # mm estimated. Polonium source is small amount on the bottom of inner hole of the tablet\n",
        "E_alpha = 5.3 #MeV, decay energy reference for Po-210\n",
        "R = 3.2 * E_alpha**1.5 #Expected range, mm\n",
        "\n",
        "# background\n",
        "I_background = 0.29 # counts /s\n"
      ],
      "metadata": {
        "id": "FwG2stfhSmmt"
      },
      "execution_count": 3,
      "outputs": []
    },
    {
      "cell_type": "markdown",
      "source": [
        "Solid angle\n",
        "$$\n",
        "\\Omega = 2 \\pi \\left( 1 - \\frac{1}{\\sqrt{1+(r/h)^2}}\\right)\n",
        "\\tag{13}\n",
        "$$\n",
        "\n",
        "Range as length\n",
        "$$\n",
        "R = 0.32 \\, {E_\\alpha} ^{3/2}\n",
        "\\tag{5}\n",
        "$$\n",
        "where $E_{\\alpha}$ measured in `MeV`, range $R$ in `cm`.\n",
        "\n",
        "Dead time counter correction\n",
        "$$\n",
        "n = \\frac{m}{1-m\\tau}\n",
        "\\tag{Knoll 4.24}\n",
        "$$\n",
        "where $\\tau$ - GM counter sytem dead time, $m$ - recorded count rate, $n$ - true interaction rate, for non-parallelized case."
      ],
      "metadata": {
        "id": "i4E9ZVdjWkPH"
      }
    },
    {
      "cell_type": "markdown",
      "source": [
        "Measurements"
      ],
      "metadata": {
        "id": "QSOD4sP-T40P"
      }
    },
    {
      "cell_type": "code",
      "source": [
        "data = '''\n",
        "# shelf#, spacers/mm, counts, time/s\n",
        "# measured 17.11.2024\n",
        "1 0 7819 60\n",
        "2 0 80 143\n",
        "2 2.5 80 110\n",
        "2 5.0 289 64\n",
        "2 7.5 3625 84\n",
        "2 8.0 3681 60\n",
        "2 8.2 4953 61\n",
        "2 9.0 1718 21\n",
        "2 9.0 3559 45\n",
        "2 9.0 3138 35\n",
        "1 0.7 9366 61\n",
        "1 3.0 9202 43\n",
        "1 6.0 10721 37\n",
        "'''\n",
        "\n",
        "data = '''\n",
        "# shelf#, spacer#, time/s, counts,\n",
        "# measured 21.11.2024 with spacers\n",
        "2 0 10 3\n",
        "2 1 10 6\n",
        "2 2 10 7\n",
        "2 3 10 10\n",
        "2 4 10 66\n",
        "2 5 10 93\n",
        "2 6 10 247\n",
        "2 7 10 472\n",
        "2 8 10 743\n",
        "2 9 10 1017\n",
        "1 0 10 1268\n",
        "1 1 10 1615\n",
        "1 2 10 1817\n",
        "1 3 10 2068\n",
        "1 4 10 2322\n",
        "1 5 10 2657\n",
        "1 6 10 2903\n",
        "'''\n",
        "\n",
        "n, spacer, time, counts = np.loadtxt(data.splitlines(), unpack=True, dtype=int)\n",
        "# distance from sourse to GM counter window\n",
        "h = d0 + (n - 1) * di - shelf_thickness - sample_height - spacers_height[spacer]\n",
        "\n",
        "# solid angle\n",
        "omega = 2 * np.pi * (1 - 1 / np.sqrt(1 + (r / h)**2))\n",
        "# rate\n",
        "delta = 1 / np.sqrt(counts) # relative error\n",
        "I = counts / time\n",
        "I -= I_background # background correction (negligible)\n",
        "I = I / (1 - I * tau) # system dead time correction (~4% increases rate)\n",
        "# flux\n",
        "flux = I / omega\n",
        "flux_err = delta * flux\n",
        "\n",
        "#interpolate to find TLV\n",
        "f = interp1d(h, flux, kind='slinear', fill_value='extrapolate')\n",
        "h_new = np.linspace(h.min(), h.max(), 1000)\n",
        "flux_new = f(h_new)\n",
        "# find TLV\n",
        "TLV = np.max(flux) / 10\n",
        "g = lambda x: f(x) - TLV\n",
        "h_TLV = fsolve(g, h_new.max())[0]\n",
        "\n",
        "#\n",
        "plt.errorbar(h, flux, yerr=flux_err, linestyle='', capsize=2, label='measurements');\n",
        "#plt.plot(h_new, flux_new, color='lightgray');\n",
        "plt.plot(h_TLV, f(h_TLV), 'o', color='red', label=f'TLV: {h_TLV:.1f} mm')\n",
        "plt.xlabel('distance from point source to counter window, mm')\n",
        "plt.ylabel('normalized flux, counts/s/rad')\n",
        "plt.legend()\n",
        "plt.grid();"
      ],
      "metadata": {
        "colab": {
          "base_uri": "https://localhost:8080/",
          "height": 501
        },
        "id": "lE06ZWhTT1V6",
        "outputId": "8436b457-101c-4f14-9c7d-d2f5aa5c877b"
      },
      "execution_count": 25,
      "outputs": [
        {
          "output_type": "stream",
          "name": "stderr",
          "text": [
            "<ipython-input-25-303a40a8c88d>:63: RuntimeWarning: The iteration is not making good progress, as measured by the \n",
            "  improvement from the last ten iterations.\n",
            "  h_TLV = fsolve(g, h_new.max())[0]\n"
          ]
        },
        {
          "output_type": "display_data",
          "data": {
            "text/plain": [
              "<Figure size 640x480 with 1 Axes>"
            ],
            "image/png": "[encoded data removed]"
          },
          "metadata": {}
        }
      ]
    },
    {
      "cell_type": "code",
      "source": [
        "print(f'Observed range TLV: {h_TLV:.1f} mm + effective path in mica {h0:.1f} mm = {h_TLV +h0:.1f} ± {h0_err:.1f} mm')\n",
        "print(f'Expected range for E = {E_alpha} MeV: {R:.1f} mm')"
      ],
      "metadata": {
        "id": "uG83VD7Xoazk",
        "outputId": "2fd532e4-e534-4375-cd6b-14291274e445",
        "colab": {
          "base_uri": "https://localhost:8080/"
        }
      },
      "execution_count": 20,
      "outputs": [
        {
          "output_type": "stream",
          "name": "stdout",
          "text": [
            "Observed range TLV: 14.0 mm + effective path in mica 18.2 mm = 32.2 ± 1.7 mm\n",
            "Expected range for E = 5.3 MeV: 39.0 mm\n"
          ]
        }
      ]
    },
    {
      "cell_type": "markdown",
      "source": [
        "**Conclusion**\n",
        "\n",
        "Observed TLV range 14 mm  summed with air equivalent of path 18 ± 2 mm in mica window having areal density 2 mg/cm2  gives total range 32 ± 2 mm.\n",
        "\n",
        "Expected alpha particle range for energy E = 5.3 MeV is 39 mm.\n",
        "\n",
        "Difference could be explained by additional distance that particle travels inside GM counter before avalanche happens.\n",
        "\n",
        "We assumed in eq.13 that the source is a point on a plane, with solid angle going to hemispere $\\Omega=2\\pi$ as the source becomes closer to the GM counter. Actually on small distance the solid angle is limited by geometry of the tablet; so the flux is underestimated, therefore TLV range is overestimated."
      ],
      "metadata": {
        "id": "svPmEGLXvoh8"
      }
    },
    {
      "cell_type": "code",
      "source": [],
      "metadata": {
        "id": "WnIFaOlNYLro"
      },
      "execution_count": null,
      "outputs": []
    }
  ]
}
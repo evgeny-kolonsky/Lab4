{
  "cells": [
    {
      "cell_type": "markdown",
      "metadata": {
        "id": "view-in-github",
        "colab_type": "text"
      },
      "source": [
        "<a href=\"https://colab.research.google.com/github/evgeny-kolonsky/Lab4/blob/main/Hall/lab4_hall.ipynb\" target=\"_parent\"><img src=\"https://colab.research.google.com/assets/colab-badge.svg\" alt=\"Open In Colab\"/></a>"
      ]
    },
    {
      "cell_type": "markdown",
      "id": "a9f3ba62-f83e-42c3-ab54-b0c99b0a4680",
      "metadata": {
        "id": "a9f3ba62-f83e-42c3-ab54-b0c99b0a4680"
      },
      "source": [
        "# Lab4 Hall\n",
        "\n",
        "Sample 14 n-type"
      ]
    },
    {
      "cell_type": "code",
      "execution_count": 1,
      "id": "0adafbb8-e4ed-4f6a-bf8d-e53e530cb97a",
      "metadata": {
        "id": "0adafbb8-e4ed-4f6a-bf8d-e53e530cb97a"
      },
      "outputs": [],
      "source": [
        "import numpy as np\n",
        "import matplotlib.pyplot as plt"
      ]
    },
    {
      "cell_type": "markdown",
      "id": "700383d0-b162-4bd7-978d-45db88a2458b",
      "metadata": {
        "id": "700383d0-b162-4bd7-978d-45db88a2458b"
      },
      "source": [
        "## Part 0"
      ]
    },
    {
      "cell_type": "code",
      "execution_count": 2,
      "id": "cd35492e-e133-41f0-b642-9d225b576122",
      "metadata": {
        "id": "cd35492e-e133-41f0-b642-9d225b576122"
      },
      "outputs": [],
      "source": [
        "data = '''\n",
        "# I[mA]  V[mV]\n",
        "-28 -3.42\n",
        "-25 -2.93\n",
        "-20 -2.38\n",
        "-15 -1.42\n",
        "-10 -1.21\n",
        "-5 -0.56\n",
        "0 0.09\n",
        "5 0.36\n",
        "10 0.59\n",
        "15 0.89\n",
        "21 1.44\n",
        "27 2.55\n",
        "30 3.20\n",
        "'''\n"
      ]
    },
    {
      "cell_type": "markdown",
      "id": "2cd140f9-e775-4df5-a263-eb8450e9b777",
      "metadata": {
        "id": "2cd140f9-e775-4df5-a263-eb8450e9b777"
      },
      "source": [
        "# Part 2 Hall voltage vs magnetic field"
      ]
    },
    {
      "cell_type": "code",
      "execution_count": 3,
      "id": "868a95fb-6a7c-4d33-89e6-abe67c312b74",
      "metadata": {
        "colab": {
          "base_uri": "https://localhost:8080/",
          "height": 447
        },
        "id": "868a95fb-6a7c-4d33-89e6-abe67c312b74",
        "outputId": "4892423c-0bf0-4507-a6f6-304e55ba4e33"
      },
      "outputs": [
        {
          "output_type": "execute_result",
          "data": {
            "text/plain": [
              "[<matplotlib.lines.Line2D at 0x7c7d3b222950>]"
            ]
          },
          "metadata": {},
          "execution_count": 3
        },
        {
          "output_type": "display_data",
          "data": {
            "text/plain": [
              "<Figure size 640x480 with 1 Axes>"
            ],
            "image/png": "[encoded data removed]"
          },
          "metadata": {}
        }
      ],
      "source": [
        "# V = 7V\n",
        "# Changing A from 1.5 and up to zero\n",
        "data = '''\n",
        "# B [=mT] Uh[mV]\n",
        "298 63.16\n",
        "280 59.76\n",
        "261 56.00\n",
        "240 51.82\n",
        "220 48.01\n",
        "201 44.31\n",
        "180 40.24\n",
        "161 36.33\n",
        "140 32.26\n",
        "120 28.36\n",
        "102 24.73\n",
        "081 20.68\n",
        "060 16.46\n",
        "039 12.31\n",
        "020 08.54\n",
        "001 04.71\n",
        "-300 -63.04\n",
        "-280 -59.07\n",
        "-260 -55.07\n",
        "-240 -51.19\n",
        "-220 -47.26\n",
        "-200 -43.31\n",
        "-180 -39.33\n",
        "-160 -35.34\n",
        "-138 -31.14\n",
        "-119 -27.30\n",
        "-101 -23.77\n",
        "-080 -19.44\n",
        "-061 -15.76\n",
        "-041 -11.69\n",
        "-020 -07.44\n",
        "-011 -05.66\n",
        "'''\n",
        "\n",
        "B, V = np.genfromtxt(data.splitlines()).T\n",
        "plt.plot(B, V, '.')"
      ]
    },
    {
      "cell_type": "markdown",
      "id": "69318fcb-1099-439b-b2f4-8b17562dcb84",
      "metadata": {
        "id": "69318fcb-1099-439b-b2f4-8b17562dcb84"
      },
      "source": [
        "## Part 5 Hall voltage vs temperature"
      ]
    },
    {
      "cell_type": "code",
      "execution_count": 5,
      "id": "9eb4a923-0884-4d5d-bda3-d65ad7b78710",
      "metadata": {
        "colab": {
          "base_uri": "https://localhost:8080/",
          "height": 430
        },
        "id": "9eb4a923-0884-4d5d-bda3-d65ad7b78710",
        "outputId": "1b6e8f59-ae66-4dbb-bf1e-70d62e7281a5"
      },
      "outputs": [
        {
          "output_type": "display_data",
          "data": {
            "text/plain": [
              "<Figure size 640x480 with 1 Axes>"
            ],
            "image/png": "[encoded data removed]"
          },
          "metadata": {}
        }
      ],
      "source": [
        "B = 263 # mT\n",
        "Isample = 0 # mA\n",
        "# power supply\n",
        "V = 7 #V\n",
        "I = 1.3 # A\n",
        "\n",
        "pos = '''\n",
        "# T[grad C] Uh [mV]\n",
        "143 13.93\n",
        "142 14.01\n",
        "140 14.15\n",
        "137 15.68\n",
        "134 15.96\n",
        "132 16.75\n",
        "130 16.57\n",
        "129 13.92\n",
        "128 10.70\n",
        "126 10.73\n",
        "125 10.96\n",
        "123 11.53\n",
        "121 12.14\n",
        "119 12.79\n",
        "113 15.58\n",
        "107 18.69\n",
        "101 22.18\n",
        "094 27.53\n",
        "089 31.76\n",
        "084 36.62\n",
        "079 40.02\n",
        "073 44.53\n",
        "065 48.08\n",
        "060 49.66\n",
        "062 49.09\n",
        "059 50.00\n",
        "055 50.52\n",
        "047 51.60\n",
        "042 52.09\n",
        "040 52.26\n",
        "037 52.38\n",
        "035 52.44\n",
        "'''\n",
        "\n",
        "\n",
        "T, V = np.genfromtxt(pos.splitlines()).T\n",
        "plt.plot(T, V, '.', color='red')\n",
        "\n",
        "neg = '''\n",
        "027 -63.34\n",
        "029 -63.48\n",
        "035 -63.57\n",
        "041 -63.48\n",
        "046 -63.24\n",
        "051 -62.87\n",
        "055 -62.56\n",
        "060 -61.53\n",
        "065 -60.35\n",
        "071 -58.85\n",
        "075 -56.18\n",
        "080 -53.53\n",
        "087 -48.32\n",
        "090 -46.03\n",
        "094 -41.31\n",
        "098 -38.98\n",
        "104 -33.31\n",
        "109 -29.12\n",
        "113 -17.12\n",
        "116 -12.91\n",
        "121 -12.26\n",
        "123 -11.89\n",
        "124 -16.74\n",
        "127 -15.80\n",
        "129 -14.93\n",
        "132 -08.01\n",
        "134 -04.57\n",
        "136 -03.77\n",
        "139 -03.70\n",
        "140 -03.35\n",
        "142 -03.28\n",
        "142 -02.43\n",
        "141 -02.07\n",
        "140 -02.07\n",
        "139 -02.24\n",
        "137 -02.76\n",
        "134 -05.10\n",
        "132 -04.99\n",
        "130 -05.19\n",
        "128 -09.34\n",
        "123 -15.63\n",
        "121 -17.36\n",
        "119 -18.54\n",
        "116 -20.35\n",
        "113 -22.17\n",
        "109 -25.48\n",
        "105 -28.65\n",
        "100 -32.76\n",
        "095 -37.86\n",
        "090 -41.96\n",
        "079 -50.73\n",
        "071 -56.37\n",
        "061 -60.14\n",
        "051 -62.21\n",
        "041 -63.05\n",
        "040 -63.16\n",
        "'''\n",
        "\n",
        "#T, V = np.genfromtxt(neg.splitlines()).T\n",
        "#plt.plot(T, -V, '.', color='blue')\n"
      ]
    },
    {
      "cell_type": "code",
      "execution_count": 4,
      "id": "a968f117-a93b-4cd5-884e-bf7d730d1b8c",
      "metadata": {
        "id": "a968f117-a93b-4cd5-884e-bf7d730d1b8c"
      },
      "outputs": [],
      "source": []
    }
  ],
  "metadata": {
    "kernelspec": {
      "display_name": "Python 3 (ipykernel)",
      "language": "python",
      "name": "python3"
    },
    "language_info": {
      "codemirror_mode": {
        "name": "ipython",
        "version": 3
      },
      "file_extension": ".py",
      "mimetype": "text/x-python",
      "name": "python",
      "nbconvert_exporter": "python",
      "pygments_lexer": "ipython3",
      "version": "3.13.2"
    },
    "colab": {
      "provenance": [],
      "include_colab_link": true
    }
  },
  "nbformat": 4,
  "nbformat_minor": 5
}
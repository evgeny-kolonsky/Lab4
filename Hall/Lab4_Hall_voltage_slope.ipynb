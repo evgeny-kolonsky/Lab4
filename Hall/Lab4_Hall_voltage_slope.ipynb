{
  "nbformat": 4,
  "nbformat_minor": 0,
  "metadata": {
    "colab": {
      "provenance": [],
      "authorship_tag": "ABX9TyOYqIIuE/H9G2AR20bWcbJu",
      "include_colab_link": true
    },
    "kernelspec": {
      "name": "python3",
      "display_name": "Python 3"
    },
    "language_info": {
      "name": "python"
    }
  },
  "cells": [
    {
      "cell_type": "markdown",
      "metadata": {
        "id": "view-in-github",
        "colab_type": "text"
      },
      "source": [
        "<a href=\"https://colab.research.google.com/github/evgeny-kolonsky/Lab4/blob/main/Hall/Lab4_Hall_voltage_slope.ipynb\" target=\"_parent\"><img src=\"https://colab.research.google.com/assets/colab-badge.svg\" alt=\"Open In Colab\"/></a>"
      ]
    },
    {
      "cell_type": "markdown",
      "source": [
        "# Lab4 Hall voltage slope asymmetry measurements\n",
        "\n",
        "Evgeny Kolonsky 2025"
      ],
      "metadata": {
        "id": "akNIdURz-Dlf"
      }
    },
    {
      "cell_type": "markdown",
      "source": [],
      "metadata": {
        "id": "2KKtxNqYB8N7"
      }
    },
    {
      "cell_type": "code",
      "source": [
        "import numpy as np\n",
        "import matplotlib.pyplot as plt\n",
        "from scipy.stats import linregress"
      ],
      "metadata": {
        "id": "wM2pU8nuB3er"
      },
      "execution_count": 2,
      "outputs": []
    },
    {
      "cell_type": "markdown",
      "source": [
        "# Hall Experiment — Summary & Calculations\n",
        "\n",
        "**Setup & notation**\n",
        "\n",
        "Magnetic field magnitude: $|B|=0.290\\ \\mathrm{T}$. Sample thickness: $d=1.0\\ \\mathrm{mm}=1.0\\times10^{-3}\\ \\mathrm{m}$. Longitudinal resistance at $|B|$: $R_{xx}=42\\ \\Omega$. From paired $\\pm B$ measurements at fixed $|B|$: $m_{\\text{odd}}=-1.81\\ \\mathrm{V/A}$ and $m_{\\text{even}}=0.13\\ \\mathrm{V/A}$.\n",
        "\n",
        "**Model**\n",
        "\n",
        "Measured Hall-channel voltage:\n",
        "$$\n",
        "U_{\\text{meas}}(B,I)=U_H(B,I)+\\beta \\,U_{xx}(B,I)+U_0,\n",
        "\\tag{1}\n",
        "$$\n",
        "with\n",
        "$$\n",
        "U_H=H \\, I,\n",
        "$$\n",
        "$$\n",
        "U_{xx}=R_{xx}(B)\\,I,\n",
        "$$\n",
        "and\n",
        "$$\n",
        "H=\\dfrac{R_H B}{d}.\n",
        "$$\n",
        "\n",
        "**Key relations**\n",
        "\n",
        "$$H\\equiv m_{\\text{odd}}=\\dfrac{R_H B}{d}$$ and\n",
        "$$\\beta=\\dfrac{m_{\\text{even}}}{R_{xx}(B)}.$$\n",
        "\n",
        "If fitting separately at $\\pm B$:\n",
        "$$m_{+}=+H+\\beta R_{xx}$$ and\n",
        "$$m_{-}=-H+\\beta R_{xx},$$\n",
        "so the “mirror” mismatch is\n",
        "$$m_{+}-[-m_{-}]=2\\beta R_{xx}=2m_{\\text{even}}.$$\n",
        "\n",
        "**Misalignment factor**\n",
        "\n",
        "$\\beta=\\dfrac{0.13}{42}\\approx 3.10\\times10^{-3}$ (about $0.31\\%$ leakage of $U_{xx}$).\n",
        "\n",
        "**Predicted $\\pm B$ slopes**\n",
        "\n",
        "$m_{+}\\approx -1.81+0.13=-1.68\\ \\mathrm{V/A}$, $m_{-}\\approx +1.81+0.13=+1.94\\ \\mathrm{V/A}$. Mirror comparison: $-m_{-}\\approx -1.94$ vs. $m_{+}\\approx -1.68$. Relative mismatch: $\\dfrac{2,m_{\\text{even}}}{|H|}=\\dfrac{2\\times0.13}{1.81}\\approx 0.14$ (about $14%$).\n",
        "\n",
        "**Hall coefficient.**\n",
        "\n",
        "$R_H=\\dfrac{H,d}{B}=\\dfrac{(-1.81),(1.0\\times10^{-3})}{0.290}\\approx -6.24\\times10^{-3}\\ \\mathrm{m^3/C}$ (negative $\\Rightarrow$ n-type).\n",
        "\n",
        "**Carrier concentration (single-carrier).**\n",
        "\n",
        "$n=\\dfrac{1}{q,|R_H|}=\\dfrac{1}{(1.602\\times10^{-19})(6.24\\times10^{-3})}\\approx 1.0\\times10^{21}\\ \\mathrm{m^{-3}}$ (i.e., $1.0\\times10^{15}\\ \\mathrm{cm^{-3}}$).\n",
        "\n",
        "**Minimal procedure (reproducible).**\n",
        "\n",
        "1. Fix $|B|=0.290\\ \\mathrm{T}$.\n",
        "\n",
        "For each current $I$, measure $U(+B,I)$, $U(-B,I)$, and longitudinal $U_p(I)$.\n",
        "\n",
        "2. Compute $U_{\\text{odd}}(I)=\\tfrac{U(+B,I)-U(-B,I)}{2}$ (slope $=H$), $U_{\\text{even}}(I)=\\tfrac{U(+B,I)+U(-B,I)}{2}$ (slope $=m_{\\text{even}}=\\beta R_{xx}$), and $R_{xx}(B)=\\dfrac{dU_p}{dI}$.\n",
        "\n",
        "3. Report $R_H=\\dfrac{H d}{B}$, $n=\\dfrac{1}{q|R_H|}$, and $\\beta=\\dfrac{m_{\\text{even}}}{R_{xx}}$. Verify $m_{+}\\approx +H+\\beta R_{xx}$ and $m_{-}\\approx -H+\\beta R_{xx}$.\n",
        "\n",
        "**Quick numbers**\n",
        "\n",
        "$H=-1.81\\ \\mathrm{V/A}$; $m_{\\text{even}}=0.13\\ \\mathrm{V/A}$; $\\beta=3.10\\times10^{-3}$; $R_H\\approx -6.24\\times10^{-3}\\ \\mathrm{m^3/C}$; $n\\approx 1.0\\times10^{21}\\ \\mathrm{m^{-3}}$ ($\\approx 1.0\\times10^{15}\\ \\mathrm{cm^{-3}}$); predicted $\\pm B$\n",
        "\n",
        "slope mismatch $\\approx 14\\%$ (from $2 m_{\\text{even}}/|H|$).\n"
      ],
      "metadata": {
        "id": "sPrUk9ox-LJv"
      }
    },
    {
      "cell_type": "markdown",
      "source": [
        "# 1. Does $U_H$ compensation influence the $U_H(I_p)$ slope?"
      ],
      "metadata": {
        "id": "qnKLtQnNCSk6"
      }
    },
    {
      "cell_type": "code",
      "execution_count": 3,
      "metadata": {
        "colab": {
          "base_uri": "https://localhost:8080/",
          "height": 466
        },
        "id": "kWRyWhM09580",
        "outputId": "295a5522-6eb1-43e0-d8ad-181e4d251910"
      },
      "outputs": [
        {
          "output_type": "execute_result",
          "data": {
            "text/plain": [
              "Text(0, 0.5, 'Uh [mV]')"
            ]
          },
          "metadata": {},
          "execution_count": 3
        },
        {
          "output_type": "display_data",
          "data": {
            "text/plain": [
              "<Figure size 640x480 with 1 Axes>"
            ],
            "image/png": "[encoded data removed]"
          },
          "metadata": {}
        }
      ],
      "source": [
        "# B = 288  mT\n",
        "# sample 14\n",
        "data1 = '''\n",
        "# Ip/mA, Uh/mV, sign B\n",
        "# Uh compensation  = 0\n",
        "-60 100.77\n",
        "-56 94.00\n",
        "-50 84.96\n",
        "-45 76.25\n",
        "-40 69.95\n",
        "-35 60.99\n",
        "-30 51.31\n",
        "-25 43.8\n",
        "-20 35.22\n",
        "-15 27.99\n",
        "-11 20.95\n",
        "-6 11.96\n",
        "-4 9.15\n",
        "-1 3.34\n",
        "0 1.00\n",
        "2 -2.39\n",
        "5 -9.36\n",
        "11 -18.23\n",
        "14 -22.86\n",
        "18 -30.37\n",
        "22 -36.42\n",
        "25 -41.95\n",
        "32 -54.22\n",
        "38 -63.84\n",
        "45 -76.29\n",
        "50 -85.53\n",
        "55 -93.79\n",
        "61 -104.40\n",
        "#Uh compensation leftmost\n",
        "-59 111\n",
        "-51 99\n",
        "-42 84\n",
        "-36 75\n",
        "-30 64\n",
        "-24 54\n",
        "-20 47\n",
        "-17 43\n",
        "-10 32\n",
        "-6 24\n",
        "-0 14\n",
        "4 6\n",
        "7 0\n",
        "13 -9\n",
        "18 -19\n",
        "26 -32\n",
        "33 -45\n",
        "43 -61\n",
        "53 -79\n",
        "60 -91\n",
        "# Uh comp rightmost\n",
        "-60 82\n",
        "-52 71\n",
        "-37 48\n",
        "-25 29\n",
        "-16 15\n",
        "-8 2\n",
        "-4 -5\n",
        "2 -16\n",
        "8 -26\n",
        "18 -41\n",
        "28 -58\n",
        "36 -69\n",
        "42 -81\n",
        "60 -110\n",
        "'''\n",
        "Ip1, Uh1 = np.genfromtxt(data1.splitlines()).T\n",
        "\n",
        "ip = np.linspace(-60, 60)\n",
        "\n",
        "plt.plot(Ip1, Uh1, '.')\n",
        "fit1 = linregress(Ip1, Uh1)\n",
        "plt.plot(ip, ip* fit1.slope + fit1.intercept)\n",
        "plt.grid()\n",
        "plt.xlabel('Ip [mA]')\n",
        "plt.ylabel('Uh [mV]')"
      ]
    },
    {
      "cell_type": "code",
      "source": [
        "# change B polarity\n",
        "# B = 287 mT\n",
        "data2 = '''\n",
        "# Ip/mA, Uh/mV, sign B\n",
        "# Uh = 0\n",
        "-60 -131.53\n",
        "-55 -120.81\n",
        "-47 -104.70\n",
        "-41 -92.11\n",
        "-34 -77.17\n",
        "-30 -67.30\n",
        "-24 -55.90\n",
        "-20 -46.69\n",
        "-15 -37.62\n",
        "-10 -25.23\n",
        "-4 -13.60\n",
        "-0 -5.82\n",
        "0 -2.25\n",
        "2 0.12\n",
        "6 10.23\n",
        "12 21.19\n",
        "19 36.40\n",
        "26 50.59\n",
        "32 62.81\n",
        "37 73.35\n",
        "43 85.72\n",
        "50 99.07\n",
        "60 121.29\n",
        "# Uh compensation leftmost\n",
        "-59 -115\n",
        "-48 -91\n",
        "-40 -76\n",
        "-30 -55\n",
        "-24 -41\n",
        "-16 -28\n",
        "-10 -15\n",
        "-6 -5.5\n",
        "0 7\n",
        "4 18\n",
        "11 32\n",
        "18 45.73\n",
        "23 56\n",
        "30 67\n",
        "38 84\n",
        "44 98\n",
        "54 115\n",
        "60 129\n",
        "# Uh compensation rightmost\n",
        "60 109\n",
        "54 95\n",
        "45 77\n",
        "40 66.3\n",
        "35 58\n",
        "30 47\n",
        "24 36\n",
        "20 26\n",
        "16 19\n",
        "10 04\n",
        "7 0\n",
        "3 -7\n",
        "0 -15\n",
        "-4 -28\n",
        "-8 -36\n",
        "-14 -47\n",
        "-20 -59\n",
        "-24 -70\n",
        "-31 -85\n",
        "-40 -103\n",
        "-51 -126\n",
        "-59 -143\n",
        "'''\n",
        "Ip2, Uh2 = np.genfromtxt(data2.splitlines()).T\n",
        "\n",
        "fit2 = linregress(Ip2, Uh2)\n",
        "plt.plot(ip, -ip* fit1.slope - fit1.intercept)\n",
        "plt.plot(ip, ip* fit2.slope + fit2.intercept)\n",
        "\n",
        "plt.plot(Ip2, Uh2, 'o')\n",
        "plt.plot(Ip1, -Uh1, '^')\n",
        "plt.grid()\n",
        "plt.xlabel('Ip [mA]')\n",
        "plt.ylabel('Uh [mV]')"
      ],
      "metadata": {
        "colab": {
          "base_uri": "https://localhost:8080/",
          "height": 466
        },
        "id": "yTns0k7HCY5K",
        "outputId": "33144dbb-4ec5-4068-d453-b91b56e82d01"
      },
      "execution_count": 4,
      "outputs": [
        {
          "output_type": "execute_result",
          "data": {
            "text/plain": [
              "Text(0, 0.5, 'Uh [mV]')"
            ]
          },
          "metadata": {},
          "execution_count": 4
        },
        {
          "output_type": "display_data",
          "data": {
            "text/plain": [
              "<Figure size 640x480 with 1 Axes>"
            ],
            "image/png": "[encoded data removed]"
          },
          "metadata": {}
        }
      ]
    },
    {
      "cell_type": "markdown",
      "source": [
        "**Conclusion**\n",
        "\n",
        "No, `Uh compensation` only offsets the line and does not correct the slopes. But slopes are antysymmetric. The suggested reason is $\\beta R_{xx}$ component."
      ],
      "metadata": {
        "id": "OPGQ9yYnCeLh"
      }
    },
    {
      "cell_type": "markdown",
      "source": [
        "# 2. Measure Hall volatge $U_H$ and longitudal voltage $U_{xx}$ as a function of $I_p$"
      ],
      "metadata": {
        "id": "PCPWxBIMCslZ"
      }
    },
    {
      "cell_type": "code",
      "source": [
        "# B = -285 mT\n",
        "# Uh = 0\n",
        "data3 = '''\n",
        "# Ip/mA, Uh/mV, Uxx/mV\n",
        "-60 101 2595\n",
        "-50 86 2186\n",
        "-41 70 1790\n",
        "-30 52 1315\n",
        "-20 35 877\n",
        "-10 18.53 464\n",
        "0 4 100\n",
        "2 -0.57 -010\n",
        "11 -17 -426\n",
        "20 -31.65 -774\n",
        "30 -48 -1178\n",
        "40 -67 -1638\n",
        "49 -82.5 -2024\n",
        "62 -103.73 -2545\n",
        "'''\n",
        "Ip3, Uh3, Up3 = np.genfromtxt(data3.splitlines()).T\n",
        "\n",
        "fit3 = linregress(Ip3, Uh3)\n",
        "Uh3_ = fit3.intercept + ip * fit3.slope\n",
        "Rx = np.abs(linregress(Ip3, Up3).slope)\n",
        "print(Rx)\n",
        "# change B polarity\n",
        "#B = 277\n",
        "data4 = '''\n",
        "# Ip/mA, Uh/mV, Uxx/mV\n",
        "-60 -120 2590\n",
        "-49 -100 2169\n",
        "-40 -81 1767\n",
        "-29 -60 1302\n",
        "-19 -42 881\n",
        "-10 -24 506\n",
        "0 -4 71\n",
        "10 -18 -382\n",
        "20 36 -764\n",
        "30 57 -1220\n",
        "40 76 -1626\n",
        "50 97 -2075\n",
        "61 114 -2537\n",
        "'''\n",
        "Ip4, Uh4, Up4 = np.genfromtxt(data4.splitlines()).T\n",
        "\n",
        "fit4 = linregress(Ip4, Uh4)\n",
        "Uh4_ = fit4.intercept + ip * fit4.slope\n",
        "Rx = np.abs(linregress(Ip4, Up4).slope)\n",
        "print(Rx)\n"
      ],
      "metadata": {
        "colab": {
          "base_uri": "https://localhost:8080/"
        },
        "id": "fve9_njuCcWR",
        "outputId": "2163db22-2c2b-4bd9-f8db-210f68491526"
      },
      "execution_count": 6,
      "outputs": [
        {
          "output_type": "stream",
          "name": "stdout",
          "text": [
            "42.17744139679836\n",
            "42.563850829385906\n"
          ]
        }
      ]
    },
    {
      "cell_type": "code",
      "source": [
        "Uh_odd = (Uh3_ - Uh4_) / 2\n",
        "Uh_even = (Uh3_ + Uh4_) / 2\n",
        "beta = linregress(ip, Uh_even).slope / Rx\n",
        "beta"
      ],
      "metadata": {
        "colab": {
          "base_uri": "https://localhost:8080/"
        },
        "id": "6OpARzfaC3GB",
        "outputId": "f547bc49-278c-4fb6-b602-e20c7c308bf9"
      },
      "execution_count": 7,
      "outputs": [
        {
          "output_type": "execute_result",
          "data": {
            "text/plain": [
              "np.float64(0.003041099814753615)"
            ]
          },
          "metadata": {},
          "execution_count": 7
        }
      ]
    }
  ]
}
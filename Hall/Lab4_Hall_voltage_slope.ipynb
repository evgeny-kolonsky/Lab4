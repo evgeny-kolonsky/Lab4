{
  "nbformat": 4,
  "nbformat_minor": 0,
  "metadata": {
    "colab": {
      "provenance": [],
      "authorship_tag": "ABX9TyP9Ll26Axzu/6R9lnIdwt+v",
      "include_colab_link": true
    },
    "kernelspec": {
      "name": "python3",
      "display_name": "Python 3"
    },
    "language_info": {
      "name": "python"
    }
  },
  "cells": [
    {
      "cell_type": "markdown",
      "metadata": {
        "id": "view-in-github",
        "colab_type": "text"
      },
      "source": [
        "<a href=\"https://colab.research.google.com/github/evgeny-kolonsky/Lab4/blob/main/Hall/Lab4_Hall_voltage_slope.ipynb\" target=\"_parent\"><img src=\"https://colab.research.google.com/assets/colab-badge.svg\" alt=\"Open In Colab\"/></a>"
      ]
    },
    {
      "cell_type": "markdown",
      "source": [
        "# Lab4 Hall voltage slope asymmetry measurements\n",
        "\n",
        "Evgeny Kolonsky 2025"
      ],
      "metadata": {
        "id": "akNIdURz-Dlf"
      }
    },
    {
      "cell_type": "markdown",
      "source": [],
      "metadata": {
        "id": "2KKtxNqYB8N7"
      }
    },
    {
      "cell_type": "code",
      "source": [
        "import numpy as np\n",
        "import matplotlib.pyplot as plt\n",
        "from scipy.stats import linregress"
      ],
      "metadata": {
        "id": "wM2pU8nuB3er"
      },
      "execution_count": 1,
      "outputs": []
    },
    {
      "cell_type": "markdown",
      "source": [
        "# Observations $U_H(I_p)$ at room temperature with `UH_comp` variations\n",
        "\n",
        "Does $U_H$ compensation influence the $U_H(I_p)$ slope?"
      ],
      "metadata": {
        "id": "RHxG6hjXYk0W"
      }
    },
    {
      "cell_type": "code",
      "source": [
        "# B = 288  mT\n",
        "# sample 14\n",
        "data1 = '''\n",
        "# Ip/mA, Uh/mV, sign B\n",
        "# Uh compensation  = 0\n",
        "-60 100.77 0\n",
        "-56 94.00 0\n",
        "-50 84.96 0\n",
        "-45 76.25 0\n",
        "-40 69.95 0\n",
        "-35 60.99 0\n",
        "-30 51.31 0\n",
        "-25 43.8 0\n",
        "-20 35.22 0\n",
        "-15 27.99 0\n",
        "-11 20.95 0\n",
        "-6 11.96 0\n",
        "-4 9.15 0\n",
        "-1 3.34 0\n",
        "0 1.00 0\n",
        "2 -2.39 0\n",
        "5 -9.36 0\n",
        "11 -18.23 0\n",
        "14 -22.86 0\n",
        "18 -30.37 0\n",
        "22 -36.42 0\n",
        "25 -41.95 0\n",
        "32 -54.22 0\n",
        "38 -63.84 0\n",
        "45 -76.29 0\n",
        "50 -85.53 0\n",
        "55 -93.79 0\n",
        "61 -104.40 0\n",
        "#Uh compensation leftmost\n",
        "-59 111 1\n",
        "-51 99 1\n",
        "-42 84 1\n",
        "-36 75 1\n",
        "-30 64 1\n",
        "-24 54 1\n",
        "-20 47 1\n",
        "-17 43 1\n",
        "-10 32 1\n",
        "-6 24 1\n",
        "-0 14 1\n",
        "4 6 1\n",
        "7 0 1\n",
        "13 -9 1\n",
        "18 -19 1\n",
        "26 -32 1\n",
        "33 -45 1\n",
        "43 -61 1\n",
        "53 -79 1\n",
        "60 -91 1\n",
        "# Uh comp rightmost\n",
        "-60 82 2\n",
        "-52 71 2\n",
        "-37 48 2\n",
        "-25 29 2\n",
        "-16 15 2\n",
        "-8 2 2\n",
        "-4 -5 2\n",
        "2 -16 2\n",
        "8 -26 2\n",
        "18 -41 2\n",
        "28 -58 2\n",
        "36 -69 2\n",
        "42 -81 2\n",
        "60 -110 2\n",
        "'''\n",
        "Ip1, Uh1, Uhcomp1 = np.genfromtxt(data1.splitlines()).T\n",
        "\n",
        "ip = np.linspace(-60, 60)\n",
        "\n",
        "fit1 = linregress(Ip1, Uh1)\n",
        "\n",
        "# change B polarity\n",
        "# B = -287 mT\n",
        "data2 = '''\n",
        "# Ip/mA, Uh/mV, sign B\n",
        "# Uh = 0\n",
        "-60 -131.53 0\n",
        "-55 -120.81 0\n",
        "-47 -104.70 0\n",
        "-41 -92.11 0\n",
        "-34 -77.17 0\n",
        "-30 -67.30 0\n",
        "-24 -55.90 0\n",
        "-20 -46.69 0\n",
        "-15 -37.62 0\n",
        "-10 -25.23 0\n",
        "-4 -13.60 0\n",
        "-0 -5.82 0\n",
        "0 -2.25 0\n",
        "2 0.12 0\n",
        "6 10.23 0\n",
        "12 21.19 0\n",
        "19 36.40 0\n",
        "26 50.59 0\n",
        "32 62.81 0\n",
        "37 73.35 0\n",
        "43 85.72 0\n",
        "50 99.07 0\n",
        "60 121.29 0\n",
        "# Uh compensation leftmost\n",
        "-59 -115 1\n",
        "-48 -91 1\n",
        "-40 -76 1\n",
        "-30 -55 1\n",
        "-24 -41 1\n",
        "-16 -28 1\n",
        "-10 -15 1\n",
        "-6 -5.5 1\n",
        "0 7 1\n",
        "4 18 1\n",
        "11 32 1\n",
        "18 45.73  1\n",
        "23 56 1\n",
        "30 67 1\n",
        "38 84 1\n",
        "44 98 1\n",
        "54 115 1\n",
        "60 129 1\n",
        "# Uh compensation rightmost\n",
        "60 109 2\n",
        "54 95  2\n",
        "45 77 2\n",
        "40 66.3  2\n",
        "35 58 2\n",
        "30 47 2\n",
        "24 36 2\n",
        "20 26 2\n",
        "16 19 2\n",
        "10 04 2\n",
        "7 0 2\n",
        "3 -7 2\n",
        "0 -15 2\n",
        "-4 -28 2\n",
        "-8 -36 2\n",
        "-14 -47 2\n",
        "-20 -59 2\n",
        "-24 -70 2\n",
        "-31 -85 2\n",
        "-40 -103 2\n",
        "-51 -126 2\n",
        "-59 -143 2\n",
        "'''\n",
        "Ip2, Uh2, Uhcomp2 = np.genfromtxt(data2.splitlines()).T\n",
        "\n",
        "fit2 = linregress(Ip2, Uh2)\n",
        "fit1low = linregress(Ip1[Uhcomp1==1], Uh1[Uhcomp1==1])\n",
        "fit1top = linregress(Ip1[Uhcomp1==2], Uh1[Uhcomp1==2])\n",
        "fit2low = linregress(Ip2[Uhcomp2==1], Uh2[Uhcomp2==1])\n",
        "fit2top = linregress(Ip2[Uhcomp2==2], Uh2[Uhcomp2==2])\n",
        "plt.fill_between(ip, fit1low.slope * ip + fit1low.intercept,\n",
        "                     fit1top.slope * ip + fit1top.intercept,\n",
        "                     color='green', alpha=0.1 )\n",
        "plt.fill_between(ip, -fit2low.slope * ip - fit2low.intercept,\n",
        "                     -fit2top.slope * ip - fit2top.intercept,\n",
        "                     color='red', alpha=0.1 )\n",
        "\n",
        "plt.plot(ip, ip* fit1.slope + fit1.intercept, color='green', label='positive B =  288 mT')\n",
        "plt.plot(ip, -ip* fit2.slope - fit2.intercept, color='red', label='negative B = -288 mT')\n",
        "\n",
        "#plt.plot(Ip1, Uh1, '.', color='green', label='positive B =  288 mT')\n",
        "#plt.plot(Ip2, -Uh2, '.', color='red',  label='negative B = -288 mT')\n",
        "plt.grid()\n",
        "plt.legend()\n",
        "plt.xlabel('Ip [mA]')\n",
        "plt.ylabel('Uh [mV]')"
      ],
      "metadata": {
        "colab": {
          "base_uri": "https://localhost:8080/",
          "height": 466
        },
        "id": "ZAX4ezsOY1kt",
        "outputId": "dc81ef33-f4a2-4947-e32b-56ffa77ec005"
      },
      "execution_count": 2,
      "outputs": [
        {
          "output_type": "execute_result",
          "data": {
            "text/plain": [
              "Text(0, 0.5, 'Uh [mV]')"
            ]
          },
          "metadata": {},
          "execution_count": 2
        },
        {
          "output_type": "display_data",
          "data": {
            "text/plain": [
              "<Figure size 640x480 with 1 Axes>"
            ],
            "image/png": "[encoded data removed]"
          },
          "metadata": {}
        }
      ]
    },
    {
      "cell_type": "markdown",
      "source": [
        "## Conslusion\n",
        "\n",
        "\n",
        "No, `UH_COMP` switch only offsets the line and does not correct the slopes. The slopes are not the same for positive and negative $B$ of the same abs value."
      ],
      "metadata": {
        "id": "gWlaqrhFccEA"
      }
    },
    {
      "cell_type": "markdown",
      "source": [
        "# Slope $U_H(I_p)$ at zero magnetic field"
      ],
      "metadata": {
        "id": "aqL9y7qYK76i"
      }
    },
    {
      "cell_type": "code",
      "source": [
        "url = 'https://raw.githubusercontent.com/evgeny-kolonsky/Lab4/refs/heads/main/Hall/zero14.txt'\n",
        "Ip, Up, Uh = np.genfromtxt(url).T\n",
        "\n",
        "fit = linregress(Up, Uh)\n",
        "beta = fit.slope\n",
        "U0 = fit.intercept\n",
        "print(f'beta = {beta:.2e}')\n",
        "print(f'U0 = {U0:.1f} mV')\n",
        "plt.plot(Up, Uh, '.', color='green', label='zero B')\n",
        "plt.grid()\n",
        "plt.legend()\n",
        "plt.xlabel('Up [mV]')\n",
        "plt.ylabel('Uh [mv]')"
      ],
      "metadata": {
        "id": "QcZ_cNJDYAaV",
        "outputId": "a652307f-890c-4cda-acaa-ca34285b11a5",
        "colab": {
          "base_uri": "https://localhost:8080/",
          "height": 501
        }
      },
      "execution_count": 16,
      "outputs": [
        {
          "output_type": "stream",
          "name": "stdout",
          "text": [
            "beta = -2.97e-03\n",
            "U0 = 2.5 mV\n"
          ]
        },
        {
          "output_type": "execute_result",
          "data": {
            "text/plain": [
              "Text(0, 0.5, 'Uh [mv]')"
            ]
          },
          "metadata": {},
          "execution_count": 16
        },
        {
          "output_type": "display_data",
          "data": {
            "text/plain": [
              "<Figure size 640x480 with 1 Axes>"
            ],
            "image/png": "[encoded data removed]"
          },
          "metadata": {}
        }
      ]
    },
    {
      "cell_type": "markdown",
      "source": [
        "# A model with misalignment factor\n",
        "\n",
        "**Model**\n",
        "\n",
        "Let's suggest that\n",
        "$$\n",
        "U_H'(B,I_p)=U_H(B,I_p)+\\beta U_p + U_0,\n",
        "\\tag{1}\n",
        "$$\n",
        "where $U_H'$ is observed voltage on Hall pins of the PHYWE Hall unit,\n",
        "$U_H$ is \"pure\" hall voltage, $I_p$ is longitudal current through the semiconductor sample, $B$ - magnetic field value, $U_p$ - voltage on longitudal pins, creating current $I_p$, $U_0$ is offset, which can be compensated by `UH_comp` regulator, and $\\beta$ is a small unitless misalignment factor, explaining longitudal voltage \"leak\" to Hall  pins.\n",
        "\n",
        "\n",
        "We have\n",
        "$$U_H = H \\, I_p = \\frac{R_H B}{d} I_p\n",
        "\\tag{2}\n",
        "$$\n",
        "and\n",
        "$$U_p=R_{xx}\\,I_p\n",
        "\\tag{3}.$$\n",
        "Here $R_H$ is Hall  coefficient, $d$ - thickness of the sample, $R_{xx}$ - longitudal resistance.\n",
        "\n",
        "\"Pure\" Hall voltage is purely antisymmetric with regard to the $B$ sign:\n",
        "$$\n",
        "U_H(+B)|_{I_p} = - U_H(-B)|_{I_p}\n",
        "$$\n",
        "while \"longitudal voltage leak\" component does not depend on $B$ and increases linearly with current $I_p$ having the slope $\\beta R_{xx}$.\n",
        "\n",
        "\n",
        "**Key relations**\n",
        "\n",
        "Assume that the offset $U_0 = 0$ is forced to zero with `UH_comp` compensation.\n",
        "Then \"pure\" hall voltage and misalignment factor can be found by linear combinations of Hall voltage measurement with positive and negative sign magnetic field of the same absolute value $|B|$:\n",
        "$$\n",
        "U_{odd}  = \\frac{U_H'(I_p)|_{+B} - U_H'(I_p)|_{-B}}{2} = U_H\n",
        "\\tag{4}\n",
        "$$\n",
        "and\n",
        "$$\n",
        "U_{even} =  \\frac{U_H'(I_p)|_{+B} + U_H'(I_p)|_{-B}}{2} = \\beta U_p\n",
        "\\tag{5}\n",
        "$$\n",
        "\n",
        "Hall coefficient $R_H$ can be found from (2) and (4):\n",
        "$$\n",
        "R_H = \\left[\\frac{U_{odd}}{I_p}\\right] \\frac{d}{B}\n",
        "$$\n",
        "\n",
        "Longitudal resistance $R_{xx}$ can be found from linear fitting $U_p(I_p)$ measurements:\n",
        "$$\n",
        "R_{xx} = \\left[\\frac{U_p}{I_p}\\right]\n",
        "$$\n",
        "Then value of misalignment factor $\\beta$ can be found from fitting $U_{even}$ slope:\n",
        "$$\\beta=\\left[\\frac{U_{even}}{I_p}\\right] / R_{xx}.$$\n",
        "\n",
        "\n"
      ],
      "metadata": {
        "id": "sPrUk9ox-LJv"
      }
    },
    {
      "cell_type": "markdown",
      "source": [
        "# 2. Measure Hall volatge $U_H$ and longitudal voltage $U_p$ as a function of $I_p$"
      ],
      "metadata": {
        "id": "PCPWxBIMCslZ"
      }
    },
    {
      "cell_type": "code",
      "source": [
        "B = -285e-3 #mT\n",
        "d = 1e-3 # mm, sample thickness,\n",
        "# Uh = 0\n",
        "data3 = '''\n",
        "# Ip/mA, Uh/mV, Up/mV\n",
        "-60 101 2595\n",
        "-50 86 2186\n",
        "-41 70 1790\n",
        "-30 52 1315\n",
        "-20 35 877\n",
        "-10 18.53 464\n",
        "0 4 100\n",
        "2 -0.57 -010\n",
        "11 -17 -426\n",
        "20 -31.65 -774\n",
        "30 -48 -1178\n",
        "40 -67 -1638\n",
        "49 -82.5 -2024\n",
        "62 -103.73 -2545\n",
        "'''\n",
        "Ip3, Uh3, Up3 = np.genfromtxt(data3.splitlines()).T\n",
        "\n",
        "fit3 = linregress(Ip3, Uh3)\n",
        "Uh3_ = fit3.intercept + ip * fit3.slope\n",
        "Rx = np.abs(linregress(Ip3, Up3).slope)\n",
        "print(Rx)\n",
        "# change B polarity\n",
        "#B = 277\n",
        "data4 = '''\n",
        "# Ip/mA, Uh/mV, Uxx/mV\n",
        "-60 -120 2590\n",
        "-49 -100 2169\n",
        "-40 -81 1767\n",
        "-29 -60 1302\n",
        "-19 -42 881\n",
        "-10 -24 506\n",
        "0 -4 71\n",
        "10 -18 -382\n",
        "20 36 -764\n",
        "30 57 -1220\n",
        "40 76 -1626\n",
        "50 97 -2075\n",
        "61 114 -2537\n",
        "'''\n",
        "Ip4, Uh4, Up4 = np.genfromtxt(data4.splitlines()).T\n",
        "\n",
        "fit4 = linregress(Ip4, Uh4)\n",
        "Uh4_ = fit4.intercept + ip * fit4.slope\n",
        "Rx = np.abs(linregress(Ip4, Up4).slope)\n",
        "\n"
      ],
      "metadata": {
        "colab": {
          "base_uri": "https://localhost:8080/"
        },
        "id": "fve9_njuCcWR",
        "outputId": "322c39f5-2779-45ad-a381-09bf4e4a696e"
      },
      "execution_count": 4,
      "outputs": [
        {
          "output_type": "stream",
          "name": "stdout",
          "text": [
            "42.17744139679836\n"
          ]
        }
      ]
    },
    {
      "cell_type": "code",
      "source": [
        "Uh_odd = (Uh3_ - Uh4_) / 2\n",
        "Uh_even = (Uh3_ + Uh4_) / 2\n",
        "beta = linregress(ip, Uh_even).slope / Rx\n",
        "\n",
        "R_H = linregress(ip, Uh_odd).slope * d / B\n",
        "R_H3 = linregress(ip, Uh3_).slope * d / B\n",
        "R_H4 = linregress(ip, Uh4_).slope * d / B\n",
        "\n",
        "print(f'Longitudal resistance Rx= {Rx:.1f} Ohm')\n",
        "print(f'Misalignment factor beta= {beta:.2e}')\n",
        "print(f'Hall coefficient with misalignment factor R_H = {R_H:.2e} m3/C')\n",
        "print(f'Hall coefficient R_H with positive field      = {R_H3:.2e} m3/C')\n",
        "print(f'Hall coefficient R_H with negative field      = {-R_H4:.2e} m3/C')"
      ],
      "metadata": {
        "colab": {
          "base_uri": "https://localhost:8080/"
        },
        "id": "6OpARzfaC3GB",
        "outputId": "3bb23fa2-cb1a-4402-9d08-9e59df0a5bfa"
      },
      "execution_count": 6,
      "outputs": [
        {
          "output_type": "stream",
          "name": "stdout",
          "text": [
            "Longitudal resistance Rx= 42.6 Ohm\n",
            "Misalignment factor beta= 3.04e-03\n",
            "Hall coefficient with misalignment factor R_H = 6.37e-03 m3/C\n",
            "Hall coefficient R_H with positive field      = 5.91e-03 m3/C\n",
            "Hall coefficient R_H with negative field      = 6.82e-03 m3/C\n"
          ]
        }
      ]
    },
    {
      "cell_type": "code",
      "source": [],
      "metadata": {
        "id": "we7ETy7Mv76p"
      },
      "execution_count": 5,
      "outputs": []
    }
  ]
}
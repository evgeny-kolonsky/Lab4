{
  "nbformat": 4,
  "nbformat_minor": 0,
  "metadata": {
    "colab": {
      "provenance": [],
      "toc_visible": true,
      "include_colab_link": true
    },
    "kernelspec": {
      "name": "python3",
      "display_name": "Python 3"
    },
    "language_info": {
      "name": "python"
    }
  },
  "cells": [
    {
      "cell_type": "markdown",
      "metadata": {
        "id": "view-in-github",
        "colab_type": "text"
      },
      "source": [
        "<a href=\"https://colab.research.google.com/github/evgeny-kolonsky/Lab4/blob/main/SP/Hydrogen_measurements.ipynb\" target=\"_parent\"><img src=\"https://colab.research.google.com/assets/colab-badge.svg\" alt=\"Open In Colab\"/></a>"
      ]
    },
    {
      "cell_type": "markdown",
      "source": [
        "<font size=6> Hydrogen wavelengths measurements</font>\n",
        "\n",
        "Evgeny Kolonsky, Oct 2024\n",
        "\n",
        "v.0.1.2"
      ],
      "metadata": {
        "id": "Zq95I3TgpqQn"
      }
    },
    {
      "cell_type": "code",
      "source": [
        "import numpy as np\n",
        "import matplotlib.pyplot as plt\n",
        "from scipy.optimize import fsolve\n",
        "from math import degrees as deg"
      ],
      "metadata": {
        "id": "EAaoQlotrqHq"
      },
      "execution_count": 31,
      "outputs": []
    },
    {
      "cell_type": "markdown",
      "source": [
        "# Model"
      ],
      "metadata": {
        "id": "PeEUt1iutOCy"
      }
    },
    {
      "cell_type": "markdown",
      "source": [
        "Theoretical expression for light diffraction when incident light assumed to be perpendicutalr to lattice is\n",
        "$$\n",
        "n \\lambda = d \\sin \\beta_n,\n",
        "\\tag{1}\n",
        "$$\n",
        "where $\\lambda$ - light wave length, $d$ - diffraction grating parameter, $n$ - order number, $\\beta_n$ - deviation angle of order $n$ light beam.\n",
        "\n",
        "When incident light falls under an arbitrary angle $\\alpha_0$ to lattice plane perpendicular, the expression is written in form\n",
        "$$ 2 d \\sin\\frac{\\beta_n}{2} \\cos\\left(\\alpha_0 +\\frac{\\beta_n}{2}\\right)\n",
        "= n \\lambda\n",
        ", \\quad n =  \\pm 1, \\pm 2, ..\n",
        "\\tag{2}\n",
        "$$\n",
        "Here $\\beta_n$ is the angle between incident light beam and  deviated beam of order $n$, which we can measure rather accurately in optical spectroscopy experiment.\n",
        "\n",
        "For $\\alpha_0=0$ (light falls ⟂) we receive eq.(1).\n",
        "\n",
        "Otherwise we expect to see non-symmetry in deviation angles $\\beta_{\\pm n}$ ."
      ],
      "metadata": {
        "id": "9F0J-kvIrz2k"
      }
    },
    {
      "cell_type": "markdown",
      "source": [
        "## Lattice angle position\n",
        "\n",
        "\n",
        "We can neither ensure $\\alpha_0=0$ nor accurately measure $\\alpha_0$ directly due to construction of the experiment set.\n",
        "\n",
        "The unknown angle $\\alpha_0$ between lattice plane perpendicular and light beam can be found indirectly by measuring $\\beta_{\\pm 1}$, even when lattice period $d$ and wavelength $\\lambda$ are also unknown. For a pair $\\pm n$ using eq.(2) we have  \n",
        "$$\n",
        "\\sin \\frac{\\beta_{+n}}{2} \\cos\\left( \\alpha_0 + \\frac{\\beta_{+n}}{2}\\right) + \\sin \\frac{\\beta_{-n}}{2} \\cos\\left( \\alpha_0 + \\frac{\\beta_{-n}}{2}\\right) =0.   \n",
        "$$\n",
        "We have one equation with one unknown parameter $\\alpha_0$. It can be easiliy solved analytically. Denoting for first series $n=\\pm1$\n",
        "$$\n",
        "c_{1} = \\cos\\frac{\\beta_{+1}}{2}, \\quad s_{1} = \\sin\\frac{\\beta_{+1}}{2}, \\\\\n",
        "c_{2} = \\cos\\frac{\\beta_{-1}}{2}, \\quad s_{2} = \\sin\\frac{\\beta_{-1}}{2}, \\\\\n",
        "C = c_{1} s_{1} + c_{2} s_{2}, \\quad\n",
        "D = s_{1}^2 + s_{2}^2\n",
        "$$\n",
        "we found\n",
        "$$\n",
        "\\alpha_0 = \\arccos\\frac{D}{\\sqrt{C^2+D^2}}.\n",
        "$$\n",
        "Since we measure $\\beta_n$ rather accurately, accuracy of $\\alpha_0$ is also reasonably high. Uncertainty of $\\alpha_0$ can be decreased further by averaging $\\alpha_0$ for all known pairs.  "
      ],
      "metadata": {
        "id": "ufvxJARPFAE5"
      }
    },
    {
      "cell_type": "markdown",
      "source": [
        "## Digital simulation"
      ],
      "metadata": {
        "id": "RZ4fOegUq_b-"
      }
    },
    {
      "cell_type": "code",
      "source": [
        "# calculate\n",
        "def get_alpha0(beta_plus, beta_minus):\n",
        "  c1 = np.cos(beta_plus/2)\n",
        "  s1 = np.sin(beta_plus/2)\n",
        "  c2 = np.cos(beta_minus/2)\n",
        "  s2 = np.sin(beta_minus/2)\n",
        "  D = s1*s1 + s2*s2\n",
        "  C = c1*s1 + c2*s2\n",
        "  acos = D / np.sqrt(C*C + D*D)\n",
        "  alpha0_arr = np.arccos(acos)\n",
        "  alpha0 = np.mean(alpha0_arr)\n",
        "  alpha0_err = np.std(alpha0_arr) / np.sqrt(len(alpha0_arr) - 1)\n",
        "  return alpha0, alpha0_err\n",
        "\n"
      ],
      "metadata": {
        "id": "D1A8taAhry-z"
      },
      "execution_count": 130,
      "outputs": []
    },
    {
      "cell_type": "code",
      "source": [
        "N = 1000\n",
        "\n",
        "d = 2e-6\n",
        "n = 1\n",
        "lm = 500e-9 # green\n",
        "\n",
        "func = lambda beta: 2* np.sin(beta/180*np.pi /2) * np.cos((a0 + beta/2)/180*np.pi ) - n * lm / d\n",
        "beta_initial_guess = 0\n",
        "\n",
        "beta = []\n",
        "a0_arr = np.linspace(-45, 45, N)\n",
        "for a0 in a0_arr:\n",
        "\n",
        "  beta_solution = fsolve(func, beta_initial_guess)[0]\n",
        "  beta.append(beta_solution)\n",
        "beta = np.array(beta)\n",
        "arrowprops=dict(arrowstyle=\"->\", facecolor='gray', linewidth=1)\n",
        "\n",
        "plt.plot(a0_arr, beta, '-', color='green', label=f'{lm*1e9} nm green n=1')\n",
        "ix = np.argmin(beta)\n",
        "plt.plot(a0_arr[ix], beta[ix], '1', color='green')\n",
        "(x, y) = a0_arr[ix], beta[ix]\n",
        "plt.annotate( rf'$(\\alpha_0, \\beta)^\\circ = $({a0_arr[ix]:.1f},{beta[ix]:.1f})', xy=(x,y), xytext=(x-5, y+0.4),\n",
        "             arrowprops=arrowprops)\n",
        "\n",
        "#\n",
        "a0 = 0\n",
        "beta_zero = fsolve(func, beta_initial_guess)[0]\n",
        "plt.plot(a0, beta_zero, '.', color='green')\n",
        "\n",
        "\n",
        "\n",
        "plt.xlabel(r'$\\alpha_0$ Angle between light and $\\perp$ to lattice plane (degrees)')\n",
        "plt.ylabel(r'$\\beta$ Deviation angle between light-in and light-out (degrees)')\n",
        "\n",
        "plt.ylim(14 , 16 )\n",
        "plt.xlim(-15 , 15 )\n",
        "#plt.yscale('log')\n",
        "plt.grid()\n",
        "plt.legend()"
      ],
      "metadata": {
        "colab": {
          "base_uri": "https://localhost:8080/",
          "height": 476
        },
        "id": "s9pEpw8I_DYw",
        "outputId": "72630c87-f28e-4e0d-92a8-38902d1e3f4b"
      },
      "execution_count": 122,
      "outputs": [
        {
          "output_type": "execute_result",
          "data": {
            "text/plain": [
              "<matplotlib.legend.Legend at 0x79052f498f70>"
            ]
          },
          "metadata": {},
          "execution_count": 122
        },
        {
          "output_type": "display_data",
          "data": {
            "text/plain": [
              "<Figure size 640x480 with 1 Axes>"
            ],
            "image/png": "[encoded data removed]"
          },
          "metadata": {}
        }
      ]
    },
    {
      "cell_type": "markdown",
      "source": [
        "**Conclusion**\n",
        "\n",
        "Variations in lattice angle $\\alpha_0$ in order of degrees near zero lead to variations in deviation angle $\\beta$ in order of $10^{-1}$, i.e. third or even second meaningful digit.\n",
        "\n",
        "Therefore neglecting lattice plane rotation leads to systematic value estimation error in order $10^0 - 10^1$ nm for visible light having wavelengths of order $10^2 $ nm.\n",
        "\n"
      ],
      "metadata": {
        "id": "ScufkgwNYjUx"
      }
    },
    {
      "cell_type": "markdown",
      "source": [
        "# Measurements"
      ],
      "metadata": {
        "id": "eDawbTkKrO6o"
      }
    },
    {
      "cell_type": "markdown",
      "source": [
        "## Set #2"
      ],
      "metadata": {
        "id": "A7BkOCpFL5w9"
      }
    },
    {
      "cell_type": "code",
      "source": [
        "## lattice parameter estimation with Merucry green line\n",
        "# Mercury green line\n",
        "lmbd = 545e-9 #m\n",
        "\n",
        "measurements = '''\n",
        "# green\n",
        "-15.435 -1\n",
        "16.155 1\n",
        "# violet\n",
        "-12.42 -1\n",
        "12.96 1\n",
        "# yellow\n",
        "-16.785 -1\n",
        "17.37 1\n",
        "# weak (? violet)\n",
        "-24.84 -2\n",
        "26.64 2\n",
        "'''\n",
        "\n",
        "beta, n = np.genfromtxt(measurements.splitlines(), unpack=True)\n",
        "\n",
        "beta *= np.pi / 180\n",
        "\n",
        "beta1 = beta[beta<0]\n",
        "beta2 = beta[beta > 0]\n",
        "\n",
        "alpha0, alpha0_err = get_alpha0(beta1, beta2)\n",
        "print(f'alpha0: {deg(alpha0):.1f} ± {deg(alpha0_err):.1f} degree')\n",
        "\n",
        "d = n * lmbd / np.sin(beta/2) * np.cos(alpha0 + beta/2) / 2\n",
        "print(rf'd = {np.mean(d *1e6):.1f} ± {np.std(d*1e6):.1f} um')\n"
      ],
      "metadata": {
        "id": "J-FTA0l50u3Y",
        "outputId": "27caef14-ae3c-4e51-c1d5-ebe6ed97206d",
        "colab": {
          "base_uri": "https://localhost:8080/"
        }
      },
      "execution_count": 123,
      "outputs": [
        {
          "output_type": "stream",
          "name": "stdout",
          "text": [
            "alpha0: 8.5 ± 0.9 degree\n",
            "d = 2.1 ± 0.3 um\n"
          ]
        }
      ]
    },
    {
      "cell_type": "markdown",
      "source": [
        ">  **Conclusion**\n",
        ">\n",
        "> Calculating lattice constant $d$ having few measurement points leads to a high uncertainty. Therefore we will take nominal $d$ value for further steps."
      ],
      "metadata": {
        "id": "9XejYQUbfTV0"
      }
    },
    {
      "cell_type": "markdown",
      "source": [
        "Hydrogen"
      ],
      "metadata": {
        "id": "lhkR9c_m4HxW"
      }
    },
    {
      "cell_type": "markdown",
      "source": [
        "Measured with spectrograph\n",
        "\n",
        "![H](https://github.com/tphlabs/data/blob/main/Lab4_SP/hydrogen.png?raw=true')"
      ],
      "metadata": {
        "id": "dr1wLUD8SOvU"
      }
    },
    {
      "cell_type": "code",
      "source": [
        "colors = ['Violet 434', 'Cian 486', 'Red 657']\n",
        "\n",
        "# set2 lattice parameter\n",
        "d = 2e-6 #m\n",
        "print(rf'Set 2 Nominal d = {d*1e6:.2f} um')\n",
        "\n",
        "measurements = '''\n",
        "# beta(degrees) order color_index\n",
        "# violet color=0\n",
        "-12.33 -1 0\n",
        "12.735 1 0\n",
        "# cian strong, color=1\n",
        "-14.175 -1 1\n",
        "14.31 1 1\n",
        "29.655 +2 1\n",
        "# red strong, color=2\n",
        "-19.26 -1 2\n",
        "19.485 1 2\n",
        "42.03 +2 2\n",
        "# weak - not identified\n",
        "#-28.845 -2\n",
        "#-46.71\n",
        "#26.01\n",
        "'''\n",
        "\n",
        "beta, n, color_index = np.genfromtxt(measurements.splitlines(), unpack=True)\n",
        "beta *=  np.pi/180\n",
        "\n",
        "beta1 = beta[n == -1]\n",
        "beta2 = beta[n == +1]\n",
        "\n",
        "alpha0, alpha0_err = get_alpha0(beta1, beta2)\n",
        "print(rf'alpha0 = {deg(alpha0):.1f} ± {deg(alpha0_err):.1f} degree')\n",
        "\n",
        "for ix in range(3):\n",
        "  b = beta[color_index == ix]\n",
        "  n_ix =  n[color_index == ix]\n",
        "  lmbd = 2 * d *  np.sin(b / 2) * np.cos(alpha0 + b / 2) /n_ix\n",
        "  lmbd_mean = np.mean(lmbd)\n",
        "  lmbd_err = np.std(lmbd) / np.sqrt(len(lmbd) - 1)\n",
        "  lmbd_n = len(lmbd)\n",
        "  print(rf'{colors[ix]:<15}: lambda = {lmbd_mean*1e9:.0f} ± {lmbd_err*1e9:.0f}nm, {lmbd_n:d} points' )"
      ],
      "metadata": {
        "colab": {
          "base_uri": "https://localhost:8080/"
        },
        "id": "IQa_N2s04MnN",
        "outputId": "6906209a-e91b-4d69-c1f6-33dde1e9b451"
      },
      "execution_count": 128,
      "outputs": [
        {
          "output_type": "stream",
          "name": "stdout",
          "text": [
            "Set 2 Nominal d = 2.00 um\n",
            "alpha0 = 4.1 ± 2.1 degree\n",
            "Violet 434     : lambda = 433 ± 3nm, 2 points\n",
            "Cian 486       : lambda = 489 ± 2nm, 3 points\n",
            "Red 657        : lambda = 658 ± 5nm, 3 points\n"
          ]
        }
      ]
    },
    {
      "cell_type": "markdown",
      "source": [
        "## Set #3"
      ],
      "metadata": {
        "id": "NsKpLz59MOkZ"
      }
    },
    {
      "cell_type": "code",
      "source": [
        "# Mercury green line\n",
        "lmbd = 545e-9 #m\n",
        "measurements = '''\n",
        "# green\n",
        "-19.26 18.99\n",
        "# green weak 2\n",
        "-44.235 39.51\n",
        "'''"
      ],
      "metadata": {
        "id": "5IRAT7ScUMVS"
      },
      "execution_count": 124,
      "outputs": []
    },
    {
      "cell_type": "markdown",
      "source": [
        "Hydrogen"
      ],
      "metadata": {
        "id": "eOUJpl9WUPzh"
      }
    },
    {
      "cell_type": "code",
      "source": [
        "d = 1e-3/600\n",
        "print(rf'Set 3 Nominal d = {d*1e6:.2f} um')\n",
        "\n",
        "colors = ['Violet 434', 'Cian 486', 'Red 657']\n",
        "\n",
        "measurements = '''\n",
        "# beta(degrees) order color_index\n",
        "# violet\n",
        "-14.85 -1 0\n",
        "15.165 1 0\n",
        "# cian strong\n",
        "-17.01 -1 1\n",
        "17.055 1 1\n",
        "35.865 2 1\n",
        "-35.775 -2 1\n",
        "-61.29 -3 1\n",
        "61.65 3 1\n",
        "# red strong\n",
        "-23.265 -1 2\n",
        "23.31 1 2\n",
        "-52.065 -2 2\n",
        "52.335 2 2\n",
        "'''\n",
        "\n",
        "beta, n, color_index = np.genfromtxt(measurements.splitlines(), unpack=True)\n",
        "beta *=  np.pi/180\n",
        "\n",
        "beta1 = beta[n == -1]\n",
        "beta2 = beta[n == +1]\n",
        "\n",
        "alpha0, alpha0_err = get_alpha0(beta1, beta2)\n",
        "print(rf'alpha0= {deg(alpha0):.1f} ± {deg(alpha0_err):.1f} degree')\n",
        "\n",
        "for ix in range(3):\n",
        "  b = beta[color_index == ix]\n",
        "  n_ix =  n[color_index == ix]\n",
        "  lmbd = 2 * d *  np.sin(b/2) * np.cos(alpha0 + b/2) /n_ix\n",
        "  lmbd_mean = np.mean(lmbd)\n",
        "  lmbd_err = np.std(lmbd) / np.sqrt(len(lmbd) - 1)\n",
        "  lmbd_n = len(lmbd)\n",
        "  print(rf'{colors[ix]:<15}: lambda = {lmbd_mean*1e9:.0f} ± {lmbd_err*1e9:.0f}nm, {lmbd_n:d} points' )"
      ],
      "metadata": {
        "id": "cNwX-aMNMTcb",
        "outputId": "1fb7f618-974a-4520-eda2-a2034e9e75a6",
        "colab": {
          "base_uri": "https://localhost:8080/"
        }
      },
      "execution_count": 129,
      "outputs": [
        {
          "output_type": "stream",
          "name": "stdout",
          "text": [
            "Set 3 Nominal d = 1.67 um\n",
            "alpha0= 1.7 ± 1.4 degree\n",
            "Violet 434     : lambda = 431 ± 3nm, 2 points\n",
            "Cian 486       : lambda = 488 ± 2nm, 6 points\n",
            "Red 657        : lambda = 658 ± 4nm, 4 points\n"
          ]
        }
      ]
    },
    {
      "cell_type": "markdown",
      "source": [
        "# References"
      ],
      "metadata": {
        "id": "oG1hnq3Eej7m"
      }
    },
    {
      "cell_type": "markdown",
      "source": [
        "- \"Physics Laboratory Manual\", 3d ed., Wall , Levine and Christensen, Experiment 75 Wave Length of Light: Diffraction Grating, p.297, eq.75.2 and 75.3\n"
      ],
      "metadata": {
        "id": "_VAOtJVQenWO"
      }
    },
    {
      "cell_type": "code",
      "source": [],
      "metadata": {
        "id": "CIsgDE3_oYGY"
      },
      "execution_count": null,
      "outputs": []
    }
  ]
}
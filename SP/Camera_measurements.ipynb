{
  "nbformat": 4,
  "nbformat_minor": 0,
  "metadata": {
    "colab": {
      "provenance": [],
      "toc_visible": true,
      "include_colab_link": true
    },
    "kernelspec": {
      "name": "python3",
      "display_name": "Python 3"
    },
    "language_info": {
      "name": "python"
    }
  },
  "cells": [
    {
      "cell_type": "markdown",
      "metadata": {
        "id": "view-in-github",
        "colab_type": "text"
      },
      "source": [
        "<a href=\"https://colab.research.google.com/github/evgeny-kolonsky/Lab4/blob/main/SP/Camera_measurements.ipynb\" target=\"_parent\"><img src=\"https://colab.research.google.com/assets/colab-badge.svg\" alt=\"Open In Colab\"/></a>"
      ]
    },
    {
      "cell_type": "markdown",
      "source": [
        "<font size=6> Wavelengths measurements with digital camera</font>\n",
        "\n",
        "Evgeny Kolonsky, 2025\n",
        "\n",
        "v.0.3.0"
      ],
      "metadata": {
        "id": "Zq95I3TgpqQn"
      }
    },
    {
      "cell_type": "code",
      "source": [
        "import numpy as np\n",
        "import matplotlib.pyplot as plt\n",
        "from scipy.optimize import fsolve\n",
        "from math import degrees as deg"
      ],
      "metadata": {
        "id": "EAaoQlotrqHq"
      },
      "execution_count": 1,
      "outputs": []
    },
    {
      "cell_type": "markdown",
      "source": [
        "# Model"
      ],
      "metadata": {
        "id": "PeEUt1iutOCy"
      }
    },
    {
      "cell_type": "markdown",
      "source": [
        "Theoretical expression for light diffraction when incident light assumed to be perpendicutalr to lattice is\n",
        "$$\n",
        "n \\lambda = d \\sin \\beta_n,\n",
        "\\tag{1}\n",
        "$$\n",
        "where $\\lambda$ - light wave length, $d$ - diffraction grating parameter, $n$ - order number, $\\beta_n$ - deviation angle of order $n$ light beam.\n",
        "\n",
        "When incident light falls under an arbitrary angle $\\alpha_0$ to lattice plane perpendicular, the expression is written in form\n",
        "$$ 2 d \\sin\\frac{\\beta_n}{2} \\cos\\left(\\alpha_0 +\\frac{\\beta_n}{2}\\right)\n",
        "= n \\lambda\n",
        ", \\quad n =  \\pm 1, \\pm 2, ..\n",
        "\\tag{2}\n",
        "$$\n",
        "Here $\\beta_n$ is the angle between incident light beam and  deviated beam of order $n$, which we can measure rather accurately in optical spectroscopy experiment.\n",
        "\n",
        "For $\\alpha_0=0$ (light falls ⟂) we receive eq.(1).\n",
        "\n",
        "Otherwise we expect to see non-symmetry in deviation angles $\\beta_{\\pm n}$ ."
      ],
      "metadata": {
        "id": "9F0J-kvIrz2k"
      }
    },
    {
      "cell_type": "markdown",
      "source": [
        "## Lattice angle position\n",
        "\n",
        "\n",
        "We can neither ensure $\\alpha_0=0$ nor accurately measure $\\alpha_0$ directly due to construction of the experiment set.\n",
        "\n",
        "The unknown angle $\\alpha_0$ between lattice plane perpendicular and light beam can be found indirectly by measuring $\\beta_{\\pm 1}$, even when lattice period $d$ and wavelength $\\lambda$ are also unknown. For a pair $\\pm n$ using eq.(2) we have  \n",
        "$$\n",
        "\\sin \\frac{\\beta_{+n}}{2} \\cos\\left( \\alpha_0 + \\frac{\\beta_{+n}}{2}\\right) + \\sin \\frac{\\beta_{-n}}{2} \\cos\\left( \\alpha_0 + \\frac{\\beta_{-n}}{2}\\right) =0.   \n",
        "$$\n",
        "We have one equation with one unknown parameter $\\alpha_0$. It can be easiliy solved analytically. Denoting for first series $n=\\pm1$\n",
        "$$\n",
        "c_{1} = \\cos\\frac{\\beta_{+1}}{2}, \\quad s_{1} = \\sin\\frac{\\beta_{+1}}{2}, \\\\\n",
        "c_{2} = \\cos\\frac{\\beta_{-1}}{2}, \\quad s_{2} = \\sin\\frac{\\beta_{-1}}{2}, \\\\\n",
        "C = c_{1} s_{1} + c_{2} s_{2}, \\quad\n",
        "D = s_{1}^2 + s_{2}^2\n",
        "$$\n",
        "we found\n",
        "$$\n",
        "\\alpha_0 = \\arccos\\frac{D}{\\sqrt{C^2+D^2}}.\n",
        "$$\n",
        "Since we measure $\\beta_n$ rather accurately, accuracy of $\\alpha_0$ is also reasonably high. Uncertainty of $\\alpha_0$ can be decreased further by averaging $\\alpha_0$ for all known pairs.  "
      ],
      "metadata": {
        "id": "ufvxJARPFAE5"
      }
    },
    {
      "cell_type": "code",
      "source": [
        "def get_alpha0(beta_plus, beta_minus):\n",
        "  c1 = np.cos(beta_plus/2)\n",
        "  s1 = np.sin(beta_plus/2)\n",
        "  c2 = np.cos(beta_minus/2)\n",
        "  s2 = np.sin(beta_minus/2)\n",
        "  D = s1*s1 + s2*s2\n",
        "  C = c1*s1 + c2*s2\n",
        "  acos = D / np.sqrt(C*C + D*D)\n",
        "  alpha0_arr = np.arccos(acos)\n",
        "  alpha0 = np.mean(alpha0_arr)\n",
        "  alpha0_err = np.std(alpha0_arr) / np.sqrt(len(alpha0_arr) - 1)\n",
        "  return alpha0, alpha0_err\n",
        "\n",
        "def get_pairs(beta, colors, orders):\n",
        "  def get_pair(color_ind, order):\n",
        "    beta_plus = beta[(color_index == color_ind) & (n == order)]\n",
        "    beta_minus = beta[(color_index == color_ind) & (n == -order)]\n",
        "    if len(beta_plus) == 1 and len(beta_minus) == 1:\n",
        "      return (beta_plus[0], beta_minus[0])\n",
        "    else:\n",
        "      return None\n",
        "  betas = [get_pair(color_ind, order) for color_ind in np.unique(colors) for order in np.unique(orders)]\n",
        "  beta_plus = np.array([b[0] for b in betas if b is not None])\n",
        "  beta_minus = np.array([b[1] for b in betas if b is not None])\n",
        "  return beta_plus, beta_minus"
      ],
      "metadata": {
        "id": "nrJYRyS0WuBK"
      },
      "execution_count": 30,
      "outputs": []
    },
    {
      "cell_type": "markdown",
      "source": [
        "# Measurements"
      ],
      "metadata": {
        "id": "eDawbTkKrO6o"
      }
    },
    {
      "cell_type": "markdown",
      "source": [
        "## Set #2"
      ],
      "metadata": {
        "id": "A7BkOCpFL5w9"
      }
    },
    {
      "cell_type": "markdown",
      "source": [
        "Measuring lattice parameter $d$ with Mercury lamp"
      ],
      "metadata": {
        "id": "h8kpPM_g-8ok"
      }
    },
    {
      "cell_type": "markdown",
      "source": [
        "Measured with spectrograph\n",
        "\n",
        "![H](https://github.com/tphlabs/data/blob/main/Lab4_SP/mercury.png?raw=true')"
      ],
      "metadata": {
        "id": "cPXPAkZ4M2rr"
      }
    },
    {
      "cell_type": "code",
      "source": [
        "# lattice parameter estimation with Merucry green line\n",
        "\n",
        "measurements = '''\n",
        "# color_index beta(degrees) order\n",
        "# 1 - violet, 2 blue, 3 green, 4,5 - yellow, 6,7 - red\n",
        "# order 1\n",
        "1 7.065 1\n",
        "2 7.56 1\n",
        "3 9.495 1\n",
        "4 10.035 1\n",
        "5 10.035 1\n",
        "# order 2\n",
        "1 14.13 2\n",
        "2 15.21 2\n",
        "3 19.125 2\n",
        "4 20.25 2\n",
        "5 20.295 2\n",
        "# order 3\n",
        "1 21.33 3\n",
        "2 23.04 3\n",
        "3 29.205 3\n",
        "4 31.005 3\n",
        "5 31.14 3\n",
        "# order 4\n",
        "1 28.89 4\n",
        "2 31.275 4\n",
        "3 40.32 4\n",
        "# order -1\n",
        "1 -7.065 -1\n",
        "2 -7.605 -1\n",
        "3 -9.54 -1\n",
        "4 -10.125 -1\n",
        "5 -10.125 -1\n",
        "# order -2\n",
        "1 -14.265 -2\n",
        "2 -15.39 -2\n",
        "3 -19.486 -2\n",
        "# order -3\n",
        "1 -21.85 -3\n",
        "2 -23.625 -3\n",
        "3 -30.24 -3\n",
        "4 -32.175 -3\n",
        "5 -32.31 -3\n",
        "# order -4\n",
        "2 -32.445 -4\n",
        "3 -42.57 -4\n",
        "'''\n",
        "\n",
        "color_index, beta, n = np.genfromtxt(measurements.splitlines(), unpack=True)\n",
        "\n",
        "beta *= np.pi / 180\n",
        "\n",
        "beta_plus, beta_minus = get_pairs(beta, color_index, n)\n",
        "\n",
        "alpha0, alpha0_err = get_alpha0(beta_plus, beta_minus)\n",
        "print(f'alpha0: {deg(alpha0):.1f} ± {deg(alpha0_err):.1f} degree')\n"
      ],
      "metadata": {
        "id": "J-FTA0l50u3Y",
        "outputId": "e12dbf5d-e37b-492d-ac11-eb43ece5f338",
        "colab": {
          "base_uri": "https://localhost:8080/"
        }
      },
      "execution_count": 50,
      "outputs": [
        {
          "output_type": "stream",
          "name": "stdout",
          "text": [
            "alpha0: 2.7 ± 0.2 degree\n"
          ]
        }
      ]
    },
    {
      "cell_type": "code",
      "source": [
        "beta_green = beta[color_index == 3]\n",
        "n_green = n[color_index == 3]\n",
        "\n",
        "lmbd_green = 545e-9 #m\n",
        "d_arr = n_green * lmbd_green / ( 2 * np.sin(beta_green/2) * np.cos(alpha0 + beta_green/2) )\n",
        "d = np.mean(d_arr)\n",
        "d_err = np.std(d_arr) / np.sqrt(len(d_arr) - 1)\n",
        "print(rf'd = {d *1e6:.2f} ± {d_err*1e6:.2f} um')\n",
        "print(rf'd nominal 7500/inch = {25.4e-3 / 7500 *1e6:.2f} um')\n"
      ],
      "metadata": {
        "id": "wVfrS5eUzm8z",
        "outputId": "50b5ae2e-0f1d-4815-afdc-bc8367ff9444",
        "colab": {
          "base_uri": "https://localhost:8080/"
        }
      },
      "execution_count": 51,
      "outputs": [
        {
          "output_type": "stream",
          "name": "stdout",
          "text": [
            "d = 3.30 ± 0.03 um\n",
            "d nominal 7500/inch = 3.39 um\n"
          ]
        }
      ]
    },
    {
      "cell_type": "code",
      "source": [
        "colors = ['Unknown', 'Violet 404', 'Blue 436', 'Green 546', 'yellow 577',\n",
        "          'yellow 579']\n",
        "for ix in range(len(colors)):\n",
        "  b = beta[color_index == ix]\n",
        "  n_ix =  n[color_index == ix]\n",
        "  lmbd = 2 * d *  np.sin(b / 2) * np.cos(alpha0 + b / 2) /n_ix\n",
        "  lmbd_mean = np.mean(lmbd)\n",
        "  lmbd_err = np.std(lmbd) / np.sqrt(len(lmbd) - 1)\n",
        "  lmbd_n = len(lmbd)\n",
        "  print(rf'{colors[ix]:<15}: lambda = {lmbd_mean*1e9:.0f} ± {lmbd_err*1e9:.0f} nm, {lmbd_n:d} points' )\n",
        ""
      ],
      "metadata": {
        "id": "QGYQlJdx235N",
        "outputId": "3b00cdbf-e078-46f6-c17a-9752cb486c5e",
        "colab": {
          "base_uri": "https://localhost:8080/"
        }
      },
      "execution_count": 53,
      "outputs": [
        {
          "output_type": "stream",
          "name": "stdout",
          "text": [
            "Unknown        : lambda = nan ± nan nm, 0 points\n",
            "Violet 404     : lambda = 403 ± 3 nm, 7 points\n",
            "Blue 436       : lambda = 435 ± 3 nm, 8 points\n",
            "Green 546      : lambda = 545 ± 5 nm, 8 points\n",
            "yellow 577     : lambda = 574 ± 6 nm, 5 points\n",
            "yellow 579     : lambda = 576 ± 6 nm, 5 points\n"
          ]
        },
        {
          "output_type": "stream",
          "name": "stderr",
          "text": [
            "<ipython-input-53-a4749c1e5b50>:8: RuntimeWarning: invalid value encountered in sqrt\n",
            "  lmbd_err = np.std(lmbd) / np.sqrt(len(lmbd) - 1)\n"
          ]
        }
      ]
    },
    {
      "cell_type": "markdown",
      "source": [
        "Hydrogen"
      ],
      "metadata": {
        "id": "lhkR9c_m4HxW"
      }
    },
    {
      "cell_type": "markdown",
      "source": [
        "Measured with spectrograph\n",
        "\n",
        "![H](https://github.com/tphlabs/data/blob/main/Lab4_SP/hydrogen.png?raw=true')"
      ],
      "metadata": {
        "id": "dr1wLUD8SOvU"
      }
    },
    {
      "cell_type": "code",
      "source": [
        "colors = ['Unidentified', 'Violet 434', 'Cian 486', 'Red 657']\n",
        "\n",
        "print(rf'd = {d*1e6:.2f} um')\n",
        "\n",
        "measurements = '''\n",
        "# coor_index beta(degrees) order\n",
        "# order +1, -1\n",
        "1 7.695 1\n",
        "2 8.55 1\n",
        "3 11.565 1\n",
        "# 0 - unidentified blueish -7.02\n",
        "1 -7.38 -1\n",
        "2 -8.325 -1\n",
        "3 -11.43 -1\n",
        "# order +2, -2\n",
        "1 15.45 2\n",
        "1 -15.435 -2\n",
        "2 17.19 2\n",
        "2 -17.415 -2\n",
        "3 23.715 2\n",
        "3 -23.805 -2\n",
        "# order +3, -3\n",
        "1 23.49 3\n",
        "1 -23.58 -3\n",
        "2 26.595 3\n",
        "2 -26.64 -3\n",
        "3 37.08 3\n",
        "3 -37.44 -3\n",
        "# order 4 - weak blue or cyan?\n",
        "# 1 36.54 4\n",
        "# 1 -36.855 -4\n",
        "'''\n",
        "\n",
        "color_index, beta, n = np.genfromtxt(measurements.splitlines(), unpack=True)\n",
        "\n",
        "beta *= np.pi / 180\n",
        "\n",
        "beta_plus, beta_minus = get_pairs(beta, color_index, n)\n",
        "\n",
        "alpha0, alpha0_err = get_alpha0(beta_plus, beta_minus)\n",
        "print(f'alpha0: {deg(alpha0):.1f} ± {deg(alpha0_err):.1f} degree')\n",
        "\n",
        "for ix in range(1, 4):\n",
        "  b = beta[color_index == ix]\n",
        "  n_ix =  n[color_index == ix]\n",
        "  lmbd = 2 * d *  np.sin(b / 2) * np.cos(alpha0 + b / 2) /n_ix\n",
        "  lmbd_mean = np.mean(lmbd)\n",
        "  lmbd_err = np.std(lmbd) / np.sqrt(len(lmbd) - 1)\n",
        "  lmbd_n = len(lmbd)\n",
        "  print(rf'{colors[ix]:<15}: lambda = {lmbd_mean*1e9:.0f} ± {lmbd_err*1e9:.0f} nm, {lmbd_n:d} points' )"
      ],
      "metadata": {
        "colab": {
          "base_uri": "https://localhost:8080/"
        },
        "id": "IQa_N2s04MnN",
        "outputId": "a9505fcf-45d0-4897-f72d-98e1a436ebb8"
      },
      "execution_count": 55,
      "outputs": [
        {
          "output_type": "stream",
          "name": "stdout",
          "text": [
            "d = 3.30 um\n",
            "alpha0: 3.9 ± 1.4 degree\n",
            "Violet 434     : lambda = 436 ± 3 nm, 6 points\n",
            "Cian 486       : lambda = 488 ± 4 nm, 6 points\n",
            "Red 657        : lambda = 662 ± 6 nm, 6 points\n"
          ]
        }
      ]
    },
    {
      "cell_type": "markdown",
      "source": [
        "# References"
      ],
      "metadata": {
        "id": "oG1hnq3Eej7m"
      }
    },
    {
      "cell_type": "markdown",
      "source": [
        "- \"Physics Laboratory Manual\", 3d ed., Wall , Levine and Christensen, Experiment 75 Wave Length of Light: Diffraction Grating, p.297, eq.75.2 and 75.3\n"
      ],
      "metadata": {
        "id": "_VAOtJVQenWO"
      }
    },
    {
      "cell_type": "code",
      "source": [],
      "metadata": {
        "id": "CIsgDE3_oYGY"
      },
      "execution_count": null,
      "outputs": []
    }
  ]
}
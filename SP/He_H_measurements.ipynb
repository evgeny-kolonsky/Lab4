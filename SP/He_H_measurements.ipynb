{
  "cells": [
    {
      "cell_type": "markdown",
      "metadata": {
        "id": "view-in-github",
        "colab_type": "text"
      },
      "source": [
        "<a href=\"https://colab.research.google.com/github/evgeny-kolonsky/Lab4/blob/main/SP/He_H_measurements.ipynb\" target=\"_parent\"><img src=\"https://colab.research.google.com/assets/colab-badge.svg\" alt=\"Open In Colab\"/></a>"
      ]
    },
    {
      "cell_type": "markdown",
      "metadata": {
        "id": "Zq95I3TgpqQn"
      },
      "source": [
        "<font size=6> Wavelengths measurements with diffraction grating</font>\n",
        "\n",
        "Evgeny Kolonsky, 2025\n",
        "\n",
        "v.0.4.7"
      ]
    },
    {
      "cell_type": "code",
      "source": [
        "! pip install uncertainties"
      ],
      "metadata": {
        "id": "svCpgXtGVcfe",
        "outputId": "177bc7b6-27bd-423b-f4ea-6fc4aa071a77",
        "colab": {
          "base_uri": "https://localhost:8080/"
        }
      },
      "execution_count": 81,
      "outputs": [
        {
          "output_type": "stream",
          "name": "stdout",
          "text": [
            "Requirement already satisfied: uncertainties in /usr/local/lib/python3.11/dist-packages (3.2.3)\n"
          ]
        }
      ]
    },
    {
      "cell_type": "code",
      "execution_count": 82,
      "metadata": {
        "id": "EAaoQlotrqHq"
      },
      "outputs": [],
      "source": [
        "import numpy as np\n",
        "import matplotlib.pyplot as plt\n",
        "from matplotlib import colors as mcolors\n",
        "from scipy.optimize import fsolve\n",
        "from uncertainties import ufloat, unumpy as unp\n",
        "from uncertainties.umath import sin, atan, cos\n",
        "from scipy.constants import *\n",
        "import math\n"
      ]
    },
    {
      "cell_type": "code",
      "source": [
        "# weighted average\n",
        "def umean(ux: unp.uarray) -> ufloat:\n",
        "  values = unp.nominal_values(ux)\n",
        "  uncertainties = unp.std_devs(ux)\n",
        "  if np.prod(uncertainties) == 0: # algorythm fails when at  sigma=0\n",
        "    res =  ufloat( np.mean(values), np.mean(uncertainties))\n",
        "  else:\n",
        "    weights = 1 / uncertainties**2\n",
        "    weighted_average = sum(values * weights) / sum(weights)\n",
        "    weighted_error = 1 / np.sqrt(sum(weights))\n",
        "    res = ufloat(weighted_average, weighted_error)\n",
        "  return res\n",
        "\n",
        "RESOLUTION = 360 / 8000 # deg\n",
        "beta_err = 2* RESOLUTION * np.pi / 180 # rad\n",
        "\n"
      ],
      "metadata": {
        "id": "7aHyMYfWaUJv"
      },
      "execution_count": 83,
      "outputs": []
    },
    {
      "cell_type": "markdown",
      "metadata": {
        "id": "PeEUt1iutOCy"
      },
      "source": [
        "# Model"
      ]
    },
    {
      "cell_type": "markdown",
      "metadata": {
        "id": "9F0J-kvIrz2k"
      },
      "source": [
        "Theoretical expression for light diffraction when incident light is assumed to be perpendicular to grating  is\n",
        "$$    \n",
        "n \\lambda = d \\sin \\beta_n,\n",
        "    \\tag{1}    \n",
        "$$\n",
        "where $\\lambda$ - light wave length, $d$ - diffraction grating parameter, $n$ - diffraction order number, $\\beta_n$ - diffraction angle incident light and diffracted light of order $n$.\n",
        "\n",
        "When incident light falls under an arbitrary angle $\\alpha_0$ relative to the grating plane perpendicular, the expression is written in form \\cite{PhysLabManual-1972}\n",
        "$$\n",
        "n \\lambda = 2 d \\sin \\frac{\\beta_n}{2} \\cos\\left(\\alpha_0 +\n",
        "\\frac{\\beta_n}{2} \\right) , \\quad n =  \\pm 1, \\pm 2, ..\n",
        "\\tag{2}   \n",
        "$$\n",
        "\n",
        "For $\\alpha_0=0$ (light falls perpendicularly) we receive eq.(1).  \n",
        "\n",
        "\n",
        "The unknown angle $\\alpha_0$ between grating plane perpendicular and light beam can be found directly by measuring $\\beta_{\\pm n}$ of symmetric orders $\\pm n$, even when  grating period $d$ and wavelength $\\lambda$ are  unknown. Denoting for simplicity $\\beta_+$ and $\\beta_-$ diffraction angles for an arbitrary orders $\\pm n$ in eq.(2), we have  \n",
        "$$\n",
        "\\sin \\frac{\\beta_{+}}{2} \\cos\\left( \\alpha_0 + \\frac{\\beta_{+}}{2}\\right) + \\sin \\frac{\\beta_{-}}{2} \\cos\\left( \\alpha_0 + \\frac{\\beta_{-}}{2}\\right) =0.\n",
        "\\tag{3}\n",
        "$$\n",
        "This is an equation with one unknown parameter $\\alpha_0$. The solution is:\n",
        "$$\n",
        "\\alpha_0 = \\arctan\\frac{\\sin\\beta_+ + \\sin\\beta_- }{2 - \\cos\\beta_+ -\n",
        "\\cos\\beta_-}.\n",
        "\\tag{4}\n",
        "$$\n",
        "\n"
      ]
    },
    {
      "cell_type": "code",
      "execution_count": 84,
      "metadata": {
        "id": "nrJYRyS0WuBK"
      },
      "outputs": [],
      "source": [
        "\n",
        "def get_alpha0(beta_plus, beta_minus):\n",
        "  s1 = sin(beta_plus)\n",
        "  s2 = sin(beta_minus)\n",
        "  c1 = cos(beta_plus)\n",
        "  c2 = cos(beta_minus)\n",
        "  tan_alpha =  (s1 + s2) / (2 - c1 - c2)\n",
        "  alpha0 = atan(tan_alpha)\n",
        "  return alpha0\n",
        "\n",
        "def get_ualpha0(n, colors, beta):\n",
        "  betas = {}\n",
        "  for ix, b in enumerate(beta):\n",
        "      betas[(int(color_index[ix]), int(n[ix]))] = b\n",
        "\n",
        "  alphas = {}\n",
        "  for key in betas:\n",
        "    c = key[0]\n",
        "    order = key[1]\n",
        "    if (c, order) in betas and (c, -order) in betas:\n",
        "      bp = betas[(c, order)]\n",
        "      bm = betas[(c, -order)]\n",
        "      ubp = ufloat(bp, beta_err)\n",
        "      ubm = ufloat(bm, beta_err)\n",
        "      alphas[key] = get_alpha0(ubp, ubm)\n",
        "  al_arr = np.array(list(alphas.values()))\n",
        "  return umean(al_arr)"
      ]
    },
    {
      "cell_type": "markdown",
      "source": [
        "Automatic color assignment"
      ],
      "metadata": {
        "id": "jISxCNref9qA"
      }
    },
    {
      "cell_type": "code",
      "source": [
        "def wavelength_to_color(wavelength, gamma=0.8):\n",
        "    ''' taken from http://www.noah.org/wiki/Wavelength_to_RGB_in_Python\n",
        "    This converts a given wavelength of light to an\n",
        "    approximate RGB color value. The wavelength must be given\n",
        "    in nanometers in the range from 380 nm through 750 nm\n",
        "    (789 THz through 400 THz).\n",
        "\n",
        "    Based on code by Dan Bruton\n",
        "    http://www.physics.sfasu.edu/astro/color/spectra.html\n",
        "    '''\n",
        "    wavelength = float(wavelength)\n",
        "    if wavelength < 380:\n",
        "        wavelength = 380.\n",
        "    if wavelength > 750:\n",
        "        wavelength = 750.\n",
        "    if 380 <= wavelength <= 440:\n",
        "        attenuation = 0.3 + 0.7 * (wavelength - 380) / (440 - 380)\n",
        "        R = ((-(wavelength - 440) / (440 - 380)) * attenuation) ** gamma\n",
        "        G = 0.0\n",
        "        B = (1.0 * attenuation) ** gamma\n",
        "    elif 440 <= wavelength <= 490:\n",
        "        R = 0.0\n",
        "        G = ((wavelength - 440) / (490 - 440)) ** gamma\n",
        "        B = 1.0\n",
        "    elif 490 <= wavelength <= 510:\n",
        "        R = 0.0\n",
        "        G = 1.0\n",
        "        B = (-(wavelength - 510) / (510 - 490)) ** gamma\n",
        "    elif 510 <= wavelength <= 580:\n",
        "        R = ((wavelength - 510) / (580 - 510)) ** gamma\n",
        "        G = 1.0\n",
        "        B = 0.0\n",
        "    elif 580 <= wavelength <= 645:\n",
        "        R = 1.0\n",
        "        G = (-(wavelength - 645) / (645 - 580)) ** gamma\n",
        "        B = 0.0\n",
        "    elif 645 <= wavelength <= 750:\n",
        "        attenuation = 0.3 + 0.7 * (750 - wavelength) / (750 - 645)\n",
        "        R = (1.0 * attenuation) ** gamma\n",
        "        G = 0.0\n",
        "        B = 0.0\n",
        "    else:\n",
        "        R = 0.0\n",
        "        G = 0.0\n",
        "        B = 0.0\n",
        "    r = int(R*255)\n",
        "    g = int(G*255)\n",
        "    b = int(B*255)\n",
        "    return \"#{:02x}{:02x}{:02x}\".format(r, g, b)"
      ],
      "metadata": {
        "id": "yVnI7uPbgFng"
      },
      "execution_count": 85,
      "outputs": []
    },
    {
      "cell_type": "markdown",
      "metadata": {
        "id": "eDawbTkKrO6o"
      },
      "source": [
        "# Measurements"
      ]
    },
    {
      "cell_type": "markdown",
      "metadata": {
        "id": "Y4eGq1gdq0nb"
      },
      "source": [
        "## Helium"
      ]
    },
    {
      "cell_type": "markdown",
      "metadata": {
        "id": "SIRcoguJq6JL"
      },
      "source": [
        "Measured with spectrograph\n",
        "\n",
        "![He](https://github.com/tphlabs/data/blob/main/Lab4_SP/helium.png?raw=true')"
      ]
    },
    {
      "cell_type": "markdown",
      "source": [
        "Nominal values"
      ],
      "metadata": {
        "id": "nWgKHDy0cgTi"
      }
    },
    {
      "cell_type": "code",
      "source": [
        "lines = ['Unidentified', '1 Blue448', '2 Blue472',\n",
        "          '3 Green492', '4 Green501', '5 Yellow588', '6 Red668', '7 Red707']\n",
        "nominal_waves = [ np.nan, 447.2, 471.3, 492.1, 501.6, 587.6, 667.8, 706.5]\n",
        "python_colors = ['gray'] + [wavelength_to_color(wl) for wl in nominal_waves[1:]]\n"
      ],
      "metadata": {
        "id": "ng0kMWBwcdo0"
      },
      "execution_count": 86,
      "outputs": []
    },
    {
      "cell_type": "markdown",
      "source": [
        "## Calculate $\\alpha_0$ and diffraction grating period $d$"
      ],
      "metadata": {
        "id": "94tdxkz6iU-8"
      }
    },
    {
      "cell_type": "code",
      "execution_count": 87,
      "metadata": {
        "colab": {
          "base_uri": "https://localhost:8080/"
        },
        "id": "yp9rMQARvndn",
        "outputId": "ba7e9a6e-b6df-4533-eacd-cd5825db5c37"
      },
      "outputs": [
        {
          "output_type": "stream",
          "name": "stdout",
          "text": [
            "alpha0: -0.7+/-0.4 degree\n",
            "Calculated d = 2.0058+/-0.0005 um\n",
            "Nominal d is 500 lines per mm 2.0+/-0.0 um\n"
          ]
        }
      ],
      "source": [
        "measurements = '''\n",
        "# order, color_index beta(degrees)\n",
        "1 1 12.87\n",
        "1 2 13.59\n",
        "1 3 14.175\n",
        "1 4 14.49\n",
        "1 5 17.01\n",
        "1 6 19.35\n",
        "1 7 20.565\n",
        "-1 1 -12.915\n",
        "-1 2 -13.59\n",
        "-1 3 -14.22\n",
        "-1 4 -14.49\n",
        "-1 5 -17.055\n",
        "-1 6 -19.485\n",
        "-1 7 -20.655\n",
        "'''\n",
        "\n",
        "\n",
        "\n",
        "n, color_index, beta = np.genfromtxt(measurements.splitlines(), unpack=True)\n",
        "\n",
        "beta *= np.pi / 180\n",
        "\n",
        "alpha0 = get_ualpha0(n, color_index, beta)\n",
        "print(f'alpha0: {alpha0*180 / np.pi} degree')\n",
        "\n",
        "\n",
        "\n",
        "lmbd = [nominal_waves[int(clr)]*1e-9 for clr in color_index]\n",
        "d_arr = [n[i] * lmbd[i] / ( 2 * sin(beta[i]/2) * cos(alpha0 + beta[i]/2) ) for i in range(len(n))]\n",
        "d_arr = np.array(d_arr)\n",
        "\n",
        "d = umean(d_arr)\n",
        "print(rf'Calculated d = {d *1e6} um')\n",
        "#d = 2e-6 # 500 lines per mm\n",
        "print(f'Nominal d is 500 lines per mm {d*1e6:0.1f} um')\n"
      ]
    },
    {
      "cell_type": "markdown",
      "source": [
        "## Display on graph"
      ],
      "metadata": {
        "id": "VHnKxZSaids6"
      }
    },
    {
      "cell_type": "code",
      "execution_count": 88,
      "metadata": {
        "id": "lOw1DjvdiB-C",
        "outputId": "562b7d98-59ad-47d6-fa10-0bf7b818f593",
        "colab": {
          "base_uri": "https://localhost:8080/",
          "height": 558
        }
      },
      "outputs": [
        {
          "output_type": "stream",
          "name": "stdout",
          "text": [
            "2 Blue472      : nominal 471.3 lambda = 471.39+/-0.27 nm, 2 points\n",
            "3 Green492     : nominal 492.1 lambda = 491.91+/-0.30 nm, 2 points\n",
            "4 Green501     : nominal 501.6 lambda = 501.97+/-0.31 nm, 2 points\n",
            "5 Yellow588    : nominal 587.6 lambda = 587.5+/-0.4 nm, 2 points\n",
            "6 Red668       : nominal 667.8 lambda = 666.6+/-0.5 nm, 2 points\n",
            "7 Red707       : nominal 706.5 lambda = 706.0+/-0.6 nm, 2 points\n"
          ]
        },
        {
          "output_type": "display_data",
          "data": {
            "text/plain": [
              "<Figure size 640x480 with 1 Axes>"
            ],
            "image/png": "[encoded data removed]"
          },
          "metadata": {}
        }
      ],
      "source": [
        "plt.style.use('dark_background')\n",
        "\n",
        "for ix in range(2, len(lines)):\n",
        "  b = beta[color_index == ix]\n",
        "  n_ix =  n[color_index == ix]\n",
        "  lmbd = np.array([2 * d *  sin(b[i] / 2) * cos(alpha0 + b[i] / 2) /n_ix[i] for i in range(len(b))])\n",
        "  lmbd_mean = umean(lmbd)\n",
        "  lmbd_n = len(lmbd)\n",
        "  print(rf'{lines[ix]:<15}: nominal {nominal_waves[ix]} lambda = {lmbd_mean*1e9} nm, {lmbd_n:d} points' )\n",
        "\n",
        "\n",
        "  plt.plot(n_ix, unp.nominal_values(lmbd) *1e9, 'x', color=python_colors[ix])\n",
        "  plt.axhline(nominal_waves[ix], color=python_colors[ix])\n",
        "  plt.xticks([int(nx) for nx in np.unique(n)])\n",
        "  plt.xlabel('Order number')\n",
        "  plt.ylabel(r'Wavelength, nm')\n",
        "  #plt.legend()\n"
      ]
    },
    {
      "cell_type": "markdown",
      "metadata": {
        "id": "lhkR9c_m4HxW"
      },
      "source": [
        "## Hydrogen"
      ]
    },
    {
      "cell_type": "markdown",
      "metadata": {
        "id": "dr1wLUD8SOvU"
      },
      "source": [
        "Measured with spectrograph\n",
        "\n",
        "![H](https://github.com/tphlabs/data/blob/main/Lab4_SP/hydrogen.png?raw=true')"
      ]
    },
    {
      "cell_type": "markdown",
      "source": [
        "Nominal values"
      ],
      "metadata": {
        "id": "_lfFUp1MhR8z"
      }
    },
    {
      "cell_type": "code",
      "execution_count": 89,
      "metadata": {
        "id": "rfXEIoNgiB-C"
      },
      "outputs": [],
      "source": [
        "lines = ['Unidentified', '1 Violet 434', '2 Cian 486', '3 Red 657']\n",
        "nominal_waves = [np.nan, 434.0, 486.1, 656.3]\n",
        "python_colors = ['gray'] + [wavelength_to_color(wl) for wl in nominal_waves[1:]]\n",
        "quantum_numbers = [5, 4, 3]"
      ]
    },
    {
      "cell_type": "markdown",
      "source": [
        "## Calculate $\\alpha_0$ and wavelengths, after that display\n",
        "\n",
        "\n"
      ],
      "metadata": {
        "id": "9VOp7yTChVSj"
      }
    },
    {
      "cell_type": "code",
      "execution_count": 90,
      "metadata": {
        "colab": {
          "base_uri": "https://localhost:8080/",
          "height": 540
        },
        "id": "IQa_N2s04MnN",
        "outputId": "c3bd643a-3a8a-4c32-f109-f7a95a7347a5"
      },
      "outputs": [
        {
          "output_type": "stream",
          "name": "stdout",
          "text": [
            "d = 2.006+/-0.000 um\n",
            "alpha0: -0.46+/-0.08 degree\n",
            "1 Violet 434   : nominal 434.0 lambda = 434.40+/-0.09 nm, 2 points\n",
            "2 Cian 486     : nominal 486.1 lambda = 485.77+/-0.08 nm, 6 points\n",
            "3 Red 657      : nominal 656.3 lambda = 656.24+/-0.13 nm, 4 points\n"
          ]
        },
        {
          "output_type": "display_data",
          "data": {
            "text/plain": [
              "<Figure size 640x480 with 1 Axes>"
            ],
            "image/png": "[encoded data removed]"
          },
          "metadata": {}
        }
      ],
      "source": [
        "# d = 2e-6 # nominal\n",
        "# we will reuse d value found above\n",
        "print(rf'd = {d*1e6:.3f} um')\n",
        "\n",
        "measurements = '''\n",
        "# order, color_index beta\n",
        "1 1 12.465\n",
        "-1 1 -12.555\n",
        "1 2 13.995\n",
        "-1 2 -14.04\n",
        "1 3 19.08\n",
        "-1 3 -19.125\n",
        "2 2 28.89\n",
        "-2 2 -29.025\n",
        "2 3 40.68\n",
        "-2 3 -40.995\n",
        "3 2 46.44 # hardly seen\n",
        "-3 2 -46.845 # hardly seen\n",
        "'''\n",
        "\n",
        "n, color_index, beta = np.genfromtxt(measurements.splitlines(), unpack=True)\n",
        "\n",
        "beta *= np.pi / 180\n",
        "\n",
        "alpha0 = get_ualpha0(n, color_index, beta)\n",
        "print(f'alpha0: {alpha0*180 / np.pi} degree')\n",
        "\n",
        "l = []\n",
        "for ix in range(1, len(lines)):\n",
        "  b = beta[color_index == ix]\n",
        "  n_ix =  n[color_index == ix]\n",
        "  lmbd = np.array([2 * d *  sin(b[i] / 2) * cos(alpha0 + b[i] / 2) /n_ix[i] for i in range(len(b))])\n",
        "  lmbd_mean = umean(lmbd)\n",
        "  l.append(lmbd_mean)\n",
        "  lmbd_n = len(lmbd)\n",
        "  print(rf'{lines[ix]:<15}: nominal {nominal_waves[ix]} lambda = {lmbd_mean*1e9} nm, {lmbd_n:d} points' )\n",
        "\n",
        "  plt.plot(n_ix, unp.nominal_values(lmbd) *1e9, 'x', color=python_colors[ix])\n",
        "  plt.axhline(nominal_waves[ix], color=python_colors[ix])\n",
        "  #plt.legend()\n",
        "  plt.xticks([int(nx) for nx in np.unique(n)])\n",
        "  plt.xlabel('Order number')\n",
        "  plt.ylabel(r'Wavelength, nm')\n",
        "\n"
      ]
    },
    {
      "cell_type": "markdown",
      "source": [
        "# Rydberg's constant\n",
        "$$\n",
        "\\frac{1}{\\lambda} = R \\left( \\frac{1}{2^2} - \\frac{1}{n^2}\\right)\n",
        "$$\n",
        "where $n$ - quantum number:\n",
        "$n=5$ for violet, $n=4$ for cian and $n=3$ for red line hydrogen spectrum."
      ],
      "metadata": {
        "id": "iHtvDBTVRUA8"
      }
    },
    {
      "cell_type": "code",
      "source": [
        "x = 1/4 - 1/ np.array(quantum_numbers)**2\n",
        "y = 1/np.array(l)\n",
        "R = y / x\n",
        "R_mean = umean(R)\n",
        "print(f'Measured R     {R_mean:.4e} 1/m')\n",
        "print(f'Reference       {Rydberg:.4e} 1/m')\n",
        "R_air = 10970987 # 1/m\n",
        "print(f'Reference R_air {R_air:.4e} 1/m')\n",
        "print(f'Discrepancy of R measured / Reference in order of 10^{np.log10(np.abs(R_mean.n/Rydberg -1)):.0f}')\n",
        "\n"
      ],
      "metadata": {
        "id": "xSs5Uc0XSypH",
        "outputId": "5f77dedd-b8c8-426c-df32-fd1f3a7b40b5",
        "colab": {
          "base_uri": "https://localhost:8080/"
        }
      },
      "execution_count": 111,
      "outputs": [
        {
          "output_type": "stream",
          "name": "stdout",
          "text": [
            "Measured R     (1.0972+/-0.0001)e+07 1/m\n",
            "Reference       1.0974e+07 1/m\n",
            "Reference R_air 1.0971e+07 1/m\n",
            "Discrepancy of R measured / Reference in order of 10^-4\n"
          ]
        }
      ]
    },
    {
      "cell_type": "markdown",
      "metadata": {
        "id": "oG1hnq3Eej7m"
      },
      "source": [
        "# References"
      ]
    },
    {
      "cell_type": "markdown",
      "metadata": {
        "id": "_VAOtJVQenWO"
      },
      "source": [
        "- \"Physics Laboratory Manual\", 3d ed., Wall , Levine and Christensen, Experiment 75 Wave Length of Light: Diffraction Grating, p.297, eq.75.2 and 75.3\n"
      ]
    }
  ],
  "metadata": {
    "colab": {
      "provenance": [],
      "include_colab_link": true
    },
    "kernelspec": {
      "display_name": "Python 3 (ipykernel)",
      "language": "python",
      "name": "python3"
    },
    "language_info": {
      "codemirror_mode": {
        "name": "ipython",
        "version": 3
      },
      "file_extension": ".py",
      "mimetype": "text/x-python",
      "name": "python",
      "nbconvert_exporter": "python",
      "pygments_lexer": "ipython3",
      "version": "3.9.12"
    }
  },
  "nbformat": 4,
  "nbformat_minor": 0
}
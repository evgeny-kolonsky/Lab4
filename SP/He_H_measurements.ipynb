{
  "cells": [
    {
      "cell_type": "markdown",
      "metadata": {
        "id": "view-in-github",
        "colab_type": "text"
      },
      "source": [
        "<a href=\"https://colab.research.google.com/github/evgeny-kolonsky/Lab4/blob/main/SP/He_H_measurements.ipynb\" target=\"_parent\"><img src=\"https://colab.research.google.com/assets/colab-badge.svg\" alt=\"Open In Colab\"/></a>"
      ]
    },
    {
      "cell_type": "markdown",
      "metadata": {
        "id": "Zq95I3TgpqQn"
      },
      "source": [
        "<font size=6> Wavelengths measurements with diffraction grating</font>\n",
        "\n",
        "Evgeny Kolonsky, 2025\n",
        "\n",
        "v.0.4.3"
      ]
    },
    {
      "cell_type": "code",
      "source": [
        "! pip install uncertainties"
      ],
      "metadata": {
        "id": "svCpgXtGVcfe",
        "outputId": "e2e4e34b-53ad-43b3-ec60-013535f21421",
        "colab": {
          "base_uri": "https://localhost:8080/"
        }
      },
      "execution_count": 1,
      "outputs": [
        {
          "output_type": "stream",
          "name": "stdout",
          "text": [
            "Collecting uncertainties\n",
            "  Downloading uncertainties-3.2.3-py3-none-any.whl.metadata (7.0 kB)\n",
            "Downloading uncertainties-3.2.3-py3-none-any.whl (60 kB)\n",
            "\u001b[?25l   \u001b[90m━━━━━━━━━━━━━━━━━━━━━━━━━━━━━━━━━━━━━━━━\u001b[0m \u001b[32m0.0/60.1 kB\u001b[0m \u001b[31m?\u001b[0m eta \u001b[36m-:--:--\u001b[0m\r\u001b[2K   \u001b[90m━━━━━━━━━━━━━━━━━━━━━━━━━━━━━━━━━━━━━━━━\u001b[0m \u001b[32m60.1/60.1 kB\u001b[0m \u001b[31m1.8 MB/s\u001b[0m eta \u001b[36m0:00:00\u001b[0m\n",
            "\u001b[?25hInstalling collected packages: uncertainties\n",
            "Successfully installed uncertainties-3.2.3\n"
          ]
        }
      ]
    },
    {
      "cell_type": "code",
      "execution_count": 2,
      "metadata": {
        "id": "EAaoQlotrqHq"
      },
      "outputs": [],
      "source": [
        "import numpy as np\n",
        "import matplotlib.pyplot as plt\n",
        "from matplotlib import colors as mcolors\n",
        "from scipy.optimize import fsolve\n",
        "from math import degrees as deg\n",
        "from uncertainties import ufloat\n",
        "from scipy.constants import *\n"
      ]
    },
    {
      "cell_type": "markdown",
      "metadata": {
        "id": "PeEUt1iutOCy"
      },
      "source": [
        "# Model"
      ]
    },
    {
      "cell_type": "markdown",
      "metadata": {
        "id": "9F0J-kvIrz2k"
      },
      "source": [
        "Theoretical expression for light diffraction when incident light is assumed to be perpendicular to grating  is\n",
        "$$    \n",
        "n \\lambda = d \\sin \\beta_n,\n",
        "    \\tag{1}    \n",
        "$$\n",
        "where $\\lambda$ - light wave length, $d$ - diffraction grating parameter, $n$ - diffraction order number, $\\beta_n$ - diffraction angle incident light and diffracted light of order $n$.\n",
        "\n",
        "When incident light falls under an arbitrary angle $\\alpha_0$ relative to the grating plane perpendicular, the expression is written in form \\cite{PhysLabManual-1972}\n",
        "$$\n",
        "n \\lambda = 2 d \\sin \\frac{\\beta_n}{2} \\cos\\left(\\alpha_0 +\n",
        "\\frac{\\beta_n}{2} \\right) , \\quad n =  \\pm 1, \\pm 2, ..\n",
        "\\tag{2}   \n",
        "$$\n",
        "\n",
        "For $\\alpha_0=0$ (light falls perpendicularly) we receive eq.(1).  \n",
        "\n",
        "\n",
        "The unknown angle $\\alpha_0$ between grating plane perpendicular and light beam can be found directly by measuring $\\beta_{\\pm n}$ of symmetric orders $\\pm n$, even when  grating period $d$ and wavelength $\\lambda$ are  unknown. Denoting for simplicity $\\beta_+$ and $\\beta_-$ diffraction angles for an arbitrary orders $\\pm n$ in eq.(2), we have  \n",
        "$$\n",
        "\\sin \\frac{\\beta_{+}}{2} \\cos\\left( \\alpha_0 + \\frac{\\beta_{+}}{2}\\right) + \\sin \\frac{\\beta_{-}}{2} \\cos\\left( \\alpha_0 + \\frac{\\beta_{-}}{2}\\right) =0.\n",
        "\\tag{3}\n",
        "$$\n",
        "This is an equation with one unknown parameter $\\alpha_0$. The solution is:\n",
        "$$\n",
        "\\alpha_0 = \\arctan\\frac{1}{2}\\frac{\\sin\\beta_+ + \\sin\\beta_- }{\\sin^2\n",
        "\\frac{\\beta_{+}}{2} +\n",
        "\\sin^2\\frac{\\beta_{-}}{2}}.\n",
        "\\tag{4}\n",
        "$$\n",
        "\n"
      ]
    },
    {
      "cell_type": "code",
      "execution_count": 3,
      "metadata": {
        "id": "nrJYRyS0WuBK"
      },
      "outputs": [],
      "source": [
        "def get_alpha0(beta_plus, beta_minus):\n",
        "  s1 = np.sin(beta_plus/2)\n",
        "  s2 = np.sin(beta_minus/2)\n",
        "  D = s1*s1 + s2*s2\n",
        "  C = np.sin(beta_plus)  + np.sin(beta_minus)\n",
        "  tan_alpha =  1/2 * C / D\n",
        "  alpha0_arr = np.arctan(tan_alpha)\n",
        "  alpha0 = np.mean(alpha0_arr)\n",
        "  alpha0_err = np.std(alpha0_arr) / np.sqrt(len(alpha0_arr) - 1)\n",
        "  return alpha0, alpha0_err\n",
        "\n",
        "def get_pairs(beta, colors, orders):\n",
        "  def get_pair(color_ind, order):\n",
        "    beta_plus = beta[(color_index == color_ind) & (n == order)]\n",
        "    beta_minus = beta[(color_index == color_ind) & (n == -order)]\n",
        "    if len(beta_plus) == 1 and len(beta_minus) == 1:\n",
        "      return (beta_plus[0], beta_minus[0])\n",
        "    else:\n",
        "      return None\n",
        "  betas = [get_pair(color_ind, order) for color_ind in np.unique(colors) for order in np.unique(orders)]\n",
        "  beta_plus = np.array([b[0] for b in betas if b is not None])\n",
        "  beta_minus = np.array([b[1] for b in betas if b is not None])\n",
        "  return beta_plus, beta_minus"
      ]
    },
    {
      "cell_type": "markdown",
      "source": [
        "Automatic color assignment"
      ],
      "metadata": {
        "id": "jISxCNref9qA"
      }
    },
    {
      "cell_type": "code",
      "source": [
        "def wavelength_to_color(wavelength, gamma=0.8):\n",
        "    ''' taken from http://www.noah.org/wiki/Wavelength_to_RGB_in_Python\n",
        "    This converts a given wavelength of light to an\n",
        "    approximate RGB color value. The wavelength must be given\n",
        "    in nanometers in the range from 380 nm through 750 nm\n",
        "    (789 THz through 400 THz).\n",
        "\n",
        "    Based on code by Dan Bruton\n",
        "    http://www.physics.sfasu.edu/astro/color/spectra.html\n",
        "    '''\n",
        "    wavelength = float(wavelength)\n",
        "    if wavelength < 380:\n",
        "        wavelength = 380.\n",
        "    if wavelength > 750:\n",
        "        wavelength = 750.\n",
        "    if 380 <= wavelength <= 440:\n",
        "        attenuation = 0.3 + 0.7 * (wavelength - 380) / (440 - 380)\n",
        "        R = ((-(wavelength - 440) / (440 - 380)) * attenuation) ** gamma\n",
        "        G = 0.0\n",
        "        B = (1.0 * attenuation) ** gamma\n",
        "    elif 440 <= wavelength <= 490:\n",
        "        R = 0.0\n",
        "        G = ((wavelength - 440) / (490 - 440)) ** gamma\n",
        "        B = 1.0\n",
        "    elif 490 <= wavelength <= 510:\n",
        "        R = 0.0\n",
        "        G = 1.0\n",
        "        B = (-(wavelength - 510) / (510 - 490)) ** gamma\n",
        "    elif 510 <= wavelength <= 580:\n",
        "        R = ((wavelength - 510) / (580 - 510)) ** gamma\n",
        "        G = 1.0\n",
        "        B = 0.0\n",
        "    elif 580 <= wavelength <= 645:\n",
        "        R = 1.0\n",
        "        G = (-(wavelength - 645) / (645 - 580)) ** gamma\n",
        "        B = 0.0\n",
        "    elif 645 <= wavelength <= 750:\n",
        "        attenuation = 0.3 + 0.7 * (750 - wavelength) / (750 - 645)\n",
        "        R = (1.0 * attenuation) ** gamma\n",
        "        G = 0.0\n",
        "        B = 0.0\n",
        "    else:\n",
        "        R = 0.0\n",
        "        G = 0.0\n",
        "        B = 0.0\n",
        "    r = int(R*255)\n",
        "    g = int(G*255)\n",
        "    b = int(B*255)\n",
        "    return \"#{:02x}{:02x}{:02x}\".format(r, g, b)"
      ],
      "metadata": {
        "id": "yVnI7uPbgFng"
      },
      "execution_count": 4,
      "outputs": []
    },
    {
      "cell_type": "markdown",
      "metadata": {
        "id": "eDawbTkKrO6o"
      },
      "source": [
        "# Measurements"
      ]
    },
    {
      "cell_type": "markdown",
      "metadata": {
        "id": "Y4eGq1gdq0nb"
      },
      "source": [
        "## Helium"
      ]
    },
    {
      "cell_type": "markdown",
      "metadata": {
        "id": "SIRcoguJq6JL"
      },
      "source": [
        "Measured with spectrograph\n",
        "\n",
        "![He](https://github.com/tphlabs/data/blob/main/Lab4_SP/helium.png?raw=true')"
      ]
    },
    {
      "cell_type": "markdown",
      "source": [
        "Nominal values"
      ],
      "metadata": {
        "id": "nWgKHDy0cgTi"
      }
    },
    {
      "cell_type": "code",
      "source": [
        "lines = ['Unidentified', '1 Blue448', '2 Blue472',\n",
        "          '3 Green492', '4 Green501', '5 Yellow588', '6 Red668', '7 Red707']\n",
        "nominal_waves = [np.nan,  448, 472, 492, 501, 588, 668, 707]\n",
        "python_colors = ['gray'] + [wavelength_to_color(wl) for wl in nominal_waves[1:]]\n"
      ],
      "metadata": {
        "id": "ng0kMWBwcdo0"
      },
      "execution_count": 5,
      "outputs": []
    },
    {
      "cell_type": "markdown",
      "source": [
        "## Calculate $\\alpha_0$ and diffraction grating period $d$"
      ],
      "metadata": {
        "id": "94tdxkz6iU-8"
      }
    },
    {
      "cell_type": "code",
      "execution_count": 6,
      "metadata": {
        "colab": {
          "base_uri": "https://localhost:8080/"
        },
        "id": "yp9rMQARvndn",
        "outputId": "ccc433f3-d3ff-4c82-a581-e28351b9654f"
      },
      "outputs": [
        {
          "output_type": "stream",
          "name": "stdout",
          "text": [
            "alpha0: -0.6 ± 0.1 degree\n",
            "Calculated d = 2.007 ± 0.001 um\n",
            "Nominal d is 500 lines per mm 2.0 um\n"
          ]
        }
      ],
      "source": [
        "measurements = '''\n",
        "# order, color_index beta(degrees)\n",
        "1 1 12.87\n",
        "1 2 13.59\n",
        "1 3 14.175\n",
        "1 4 14.49\n",
        "1 5 17.01\n",
        "1 6 19.35\n",
        "1 7 20.565\n",
        "-1 1 -12.915\n",
        "-1 2 -13.59\n",
        "-1 3 -14.22\n",
        "-1 4 -14.49\n",
        "-1 5 -17.055\n",
        "-1 6 -19.485\n",
        "-1 7 -20.655\n",
        "'''\n",
        "\n",
        "n, color_index, beta = np.genfromtxt(measurements.splitlines(), unpack=True)\n",
        "\n",
        "\n",
        "beta *= np.pi / 180\n",
        "\n",
        "beta_plus, beta_minus = get_pairs(beta, color_index, n)\n",
        "\n",
        "alpha0, alpha0_err = get_alpha0(beta_plus, beta_minus)\n",
        "print(f'alpha0: {deg(alpha0):.1f} ± {deg(alpha0_err):.1f} degree')\n",
        "\n",
        "\n",
        "lmbd = [nominal_waves[int(clr)]*1e-9 for clr in color_index]\n",
        "d_arr = n * lmbd / ( 2 * np.sin(beta/2) * np.cos(alpha0 + beta/2) )\n",
        "\n",
        "d = np.mean(d_arr)\n",
        "d_err = np.std(d_arr) / np.sqrt(len(d_arr) - 1)\n",
        "print(rf'Calculated d = {d *1e6:.3f} ± {d_err*1e6:.3f} um')\n",
        "#d = 2e-6 # 500 lines per mm\n",
        "print(f'Nominal d is 500 lines per mm {d*1e6:0.1f} um')\n"
      ]
    },
    {
      "cell_type": "markdown",
      "source": [
        "## Display on graph"
      ],
      "metadata": {
        "id": "VHnKxZSaids6"
      }
    },
    {
      "cell_type": "code",
      "execution_count": 7,
      "metadata": {
        "id": "lOw1DjvdiB-C",
        "outputId": "b52a319f-34fe-428f-e55e-666307971e63",
        "colab": {
          "base_uri": "https://localhost:8080/",
          "height": 553
        }
      },
      "outputs": [
        {
          "output_type": "stream",
          "name": "stdout",
          "text": [
            "2 Blue472      : lambda = 471.6 ± 0.5 nm, 2 points\n",
            "3 Green492     : lambda = 492.3 ± 0.2 nm, 2 points\n",
            "4 Green501     : lambda = 502.2 ± 0.6 nm, 2 points\n",
            "5 Yellow588    : lambda = 587.9 ± 0.1 nm, 2 points\n",
            "6 Red668       : lambda = 667.3 ± 1.1 nm, 2 points\n",
            "7 Red707       : lambda = 706.5 ± 0.2 nm, 2 points\n"
          ]
        },
        {
          "output_type": "display_data",
          "data": {
            "text/plain": [
              "<Figure size 640x480 with 1 Axes>"
            ],
            "image/png": "[encoded data removed]"
          },
          "metadata": {}
        }
      ],
      "source": [
        "plt.style.use('dark_background')\n",
        "\n",
        "for ix in range(2, len(lines)):\n",
        "  b = beta[color_index == ix]\n",
        "  n_ix =  n[color_index == ix]\n",
        "  lmbd = 2 * d *  np.sin(b / 2) * np.cos(alpha0 + b / 2) /n_ix\n",
        "  lmbd_mean = np.mean(lmbd)\n",
        "  lmbd_err = np.std(lmbd) / np.sqrt(len(lmbd) - 1)\n",
        "  lmbd_n = len(lmbd)\n",
        "  print(rf'{lines[ix]:<15}: lambda = {lmbd_mean*1e9:.1f} ± {lmbd_err*1e9:.1f} nm, {lmbd_n:d} points' )\n",
        "\n",
        "\n",
        "  plt.plot(n_ix, 2 * d *  np.sin(b / 2) * np.cos(alpha0 + b / 2) /n_ix *1e9, 'x', color=python_colors[ix],\n",
        "           label=f'lambda = {lmbd_mean*1e9:.1f} ± {lmbd_err*1e9:.1f} nm')\n",
        "  plt.axhline(nominal_waves[ix], color=python_colors[ix])\n",
        "  plt.xticks([int(nx) for nx in np.unique(n)])\n",
        "  plt.xlabel('Order number')\n",
        "  plt.ylabel(r'Wavelength, nm')\n",
        "  #plt.legend()\n"
      ]
    },
    {
      "cell_type": "markdown",
      "metadata": {
        "id": "lhkR9c_m4HxW"
      },
      "source": [
        "## Hydrogen"
      ]
    },
    {
      "cell_type": "markdown",
      "metadata": {
        "id": "dr1wLUD8SOvU"
      },
      "source": [
        "Measured with spectrograph\n",
        "\n",
        "![H](https://github.com/tphlabs/data/blob/main/Lab4_SP/hydrogen.png?raw=true')"
      ]
    },
    {
      "cell_type": "markdown",
      "source": [
        "Nominal values"
      ],
      "metadata": {
        "id": "_lfFUp1MhR8z"
      }
    },
    {
      "cell_type": "code",
      "execution_count": 8,
      "metadata": {
        "id": "rfXEIoNgiB-C"
      },
      "outputs": [],
      "source": [
        "lines = ['Unidentified', '1 Violet 434', '2 Cian 486', '3 Red 657']\n",
        "nominal_waves = [np.nan, 434, 486, 657]\n",
        "python_colors = ['gray'] + [wavelength_to_color(wl) for wl in nominal_waves[1:]]\n",
        "quantum_numbers = [5, 4, 3]"
      ]
    },
    {
      "cell_type": "markdown",
      "source": [
        "## Calculate $\\alpha_0$ and wavelengths, after that display\n",
        "\n",
        "\n"
      ],
      "metadata": {
        "id": "9VOp7yTChVSj"
      }
    },
    {
      "cell_type": "code",
      "execution_count": 9,
      "metadata": {
        "colab": {
          "base_uri": "https://localhost:8080/",
          "height": 536
        },
        "id": "IQa_N2s04MnN",
        "outputId": "6e4f1c5a-38cc-40a7-f6f3-49ad2ce33b80"
      },
      "outputs": [
        {
          "output_type": "stream",
          "name": "stdout",
          "text": [
            "d = 2.007 um\n",
            "alpha0: -0.7 ± 0.2 degree\n",
            "1 Violet 434   : lambda = 434.8 ± 0.9 nm, 2 points\n",
            "2 Cian 486     : lambda = 486.1 ± 0.3 nm, 6 points\n",
            "3 Red 657      : lambda = 656.5 ± 0.5 nm, 4 points\n"
          ]
        },
        {
          "output_type": "display_data",
          "data": {
            "text/plain": [
              "<Figure size 640x480 with 1 Axes>"
            ],
            "image/png": "[encoded data removed]"
          },
          "metadata": {}
        }
      ],
      "source": [
        "# d = 2e-6 # nominal\n",
        "# we will reuse d value found above\n",
        "print(rf'd = {d*1e6:.3f} um')\n",
        "\n",
        "measurements = '''\n",
        "# order, coor_index beta\n",
        "1 1 12.465\n",
        "-1 1 -12.555\n",
        "1 2 13.995\n",
        "-1 2 -14.04\n",
        "1 3 19.08\n",
        "-1 3 -19.125\n",
        "2 2 28.89\n",
        "-2 2 -29.025\n",
        "2 3 40.68\n",
        "-2 3 -40.995\n",
        "3 2 46.44 # hardly seen\n",
        "-3 2 -46.845 # hardly seen\n",
        "'''\n",
        "\n",
        "n, color_index, beta = np.genfromtxt(measurements.splitlines(), unpack=True)\n",
        "\n",
        "beta *= np.pi / 180\n",
        "\n",
        "beta_plus, beta_minus = get_pairs(beta, color_index, n)\n",
        "\n",
        "alpha0, alpha0_err = get_alpha0(beta_plus, beta_minus)\n",
        "print(f'alpha0: {deg(alpha0):.1f} ± {deg(alpha0_err):.1f} degree')\n",
        "\n",
        "l = []\n",
        "for ix in range(1, len(lines)):\n",
        "  b = beta[color_index == ix]\n",
        "  n_ix =  n[color_index == ix]\n",
        "  lmbd = 2 * d *  np.sin(b / 2) * np.cos(alpha0 + b / 2) /n_ix\n",
        "  lmbd_mean = np.mean(lmbd)\n",
        "  lmbd_err = np.std(lmbd) / np.sqrt(len(lmbd) - 1)\n",
        "  lmbd_n = len(lmbd)\n",
        "  l.append(ufloat(lmbd_mean, lmbd_err))\n",
        "  print(rf'{lines[ix]:<15}: lambda = {lmbd_mean*1e9:.1f} ± {lmbd_err*1e9:.1f} nm, {lmbd_n:d} points' )\n",
        "\n",
        "  plt.plot(n_ix, 2 * d *  np.sin(b / 2) * np.cos(alpha0 + b / 2) /n_ix *1e9, 'x', color=python_colors[ix],\n",
        "           label=f'lambda = {lmbd_mean*1e9:.1f} ± {lmbd_err*1e9:.1f} nm')\n",
        "  plt.axhline(nominal_waves[ix], color=python_colors[ix])\n",
        "  #plt.legend()\n",
        "  plt.xticks([int(nx) for nx in np.unique(n)])\n",
        "  plt.xlabel('Order number')\n",
        "  plt.ylabel(r'Wavelength, nm')\n",
        "\n"
      ]
    },
    {
      "cell_type": "markdown",
      "source": [
        "# Rydberg's constant\n",
        "$$\n",
        "\\frac{1}{\\lambda} = R \\left( \\frac{1}{2^2} - \\frac{1}{n^2}\\right)\n",
        "$$\n",
        "where $n$ - quantum number:\n",
        "$n=5$ for violet, $n=4$ for cian and $n=3$ for red line hydrogen spectrum."
      ],
      "metadata": {
        "id": "iHtvDBTVRUA8"
      }
    },
    {
      "cell_type": "code",
      "source": [
        "x = 1/4 - 1/ np.array(quantum_numbers)**2\n",
        "y = 1/np.array(l)\n",
        "R = y / x\n",
        "R_mean = np.mean(R)\n",
        "print(f'Measured Rydbergs constant {R_mean} 1/m')\n",
        "print(f'Reference {Rydberg} 1/m')\n"
      ],
      "metadata": {
        "id": "xSs5Uc0XSypH",
        "outputId": "837bf63a-32f3-4ba3-9c13-6e8f3fe08fba",
        "colab": {
          "base_uri": "https://localhost:8080/"
        }
      },
      "execution_count": 10,
      "outputs": [
        {
          "output_type": "stream",
          "name": "stdout",
          "text": [
            "Measured Rydbergs constant (1.0963+/-0.0009)e+07 1/m\n",
            "Reference 10973731.568157 1/m\n"
          ]
        }
      ]
    },
    {
      "cell_type": "markdown",
      "source": [],
      "metadata": {
        "id": "Bwq5bA7kRXWm"
      }
    },
    {
      "cell_type": "markdown",
      "metadata": {
        "id": "oG1hnq3Eej7m"
      },
      "source": [
        "# References"
      ]
    },
    {
      "cell_type": "markdown",
      "metadata": {
        "id": "_VAOtJVQenWO"
      },
      "source": [
        "- \"Physics Laboratory Manual\", 3d ed., Wall , Levine and Christensen, Experiment 75 Wave Length of Light: Diffraction Grating, p.297, eq.75.2 and 75.3\n"
      ]
    }
  ],
  "metadata": {
    "colab": {
      "provenance": [],
      "include_colab_link": true
    },
    "kernelspec": {
      "display_name": "Python 3 (ipykernel)",
      "language": "python",
      "name": "python3"
    },
    "language_info": {
      "codemirror_mode": {
        "name": "ipython",
        "version": 3
      },
      "file_extension": ".py",
      "mimetype": "text/x-python",
      "name": "python",
      "nbconvert_exporter": "python",
      "pygments_lexer": "ipython3",
      "version": "3.9.12"
    }
  },
  "nbformat": 4,
  "nbformat_minor": 0
}
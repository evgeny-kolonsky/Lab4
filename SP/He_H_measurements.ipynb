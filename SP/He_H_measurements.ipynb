{
  "cells": [
    {
      "cell_type": "markdown",
      "metadata": {
        "id": "view-in-github",
        "colab_type": "text"
      },
      "source": [
        "<a href=\"https://colab.research.google.com/github/evgeny-kolonsky/Lab4/blob/main/SP/He_H_measurements.ipynb\" target=\"_parent\"><img src=\"https://colab.research.google.com/assets/colab-badge.svg\" alt=\"Open In Colab\"/></a>"
      ]
    },
    {
      "cell_type": "markdown",
      "metadata": {
        "id": "Zq95I3TgpqQn"
      },
      "source": [
        "<font size=6> Wavelengths measurements with diffraction grating</font>\n",
        "\n",
        "Evgeny Kolonsky, 2025\n",
        "\n",
        "v.0.4.6"
      ]
    },
    {
      "cell_type": "code",
      "source": [
        "! pip install uncertainties"
      ],
      "metadata": {
        "id": "svCpgXtGVcfe",
        "outputId": "28603d6b-d202-4769-c019-c959ddb1a2d6",
        "colab": {
          "base_uri": "https://localhost:8080/"
        }
      },
      "execution_count": 31,
      "outputs": [
        {
          "output_type": "stream",
          "name": "stdout",
          "text": [
            "Requirement already satisfied: uncertainties in /usr/local/lib/python3.11/dist-packages (3.2.3)\n"
          ]
        }
      ]
    },
    {
      "cell_type": "code",
      "execution_count": 32,
      "metadata": {
        "id": "EAaoQlotrqHq"
      },
      "outputs": [],
      "source": [
        "import numpy as np\n",
        "import matplotlib.pyplot as plt\n",
        "from matplotlib import colors as mcolors\n",
        "from scipy.optimize import fsolve\n",
        "from uncertainties import ufloat, unumpy as unp\n",
        "from uncertainties.umath import sin, atan, cos\n",
        "from scipy.constants import *\n",
        "import math\n"
      ]
    },
    {
      "cell_type": "code",
      "source": [
        "# weighted average\n",
        "def umean(ux: unp.uarray) -> ufloat:\n",
        "  values = unp.nominal_values(ux)\n",
        "  uncertainties = unp.std_devs(ux)\n",
        "  if np.prod(uncertainties) == 0: # algorythm fails when at  sigma=0\n",
        "    res =  ufloat( np.mean(values), np.mean(uncertainties))\n",
        "  else:\n",
        "    weights = 1 / uncertainties**2\n",
        "    weighted_average = sum(values * weights) / sum(weights)\n",
        "    weighted_error = 1 / np.sqrt(sum(weights))\n",
        "    res = ufloat(weighted_average, weighted_error)\n",
        "  return res\n",
        "\n",
        "RESOLUTION = 360 / 8000 # deg\n",
        "beta_err = 3* RESOLUTION * np.pi / 180 # rad\n",
        "\n"
      ],
      "metadata": {
        "id": "7aHyMYfWaUJv"
      },
      "execution_count": 33,
      "outputs": []
    },
    {
      "cell_type": "markdown",
      "metadata": {
        "id": "PeEUt1iutOCy"
      },
      "source": [
        "# Model"
      ]
    },
    {
      "cell_type": "markdown",
      "metadata": {
        "id": "9F0J-kvIrz2k"
      },
      "source": [
        "Theoretical expression for light diffraction when incident light is assumed to be perpendicular to grating  is\n",
        "$$    \n",
        "n \\lambda = d \\sin \\beta_n,\n",
        "    \\tag{1}    \n",
        "$$\n",
        "where $\\lambda$ - light wave length, $d$ - diffraction grating parameter, $n$ - diffraction order number, $\\beta_n$ - diffraction angle incident light and diffracted light of order $n$.\n",
        "\n",
        "When incident light falls under an arbitrary angle $\\alpha_0$ relative to the grating plane perpendicular, the expression is written in form \\cite{PhysLabManual-1972}\n",
        "$$\n",
        "n \\lambda = 2 d \\sin \\frac{\\beta_n}{2} \\cos\\left(\\alpha_0 +\n",
        "\\frac{\\beta_n}{2} \\right) , \\quad n =  \\pm 1, \\pm 2, ..\n",
        "\\tag{2}   \n",
        "$$\n",
        "\n",
        "For $\\alpha_0=0$ (light falls perpendicularly) we receive eq.(1).  \n",
        "\n",
        "\n",
        "The unknown angle $\\alpha_0$ between grating plane perpendicular and light beam can be found directly by measuring $\\beta_{\\pm n}$ of symmetric orders $\\pm n$, even when  grating period $d$ and wavelength $\\lambda$ are  unknown. Denoting for simplicity $\\beta_+$ and $\\beta_-$ diffraction angles for an arbitrary orders $\\pm n$ in eq.(2), we have  \n",
        "$$\n",
        "\\sin \\frac{\\beta_{+}}{2} \\cos\\left( \\alpha_0 + \\frac{\\beta_{+}}{2}\\right) + \\sin \\frac{\\beta_{-}}{2} \\cos\\left( \\alpha_0 + \\frac{\\beta_{-}}{2}\\right) =0.\n",
        "\\tag{3}\n",
        "$$\n",
        "This is an equation with one unknown parameter $\\alpha_0$. The solution is:\n",
        "$$\n",
        "\\alpha_0 = \\arctan\\frac{\\sin\\beta_+ + \\sin\\beta_- }{2 - \\cos\\beta_+ -\n",
        "\\cos\\beta_-}.\n",
        "\\tag{4}\n",
        "$$\n",
        "\n"
      ]
    },
    {
      "cell_type": "code",
      "execution_count": 34,
      "metadata": {
        "id": "nrJYRyS0WuBK"
      },
      "outputs": [],
      "source": [
        "\n",
        "def get_alpha0(beta_plus, beta_minus):\n",
        "  s1 = sin(beta_plus)\n",
        "  s2 = sin(beta_minus)\n",
        "  c1 = cos(beta_plus)\n",
        "  c2 = cos(beta_minus)\n",
        "  tan_alpha =  (s1 + s2) / (2 - c1 - c2)\n",
        "  alpha0 = atan(tan_alpha)\n",
        "  return alpha0\n",
        "\n",
        "def get_ualpha0(n, colors, beta):\n",
        "  betas = {}\n",
        "  for ix, b in enumerate(beta):\n",
        "      betas[(int(color_index[ix]), int(n[ix]))] = b\n",
        "\n",
        "  alphas = {}\n",
        "  for key in betas:\n",
        "    c = key[0]\n",
        "    order = key[1]\n",
        "    if (c, order) in betas and (c, -order) in betas:\n",
        "      bp = betas[(c, order)]\n",
        "      bm = betas[(c, -order)]\n",
        "      ubp = ufloat(bp, beta_err)\n",
        "      ubm = ufloat(bm, beta_err)\n",
        "      alphas[key] = get_alpha0(ubp, ubm)\n",
        "  al_arr = np.array(list(alphas.values()))\n",
        "  return umean(al_arr)"
      ]
    },
    {
      "cell_type": "markdown",
      "source": [
        "Automatic color assignment"
      ],
      "metadata": {
        "id": "jISxCNref9qA"
      }
    },
    {
      "cell_type": "code",
      "source": [
        "def wavelength_to_color(wavelength, gamma=0.8):\n",
        "    ''' taken from http://www.noah.org/wiki/Wavelength_to_RGB_in_Python\n",
        "    This converts a given wavelength of light to an\n",
        "    approximate RGB color value. The wavelength must be given\n",
        "    in nanometers in the range from 380 nm through 750 nm\n",
        "    (789 THz through 400 THz).\n",
        "\n",
        "    Based on code by Dan Bruton\n",
        "    http://www.physics.sfasu.edu/astro/color/spectra.html\n",
        "    '''\n",
        "    wavelength = float(wavelength)\n",
        "    if wavelength < 380:\n",
        "        wavelength = 380.\n",
        "    if wavelength > 750:\n",
        "        wavelength = 750.\n",
        "    if 380 <= wavelength <= 440:\n",
        "        attenuation = 0.3 + 0.7 * (wavelength - 380) / (440 - 380)\n",
        "        R = ((-(wavelength - 440) / (440 - 380)) * attenuation) ** gamma\n",
        "        G = 0.0\n",
        "        B = (1.0 * attenuation) ** gamma\n",
        "    elif 440 <= wavelength <= 490:\n",
        "        R = 0.0\n",
        "        G = ((wavelength - 440) / (490 - 440)) ** gamma\n",
        "        B = 1.0\n",
        "    elif 490 <= wavelength <= 510:\n",
        "        R = 0.0\n",
        "        G = 1.0\n",
        "        B = (-(wavelength - 510) / (510 - 490)) ** gamma\n",
        "    elif 510 <= wavelength <= 580:\n",
        "        R = ((wavelength - 510) / (580 - 510)) ** gamma\n",
        "        G = 1.0\n",
        "        B = 0.0\n",
        "    elif 580 <= wavelength <= 645:\n",
        "        R = 1.0\n",
        "        G = (-(wavelength - 645) / (645 - 580)) ** gamma\n",
        "        B = 0.0\n",
        "    elif 645 <= wavelength <= 750:\n",
        "        attenuation = 0.3 + 0.7 * (750 - wavelength) / (750 - 645)\n",
        "        R = (1.0 * attenuation) ** gamma\n",
        "        G = 0.0\n",
        "        B = 0.0\n",
        "    else:\n",
        "        R = 0.0\n",
        "        G = 0.0\n",
        "        B = 0.0\n",
        "    r = int(R*255)\n",
        "    g = int(G*255)\n",
        "    b = int(B*255)\n",
        "    return \"#{:02x}{:02x}{:02x}\".format(r, g, b)"
      ],
      "metadata": {
        "id": "yVnI7uPbgFng"
      },
      "execution_count": 35,
      "outputs": []
    },
    {
      "cell_type": "markdown",
      "metadata": {
        "id": "eDawbTkKrO6o"
      },
      "source": [
        "# Measurements"
      ]
    },
    {
      "cell_type": "markdown",
      "metadata": {
        "id": "Y4eGq1gdq0nb"
      },
      "source": [
        "## Helium"
      ]
    },
    {
      "cell_type": "markdown",
      "metadata": {
        "id": "SIRcoguJq6JL"
      },
      "source": [
        "Measured with spectrograph\n",
        "\n",
        "![He](https://github.com/tphlabs/data/blob/main/Lab4_SP/helium.png?raw=true')"
      ]
    },
    {
      "cell_type": "markdown",
      "source": [
        "Nominal values"
      ],
      "metadata": {
        "id": "nWgKHDy0cgTi"
      }
    },
    {
      "cell_type": "code",
      "source": [
        "lines = ['Unidentified', '1 Blue448', '2 Blue472',\n",
        "          '3 Green492', '4 Green501', '5 Yellow588', '6 Red668', '7 Red707']\n",
        "nominal_waves = [ np.nan, 447.2, 471.3, 492.1, 501.6, 587.6, 667.8, 706.5]\n",
        "python_colors = ['gray'] + [wavelength_to_color(wl) for wl in nominal_waves[1:]]\n"
      ],
      "metadata": {
        "id": "ng0kMWBwcdo0"
      },
      "execution_count": 36,
      "outputs": []
    },
    {
      "cell_type": "markdown",
      "source": [
        "## Calculate $\\alpha_0$ and diffraction grating period $d$"
      ],
      "metadata": {
        "id": "94tdxkz6iU-8"
      }
    },
    {
      "cell_type": "code",
      "execution_count": 37,
      "metadata": {
        "colab": {
          "base_uri": "https://localhost:8080/"
        },
        "id": "yp9rMQARvndn",
        "outputId": "a1c5ba38-a529-41f2-8c5c-de9d4a8e0848"
      },
      "outputs": [
        {
          "output_type": "stream",
          "name": "stdout",
          "text": [
            "alpha0: -0.7+/-0.6 degree\n",
            "Calculated d = 2.0058+/-0.0007 um\n",
            "Nominal d is 500 lines per mm 2.0+/-0.0 um\n"
          ]
        }
      ],
      "source": [
        "measurements = '''\n",
        "# order, color_index beta(degrees)\n",
        "1 1 12.87\n",
        "1 2 13.59\n",
        "1 3 14.175\n",
        "1 4 14.49\n",
        "1 5 17.01\n",
        "1 6 19.35\n",
        "1 7 20.565\n",
        "-1 1 -12.915\n",
        "-1 2 -13.59\n",
        "-1 3 -14.22\n",
        "-1 4 -14.49\n",
        "-1 5 -17.055\n",
        "-1 6 -19.485\n",
        "-1 7 -20.655\n",
        "'''\n",
        "\n",
        "\n",
        "\n",
        "n, color_index, beta = np.genfromtxt(measurements.splitlines(), unpack=True)\n",
        "\n",
        "beta *= np.pi / 180\n",
        "\n",
        "alpha0 = get_ualpha0(n, color_index, beta)\n",
        "print(f'alpha0: {alpha0*180 / np.pi} degree')\n",
        "\n",
        "\n",
        "\n",
        "lmbd = [nominal_waves[int(clr)]*1e-9 for clr in color_index]\n",
        "d_arr = [n[i] * lmbd[i] / ( 2 * sin(beta[i]/2) * cos(alpha0 + beta[i]/2) ) for i in range(len(n))]\n",
        "d_arr = np.array(d_arr)\n",
        "\n",
        "d = umean(d_arr)\n",
        "print(rf'Calculated d = {d *1e6} um')\n",
        "#d = 2e-6 # 500 lines per mm\n",
        "print(f'Nominal d is 500 lines per mm {d*1e6:0.1f} um')\n"
      ]
    },
    {
      "cell_type": "markdown",
      "source": [
        "## Display on graph"
      ],
      "metadata": {
        "id": "VHnKxZSaids6"
      }
    },
    {
      "cell_type": "code",
      "execution_count": 38,
      "metadata": {
        "id": "lOw1DjvdiB-C",
        "outputId": "f35799a5-c2ba-4ec3-946e-f888a0ab0b03",
        "colab": {
          "base_uri": "https://localhost:8080/",
          "height": 558
        }
      },
      "outputs": [
        {
          "output_type": "stream",
          "name": "stdout",
          "text": [
            "2 Blue472      : nominal 471.3 lambda = 471.4+/-0.4 nm, 2 points\n",
            "3 Green492     : nominal 492.1 lambda = 491.9+/-0.4 nm, 2 points\n",
            "4 Green501     : nominal 501.6 lambda = 502.0+/-0.5 nm, 2 points\n",
            "5 Yellow588    : nominal 587.6 lambda = 587.5+/-0.6 nm, 2 points\n",
            "6 Red668       : nominal 667.8 lambda = 666.6+/-0.8 nm, 2 points\n",
            "7 Red707       : nominal 706.5 lambda = 706.0+/-0.9 nm, 2 points\n"
          ]
        },
        {
          "output_type": "display_data",
          "data": {
            "text/plain": [
              "<Figure size 640x480 with 1 Axes>"
            ],
            "image/png": "[encoded data removed]"
          },
          "metadata": {}
        }
      ],
      "source": [
        "plt.style.use('dark_background')\n",
        "\n",
        "for ix in range(2, len(lines)):\n",
        "  b = beta[color_index == ix]\n",
        "  n_ix =  n[color_index == ix]\n",
        "  lmbd = np.array([2 * d *  sin(b[i] / 2) * cos(alpha0 + b[i] / 2) /n_ix[i] for i in range(len(b))])\n",
        "  lmbd_mean = umean(lmbd)\n",
        "  lmbd_n = len(lmbd)\n",
        "  print(rf'{lines[ix]:<15}: nominal {nominal_waves[ix]} lambda = {lmbd_mean*1e9} nm, {lmbd_n:d} points' )\n",
        "\n",
        "\n",
        "  plt.plot(n_ix, unp.nominal_values(lmbd) *1e9, 'x', color=python_colors[ix])\n",
        "  plt.axhline(nominal_waves[ix], color=python_colors[ix])\n",
        "  plt.xticks([int(nx) for nx in np.unique(n)])\n",
        "  plt.xlabel('Order number')\n",
        "  plt.ylabel(r'Wavelength, nm')\n",
        "  #plt.legend()\n"
      ]
    },
    {
      "cell_type": "markdown",
      "metadata": {
        "id": "lhkR9c_m4HxW"
      },
      "source": [
        "## Hydrogen"
      ]
    },
    {
      "cell_type": "markdown",
      "metadata": {
        "id": "dr1wLUD8SOvU"
      },
      "source": [
        "Measured with spectrograph\n",
        "\n",
        "![H](https://github.com/tphlabs/data/blob/main/Lab4_SP/hydrogen.png?raw=true')"
      ]
    },
    {
      "cell_type": "markdown",
      "source": [
        "Nominal values"
      ],
      "metadata": {
        "id": "_lfFUp1MhR8z"
      }
    },
    {
      "cell_type": "code",
      "execution_count": 39,
      "metadata": {
        "id": "rfXEIoNgiB-C"
      },
      "outputs": [],
      "source": [
        "lines = ['Unidentified', '1 Violet 434', '2 Cian 486', '3 Red 657']\n",
        "nominal_waves = [np.nan, 434.0, 486.1, 656.3]\n",
        "python_colors = ['gray'] + [wavelength_to_color(wl) for wl in nominal_waves[1:]]\n",
        "quantum_numbers = [5, 4, 3]"
      ]
    },
    {
      "cell_type": "markdown",
      "source": [
        "## Calculate $\\alpha_0$ and wavelengths, after that display\n",
        "\n",
        "\n"
      ],
      "metadata": {
        "id": "9VOp7yTChVSj"
      }
    },
    {
      "cell_type": "code",
      "execution_count": 40,
      "metadata": {
        "colab": {
          "base_uri": "https://localhost:8080/",
          "height": 540
        },
        "id": "IQa_N2s04MnN",
        "outputId": "52fb5a7b-167a-45ba-b6c3-29fe9b970b45"
      },
      "outputs": [
        {
          "output_type": "stream",
          "name": "stdout",
          "text": [
            "d = 2.006+/-0.001 um\n",
            "alpha0: -0.46+/-0.12 degree\n",
            "1 Violet 434   : nominal 434.0 lambda = 434.40+/-0.13 nm, 2 points\n",
            "2 Cian 486     : nominal 486.1 lambda = 485.77+/-0.11 nm, 6 points\n",
            "3 Red 657      : nominal 656.3 lambda = 656.24+/-0.20 nm, 4 points\n"
          ]
        },
        {
          "output_type": "display_data",
          "data": {
            "text/plain": [
              "<Figure size 640x480 with 1 Axes>"
            ],
            "image/png": "[encoded data removed]"
          },
          "metadata": {}
        }
      ],
      "source": [
        "# d = 2e-6 # nominal\n",
        "# we will reuse d value found above\n",
        "print(rf'd = {d*1e6:.3f} um')\n",
        "\n",
        "measurements = '''\n",
        "# order, color_index beta\n",
        "1 1 12.465\n",
        "-1 1 -12.555\n",
        "1 2 13.995\n",
        "-1 2 -14.04\n",
        "1 3 19.08\n",
        "-1 3 -19.125\n",
        "2 2 28.89\n",
        "-2 2 -29.025\n",
        "2 3 40.68\n",
        "-2 3 -40.995\n",
        "3 2 46.44 # hardly seen\n",
        "-3 2 -46.845 # hardly seen\n",
        "'''\n",
        "\n",
        "n, color_index, beta = np.genfromtxt(measurements.splitlines(), unpack=True)\n",
        "\n",
        "beta *= np.pi / 180\n",
        "\n",
        "alpha0 = get_ualpha0(n, color_index, beta)\n",
        "print(f'alpha0: {alpha0*180 / np.pi} degree')\n",
        "\n",
        "l = []\n",
        "for ix in range(1, len(lines)):\n",
        "  b = beta[color_index == ix]\n",
        "  n_ix =  n[color_index == ix]\n",
        "  lmbd = np.array([2 * d *  sin(b[i] / 2) * cos(alpha0 + b[i] / 2) /n_ix[i] for i in range(len(b))])\n",
        "  lmbd_mean = umean(lmbd)\n",
        "  l.append(lmbd_mean)\n",
        "  lmbd_n = len(lmbd)\n",
        "  print(rf'{lines[ix]:<15}: nominal {nominal_waves[ix]} lambda = {lmbd_mean*1e9} nm, {lmbd_n:d} points' )\n",
        "\n",
        "  plt.plot(n_ix, unp.nominal_values(lmbd) *1e9, 'x', color=python_colors[ix])\n",
        "  plt.axhline(nominal_waves[ix], color=python_colors[ix])\n",
        "  #plt.legend()\n",
        "  plt.xticks([int(nx) for nx in np.unique(n)])\n",
        "  plt.xlabel('Order number')\n",
        "  plt.ylabel(r'Wavelength, nm')\n",
        "\n"
      ]
    },
    {
      "cell_type": "markdown",
      "source": [
        "# Rydberg's constant\n",
        "$$\n",
        "\\frac{1}{\\lambda} = R \\left( \\frac{1}{2^2} - \\frac{1}{n^2}\\right)\n",
        "$$\n",
        "where $n$ - quantum number:\n",
        "$n=5$ for violet, $n=4$ for cian and $n=3$ for red line hydrogen spectrum."
      ],
      "metadata": {
        "id": "iHtvDBTVRUA8"
      }
    },
    {
      "cell_type": "code",
      "source": [
        "x = 1/4 - 1/ np.array(quantum_numbers)**2\n",
        "y = 1/np.array(l)\n",
        "R = y / x\n",
        "R_mean = np.mean(R)\n",
        "print(f'Measured Rydbergs constant {R_mean} 1/m')\n",
        "print(f'Reference {Rydberg:.6e} 1/m')\n",
        "R_air = 10970987 # 1/m\n",
        "print(f'Reference R_air {R_air:.6e} 1/m')\n",
        "print(f'Discrepancy R calculated / R_air  {(R_mean.n/R_air *100)} %')\n",
        "\n"
      ],
      "metadata": {
        "id": "xSs5Uc0XSypH",
        "outputId": "df110d59-46be-448d-f625-9a746cd82042",
        "colab": {
          "base_uri": "https://localhost:8080/"
        }
      },
      "execution_count": 41,
      "outputs": [
        {
          "output_type": "stream",
          "name": "stdout",
          "text": [
            "Measured Rydbergs constant (1.09709+/-0.00018)e+07 1/m\n",
            "Reference 1.097373e+07 1/m\n",
            "Reference R_air 1.097099e+07 1/m\n",
            "Discrepancy R calculated / R_air  99.99940831020724 %\n"
          ]
        }
      ]
    },
    {
      "cell_type": "markdown",
      "source": [
        "# Measured by Dr.Yulia Preezant on other system"
      ],
      "metadata": {
        "id": "Bwq5bA7kRXWm"
      }
    },
    {
      "cell_type": "markdown",
      "source": [
        "## Helium\n",
        "\n",
        "Nominal values"
      ],
      "metadata": {
        "id": "fieJFy0r-Ziz"
      }
    },
    {
      "cell_type": "code",
      "source": [
        "lines = [ 'undefinded', '1 Violet389', '2 Blue448', '3 Blue472',\n",
        "          '4 Green492', '5 Green501', '6 Yellow588', '7 Red668', '8 Red707']\n",
        "nominal_waves = [ np.nan, 388.9, 447.2, 471.3, 492.1, 501.6, 587.6, 667.8, 706.5]\n",
        "python_colors = ['gray'] + [wavelength_to_color(wl) for wl in nominal_waves[1:]]\n"
      ],
      "metadata": {
        "id": "SYca-51E-bf9"
      },
      "execution_count": 42,
      "outputs": []
    },
    {
      "cell_type": "code",
      "source": [
        "measurements = '''\n",
        "# order, color_index beta(degrees)\n",
        "-1 2 -7.74\n",
        " 1 2 7.65\n",
        "-1 3 -8.145\n",
        " 1 3 8.10\n",
        "-1 4 -8.505\n",
        "1 4 8.46\n",
        "-1 5 -8.64\n",
        "1 5 8.595\n",
        "-1 6 -10.17\n",
        "1 6 10.08\n",
        "-1 7 -11.565\n",
        "1 7 11.475\n",
        "-1 8 -12.24\n",
        "1 8 12.195\n",
        "-2 2 -15.57\n",
        "2 2 15.435\n",
        "-2 3 -16.425\n",
        "2 3 16.335\n",
        "#-2 0 -17.19\n",
        "#2 0 17.055\n",
        "-2 5 -17.505\n",
        "2 5 17.415\n",
        "-2 6 -20.655\n",
        "2 6 20.475\n",
        "-2 7 -23.67\n",
        "2 7 23.445\n",
        "-3 2 -23.805\n",
        "3 2 23.535\n",
        "#-3 0 -25.155\n",
        "#3 0 24.885\n",
        "-3 4 -26.415\n",
        "3 4 26.01\n",
        "-3 5 -26.91\n",
        "3 5 26.595\n",
        "-3 6 -32.085\n",
        "3 6 31.635\n",
        "-4 6 -45.225\n",
        "4 6 44.19\n",
        "'''\n",
        "\n",
        "\n",
        "n, color_index, beta = np.genfromtxt(measurements.splitlines(), unpack=True)\n",
        "\n",
        "beta *= np.pi / 180\n",
        "\n",
        "alpha0 = get_ualpha0(n, color_index, beta)\n",
        "print(f'alpha0: {alpha0*180 / np.pi} degree')\n",
        "\n",
        "\n",
        "\n",
        "lmbd = [nominal_waves[int(clr)]*1e-9 for clr in color_index]\n",
        "d_arr = [n[i] * lmbd[i] / ( 2 * sin(beta[i]/2) * cos(alpha0 + beta[i]/2) ) for i in range(len(n))]\n",
        "d_arr = np.array(d_arr)\n",
        "\n",
        "d = umean(d_arr)\n",
        "print(rf'Calculated d = {d *1e6} um')\n",
        "d_nom = 1e-3 / 300 # 300 lines per mm\n",
        "print(f'Nominal d is 300 lines per mm {d_nom*1e6:0.3f} um')\n",
        "\n",
        "plt.style.use('dark_background')\n",
        "\n",
        "for ix in range(2, len(lines)):\n",
        "  b = beta[color_index == ix]\n",
        "  n_ix =  n[color_index == ix]\n",
        "  lmbd = np.array([2 * d *  sin(b[i] / 2) * cos(alpha0 + b[i] / 2) /n_ix[i] for i in range(len(b))])\n",
        "  lmbd_mean = umean(lmbd)\n",
        "  lmbd_n = len(lmbd)\n",
        "  print(rf'{lines[ix]:<15}: nominal {nominal_waves[ix]} lambda = {lmbd_mean*1e9} nm, {lmbd_n:d} points' )\n",
        "\n",
        "\n",
        "  plt.plot(n_ix, unp.nominal_values(lmbd) *1e9, 'x', color=python_colors[ix])\n",
        "  plt.axhline(nominal_waves[ix], color=python_colors[ix])\n",
        "  plt.xticks([int(nx) for nx in np.unique(n)])\n",
        "  plt.xlabel('Order number')\n",
        "  plt.ylabel(r'Wavelength, nm')\n",
        "  #plt.legend()\n"
      ],
      "metadata": {
        "colab": {
          "base_uri": "https://localhost:8080/",
          "height": 631
        },
        "id": "aGzGv4Pb-itE",
        "outputId": "e3f7cef3-3907-4a19-d6f7-91377ac76449"
      },
      "execution_count": 43,
      "outputs": [
        {
          "output_type": "stream",
          "name": "stdout",
          "text": [
            "alpha0: -1.31+/-0.13 degree\n",
            "Calculated d = 3.34458+/-0.00013 um\n",
            "Nominal d is 300 lines per mm 3.333 um\n",
            "2 Blue448      : nominal 447.2 lambda = 446.65+/-0.04 nm, 6 points\n",
            "3 Blue472      : nominal 471.3 lambda = 472.03+/-0.05 nm, 4 points\n",
            "4 Green492     : nominal 492.1 lambda = 492.89+/-0.05 nm, 4 points\n",
            "5 Green501     : nominal 501.6 lambda = 500.99+/-0.05 nm, 6 points\n",
            "6 Yellow588    : nominal 587.6 lambda = 587.24+/-0.07 nm, 8 points\n",
            "7 Red668       : nominal 667.8 lambda = 667.47+/-0.10 nm, 4 points\n",
            "8 Red707       : nominal 706.5 lambda = 707.78+/-0.12 nm, 2 points\n"
          ]
        },
        {
          "output_type": "display_data",
          "data": {
            "text/plain": [
              "<Figure size 640x480 with 1 Axes>"
            ],
            "image/png": "[encoded data removed]"
          },
          "metadata": {}
        }
      ]
    },
    {
      "cell_type": "markdown",
      "source": [
        "# Hydrogen"
      ],
      "metadata": {
        "id": "Q3QHDKoW_KNC"
      }
    },
    {
      "cell_type": "code",
      "source": [
        "# Nominal values\n",
        "\n",
        "lines = ['Unidentified', '1 Violet 434', '2 Cian 486', '3 Red 657']\n",
        "nominal_waves = [np.nan, 434.0, 486.1, 656.3]\n",
        "python_colors = ['gray'] + [wavelength_to_color(wl) for wl in nominal_waves[1:]]\n",
        "quantum_numbers = [5, 4, 3]\n",
        "\n",
        "# measurements\n",
        "\n",
        "measurements = '''\n",
        "# order, coor_index beta\n",
        "-1 1 -7.47\n",
        "-1 2 -8.325\n",
        "-1 3 -11.295\n",
        "'''\n",
        "\n",
        "n, color_index, beta = np.genfromtxt(measurements.splitlines(), unpack=True)\n",
        "\n",
        "beta *= np.pi / 180\n",
        "\n",
        "alpha0 = 0 #get_ualpha0(n, color_index, beta)\n",
        "print(f'alpha0: {alpha0*180 / np.pi} degree')\n",
        "\n",
        "l = []\n",
        "for ix in range(1, len(lines)):\n",
        "  b = beta[color_index == ix]\n",
        "  n_ix =  n[color_index == ix]\n",
        "  lmbd = np.array([2 * d *  sin(b[i] / 2) * cos(alpha0 + b[i] / 2) /n_ix[i] for i in range(len(b))])\n",
        "  lmbd_mean = umean(lmbd)\n",
        "  l.append(lmbd_mean)\n",
        "  lmbd_n = len(lmbd)\n",
        "  print(rf'{lines[ix]:<15}: nominal {nominal_waves[ix]} lambda = {lmbd_mean*1e9} nm, {lmbd_n:d} points' )\n",
        "\n",
        "  plt.plot(n_ix, unp.nominal_values(lmbd) *1e9, 'x', color=python_colors[ix])\n",
        "  plt.axhline(nominal_waves[ix], color=python_colors[ix])\n",
        "  #plt.legend()\n",
        "  plt.xticks([int(nx) for nx in np.unique(n)])\n",
        "  plt.xlabel('Order number')\n",
        "  plt.ylabel(r'Wavelength, nm')\n",
        "\n"
      ],
      "metadata": {
        "colab": {
          "base_uri": "https://localhost:8080/",
          "height": 522
        },
        "id": "dWzogWAK_Mei",
        "outputId": "1cc4f7a3-f341-4a42-bed5-a8adf2bd6171"
      },
      "execution_count": 44,
      "outputs": [
        {
          "output_type": "stream",
          "name": "stdout",
          "text": [
            "alpha0: 0.0 degree\n",
            "1 Violet 434   : nominal 434.0 lambda = 434.820+/-0.017 nm, 1 points\n",
            "2 Cian 486     : nominal 486.1 lambda = 484.255+/-0.019 nm, 1 points\n",
            "3 Red 657      : nominal 656.3 lambda = 655.072+/-0.026 nm, 1 points\n"
          ]
        },
        {
          "output_type": "display_data",
          "data": {
            "text/plain": [
              "<Figure size 640x480 with 1 Axes>"
            ],
            "image/png": "[encoded data removed]"
          },
          "metadata": {}
        }
      ]
    },
    {
      "cell_type": "markdown",
      "source": [
        "## Rydberg\n",
        "\n"
      ],
      "metadata": {
        "id": "wDDbs6rP_ynz"
      }
    },
    {
      "cell_type": "code",
      "source": [
        "x = 1/4 - 1/ np.array(quantum_numbers)**2\n",
        "y = 1/np.array(l)\n",
        "R = y / x\n",
        "R_mean = umean(R)\n",
        "print(f'Measured Rydbergs constant {R_mean} 1/m')\n",
        "print(f'Reference R_vacuum {Rydberg:.6e} 1/m')\n",
        "R_air = 10970987 # 1/m\n",
        "print(f'Reference R_air {R_air:.6e} 1/m')\n",
        "print(f'Discrepancy R_measured / R_air  {R_mean.n/R_air *100:.3f} %')\n",
        "\n"
      ],
      "metadata": {
        "colab": {
          "base_uri": "https://localhost:8080/"
        },
        "id": "-1oL87_o_1U_",
        "outputId": "ff944d90-7d6d-44df-f980-85b9962c0770"
      },
      "execution_count": 45,
      "outputs": [
        {
          "output_type": "stream",
          "name": "stdout",
          "text": [
            "Measured Rydbergs constant (1.098524+/-0.000025)e+07 1/m\n",
            "Reference R_vacuum 1.097373e+07 1/m\n",
            "Reference R_air 1.097099e+07 1/m\n",
            "Discrepancy R_measured / R_air  100.130 %\n"
          ]
        }
      ]
    },
    {
      "cell_type": "markdown",
      "metadata": {
        "id": "oG1hnq3Eej7m"
      },
      "source": [
        "# References"
      ]
    },
    {
      "cell_type": "markdown",
      "metadata": {
        "id": "_VAOtJVQenWO"
      },
      "source": [
        "- \"Physics Laboratory Manual\", 3d ed., Wall , Levine and Christensen, Experiment 75 Wave Length of Light: Diffraction Grating, p.297, eq.75.2 and 75.3\n"
      ]
    }
  ],
  "metadata": {
    "colab": {
      "provenance": [],
      "include_colab_link": true
    },
    "kernelspec": {
      "display_name": "Python 3 (ipykernel)",
      "language": "python",
      "name": "python3"
    },
    "language_info": {
      "codemirror_mode": {
        "name": "ipython",
        "version": 3
      },
      "file_extension": ".py",
      "mimetype": "text/x-python",
      "name": "python",
      "nbconvert_exporter": "python",
      "pygments_lexer": "ipython3",
      "version": "3.9.12"
    }
  },
  "nbformat": 4,
  "nbformat_minor": 0
}
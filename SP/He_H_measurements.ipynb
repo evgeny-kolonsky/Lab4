{
 "cells": [
  {
   "cell_type": "markdown",
   "metadata": {
    "colab_type": "text",
    "id": "view-in-github"
   },
   "source": [
    "<a href=\"https://colab.research.google.com/github/evgeny-kolonsky/Lab4/blob/main/SP/Camera_measurements.ipynb\" target=\"_parent\"><img src=\"https://colab.research.google.com/assets/colab-badge.svg\" alt=\"Open In Colab\"/></a>"
   ]
  },
  {
   "cell_type": "markdown",
   "metadata": {
    "id": "Zq95I3TgpqQn"
   },
   "source": [
    "<font size=6> Wavelengths measurements with digital camera</font>\n",
    "\n",
    "Evgeny Kolonsky, 2025\n",
    "\n",
    "v.0.3.3"
   ]
  },
  {
   "cell_type": "code",
   "execution_count": 1,
   "metadata": {
    "id": "EAaoQlotrqHq"
   },
   "outputs": [],
   "source": [
    "import numpy as np\n",
    "import matplotlib.pyplot as plt\n",
    "from matplotlib import colors as mcolors\n",
    "from scipy.optimize import fsolve\n",
    "from math import degrees as deg"
   ]
  },
  {
   "cell_type": "markdown",
   "metadata": {
    "id": "PeEUt1iutOCy"
   },
   "source": [
    "# Model"
   ]
  },
  {
   "cell_type": "markdown",
   "metadata": {
    "id": "9F0J-kvIrz2k"
   },
   "source": [
    "Theoretical expression for light diffraction when incident light assumed to be perpendicutalr to lattice is\n",
    "$$\n",
    "n \\lambda = d \\sin \\beta_n,\n",
    "\\tag{1}\n",
    "$$\n",
    "where $\\lambda$ - light wave length, $d$ - diffraction grating parameter, $n$ - order number, $\\beta_n$ - deviation angle of order $n$ light beam.\n",
    "\n",
    "When incident light falls under an arbitrary angle $\\alpha_0$ to lattice plane perpendicular, the expression is written in form\n",
    "$$ 2 d \\sin\\frac{\\beta_n}{2} \\cos\\left(\\alpha_0 +\\frac{\\beta_n}{2}\\right)\n",
    "= n \\lambda\n",
    ", \\quad n =  \\pm 1, \\pm 2, ..\n",
    "\\tag{2}\n",
    "$$\n",
    "Here $\\beta_n$ is the angle between incident light beam and  deviated beam of order $n$, which we can measure rather accurately in optical spectroscopy experiment.\n",
    "\n",
    "For $\\alpha_0=0$ (light falls ⟂) we receive eq.(1).\n",
    "\n",
    "Otherwise we expect to see non-symmetry in deviation angles $\\beta_{\\pm n}$ ."
   ]
  },
  {
   "cell_type": "markdown",
   "metadata": {
    "id": "ufvxJARPFAE5"
   },
   "source": [
    "## Lattice angle position\n",
    "\n",
    "\n",
    "We can neither ensure $\\alpha_0=0$ nor accurately measure $\\alpha_0$ directly due to construction of the experiment set.\n",
    "\n",
    "The unknown angle $\\alpha_0$ between lattice plane perpendicular and light beam can be found indirectly by measuring $\\beta_{\\pm 1}$, even when lattice period $d$ and wavelength $\\lambda$ are also unknown. For a pair $\\pm n$ using eq.(2) we have  \n",
    "$$\n",
    "\\sin \\frac{\\beta_{+n}}{2} \\cos\\left( \\alpha_0 + \\frac{\\beta_{+n}}{2}\\right) + \\sin \\frac{\\beta_{-n}}{2} \\cos\\left( \\alpha_0 + \\frac{\\beta_{-n}}{2}\\right) =0.   \n",
    "$$\n",
    "We have one equation with one unknown parameter $\\alpha_0$. It can be easiliy solved analytically. Denoting for first series $n=\\pm1$\n",
    "$$\n",
    "c_{1} = \\cos\\frac{\\beta_{+1}}{2}, \\quad s_{1} = \\sin\\frac{\\beta_{+1}}{2}, \\\\\n",
    "c_{2} = \\cos\\frac{\\beta_{-1}}{2}, \\quad s_{2} = \\sin\\frac{\\beta_{-1}}{2}, \\\\\n",
    "C = c_{1} s_{1} + c_{2} s_{2}, \\quad\n",
    "D = s_{1}^2 + s_{2}^2\n",
    "$$\n",
    "we found\n",
    "$$\n",
    "\\alpha_0 = \\arccos\\frac{D}{\\sqrt{C^2+D^2}}.\n",
    "$$\n",
    "Since we measure $\\beta_n$ rather accurately, accuracy of $\\alpha_0$ is also reasonably high. Uncertainty of $\\alpha_0$ can be decreased further by averaging $\\alpha_0$ for all known pairs.  "
   ]
  },
  {
   "cell_type": "code",
   "execution_count": 2,
   "metadata": {
    "id": "nrJYRyS0WuBK"
   },
   "outputs": [],
   "source": [
    "def get_alpha0(beta_plus, beta_minus):\n",
    "  c1 = np.cos(beta_plus/2)\n",
    "  s1 = np.sin(beta_plus/2)\n",
    "  c2 = np.cos(beta_minus/2)\n",
    "  s2 = np.sin(beta_minus/2)\n",
    "  D = s1*s1 + s2*s2\n",
    "  C = c1*s1 + c2*s2\n",
    "  acos =  D / np.sqrt(C*C + D*D)\n",
    "  alpha0_arr = np.arccos(acos)\n",
    "  alpha0 = np.mean(alpha0_arr)\n",
    "  alpha0_err = np.std(alpha0_arr) / np.sqrt(len(alpha0_arr) - 1)\n",
    "  return alpha0, alpha0_err\n",
    "\n",
    "def get_pairs(beta, colors, orders):\n",
    "  def get_pair(color_ind, order):\n",
    "    beta_plus = beta[(color_index == color_ind) & (n == order)]\n",
    "    beta_minus = beta[(color_index == color_ind) & (n == -order)]\n",
    "    if len(beta_plus) == 1 and len(beta_minus) == 1:\n",
    "      return (beta_plus[0], beta_minus[0])\n",
    "    else:\n",
    "      return None\n",
    "  betas = [get_pair(color_ind, order) for color_ind in np.unique(colors) for order in np.unique(orders)]\n",
    "  beta_plus = np.array([b[0] for b in betas if b is not None])\n",
    "  beta_minus = np.array([b[1] for b in betas if b is not None])\n",
    "  return beta_plus, beta_minus"
   ]
  },
  {
   "cell_type": "markdown",
   "metadata": {
    "id": "eDawbTkKrO6o"
   },
   "source": [
    "# Measurements"
   ]
  },
  {
   "cell_type": "markdown",
   "metadata": {
    "id": "Y4eGq1gdq0nb"
   },
   "source": [
    "## Helium"
   ]
  },
  {
   "cell_type": "markdown",
   "metadata": {
    "id": "SIRcoguJq6JL"
   },
   "source": [
    "Measured with spectrograph\n",
    "\n",
    "![He](https://github.com/tphlabs/data/blob/main/Lab4_SP/helium.png?raw=true')"
   ]
  },
  {
   "cell_type": "code",
   "execution_count": 15,
   "metadata": {
    "colab": {
     "base_uri": "https://localhost:8080/",
     "height": 604
    },
    "id": "yp9rMQARvndn",
    "outputId": "1b4e87df-546f-44c3-e0ce-c286773d40ee"
   },
   "outputs": [
    {
     "name": "stdout",
     "output_type": "stream",
     "text": [
      "alpha0: 0.6 ± 0.1 degree\n",
      "Calculated d = 2.007 ± 0.001 um\n",
      "Nominal d is 500 lines per mm 2.0 um\n"
     ]
    }
   ],
   "source": [
    "colors = ['Unidentified', '1 Blue448', '2 Blue472', \n",
    "          '3 Green492', '4 Green501', '5 Yellow588', '6 Red668', '7 Red707']\n",
    "python_colors = ['gray',  'blue', 'lightblue', 'lightgreen', 'green', 'yellow', 'red', 'black']\n",
    "nominal_waves = [np.NaN,  448, 472, 492, 501, 588, 668, 707]\n",
    "\n",
    "\n",
    "measurements = '''\n",
    "# order, coor_index beta(degrees)\n",
    "1 1 12.87\n",
    "1 2 13.59\n",
    "1 3 14.175\n",
    "1 4 14.49\n",
    "1 5 17.01\n",
    "1 6 19.35\n",
    "1 7 20.565\n",
    "-1 1 -12.915\n",
    "-1 2 -13.59\n",
    "-1 3 -14.22\n",
    "-1 4 -14.49\n",
    "-1 5 -17.055\n",
    "-1 6 -19.485\n",
    "-1 7 -20.655\n",
    "'''\n",
    "\n",
    "n, color_index, beta = np.genfromtxt(measurements.splitlines(), unpack=True)\n",
    "\n",
    "\n",
    "beta *= np.pi / 180\n",
    "\n",
    "beta_plus, beta_minus = get_pairs(beta, color_index, n)\n",
    "\n",
    "alpha0, alpha0_err = get_alpha0(beta_plus, beta_minus)\n",
    "print(f'alpha0: {deg(alpha0):.1f} ± {deg(alpha0_err):.1f} degree')\n",
    "\n",
    "\n",
    "#beta_yellow = beta[color_index == 6]\n",
    "#n_yellow = n[color_index == 6]\n",
    "#d_arr = n_yellow * lmbd_yellow / ( 2 * np.sin(beta_yellow/2) * np.cos(-alpha0 + beta_yellow/2) )\n",
    "\n",
    "lmbd = [nominal_waves[int(clr)]*1e-9 for clr in color_index]\n",
    "d_arr = n * lmbd / ( 2 * np.sin(beta/2) * np.cos(-alpha0 + beta/2) )\n",
    "\n",
    "d = np.mean(d_arr)\n",
    "d_err = np.std(d_arr) / np.sqrt(len(d_arr) - 1)\n",
    "print(rf'Calculated d = {d *1e6:.3f} ± {d_err*1e6:.3f} um')\n",
    "#d = 2e-6 # 500 lines per mm\n",
    "print(f'Nominal d is 500 lines per mm {d*1e6:0.1f} um')\n"
   ]
  },
  {
   "cell_type": "code",
   "execution_count": 11,
   "metadata": {},
   "outputs": [
    {
     "name": "stdout",
     "output_type": "stream",
     "text": [
      "2 Blue472      : lambda = 471.6 ± 0.5 nm, 2 points\n",
      "3 Green492     : lambda = 492.3 ± 0.2 nm, 2 points\n",
      "4 Green501     : lambda = 502.2 ± 0.6 nm, 2 points\n",
      "5 Yellow588    : lambda = 587.9 ± 0.1 nm, 2 points\n",
      "6 Red668       : lambda = 667.3 ± 1.1 nm, 2 points\n",
      "7 Red707       : lambda = 706.5 ± 0.2 nm, 2 points\n"
     ]
    },
    {
     "data": {
      "image/png": "[encoded data removed]",
      "text/plain": [
       "<Figure size 432x288 with 1 Axes>"
      ]
     },
     "metadata": {
      "needs_background": "light"
     },
     "output_type": "display_data"
    }
   ],
   "source": [
    "for ix in range(2, len(colors)):\n",
    "  b = beta[color_index == ix]\n",
    "  n_ix =  n[color_index == ix]\n",
    "  lmbd = 2 * d *  np.sin(b / 2) * np.cos(-alpha0 + b / 2) /n_ix\n",
    "  lmbd_mean = np.mean(lmbd)\n",
    "  lmbd_err = np.std(lmbd) / np.sqrt(len(lmbd) - 1)\n",
    "  lmbd_n = len(lmbd)\n",
    "  print(rf'{colors[ix]:<15}: lambda = {lmbd_mean*1e9:.1f} ± {lmbd_err*1e9:.1f} nm, {lmbd_n:d} points' )\n",
    "\n",
    "  plt.plot(n_ix, 2 * d *  np.sin(b / 2) * np.cos(-alpha0 + b / 2) /n_ix *1e9, 'x', color=python_colors[ix],\n",
    "           label=f'lambda = {lmbd_mean*1e9:.1f} ± {lmbd_err*1e9:.1f} nm')\n",
    "  plt.axhline(nominal_waves[ix], color=python_colors[ix])\n",
    "  plt.legend()\n"
   ]
  },
  {
   "cell_type": "markdown",
   "metadata": {
    "id": "lhkR9c_m4HxW"
   },
   "source": [
    "## Hydrogen"
   ]
  },
  {
   "cell_type": "markdown",
   "metadata": {
    "id": "dr1wLUD8SOvU"
   },
   "source": [
    "Measured with spectrograph\n",
    "\n",
    "![H](https://github.com/tphlabs/data/blob/main/Lab4_SP/hydrogen.png?raw=true')"
   ]
  },
  {
   "cell_type": "code",
   "execution_count": null,
   "metadata": {},
   "outputs": [],
   "source": []
  },
  {
   "cell_type": "code",
   "execution_count": 16,
   "metadata": {
    "colab": {
     "base_uri": "https://localhost:8080/",
     "height": 517
    },
    "id": "IQa_N2s04MnN",
    "outputId": "cb0818ee-3f7c-4882-df8d-0f8554c19aeb"
   },
   "outputs": [
    {
     "name": "stdout",
     "output_type": "stream",
     "text": [
      "d = 2.007 um\n",
      "alpha0: 0.8 ± 0.2 degree\n",
      "Violet 434     : lambda = 434.7 ± 0.9 nm, 2 points\n",
      "Cian 486       : lambda = 486.0 ± 0.3 nm, 4 points\n",
      "Red 657        : lambda = 656.5 ± 0.6 nm, 4 points\n"
     ]
    },
    {
     "data": {
      "image/png": "[encoded data removed]",
      "text/plain": [
       "<Figure size 432x288 with 1 Axes>"
      ]
     },
     "metadata": {
      "needs_background": "light"
     },
     "output_type": "display_data"
    }
   ],
   "source": [
    "colors = ['Unidentified', 'Violet 434', 'Cian 486', 'Red 657']\n",
    "python_colors = ['gray', 'blue', 'green', 'red']\n",
    "nominal_waves = [np.NaN, 434, 486, 657]\n",
    "# d = 2e-6 # nominal \n",
    "print(rf'd = {d*1e6:.3f} um')\n",
    "\n",
    "measurements = '''\n",
    "# order, coor_index beta\n",
    "1 1 12.465\n",
    "-1 1 -12.555\n",
    "1 2 13.995\n",
    "-1 2 -14.04\n",
    "1 3 19.08\n",
    "-1 3 -19.125\n",
    "2 2 28.89\n",
    "-2 2 -29.025\n",
    "2 3 40.68\n",
    "-2 3 -40.995\n",
    "#3 2 46.44\n",
    "#-3 2 -46.845 # hardly seen\n",
    "'''\n",
    "\n",
    "n, color_index, beta = np.genfromtxt(measurements.splitlines(), unpack=True)\n",
    "\n",
    "beta *= np.pi / 180\n",
    "\n",
    "beta_plus, beta_minus = get_pairs(beta, color_index, n)\n",
    "\n",
    "alpha0, alpha0_err = get_alpha0(beta_plus, beta_minus)\n",
    "print(f'alpha0: {deg(alpha0):.1f} ± {deg(alpha0_err):.1f} degree')\n",
    "\n",
    "\n",
    "for ix in range(1, 4):\n",
    "  b = beta[color_index == ix]\n",
    "  n_ix =  n[color_index == ix]\n",
    "  lmbd = 2 * d *  np.sin(b / 2) * np.cos(-alpha0 + b / 2) /n_ix\n",
    "  lmbd_mean = np.mean(lmbd)\n",
    "  lmbd_err = np.std(lmbd) / np.sqrt(len(lmbd) - 1)\n",
    "  lmbd_n = len(lmbd)\n",
    "  print(rf'{colors[ix]:<15}: lambda = {lmbd_mean*1e9:.1f} ± {lmbd_err*1e9:.1f} nm, {lmbd_n:d} points' )\n",
    "\n",
    "  plt.plot(n_ix, 2 * d *  np.sin(b / 2) * np.cos(-alpha0 + b / 2) /n_ix *1e9, 'x', color=python_colors[ix],\n",
    "           label=f'lambda = {lmbd_mean*1e9:.1f} ± {lmbd_err*1e9:.1f} nm')\n",
    "  plt.axhline(nominal_waves[ix])\n",
    "  plt.legend()\n"
   ]
  },
  {
   "cell_type": "markdown",
   "metadata": {
    "id": "oG1hnq3Eej7m"
   },
   "source": [
    "# References"
   ]
  },
  {
   "cell_type": "markdown",
   "metadata": {
    "id": "_VAOtJVQenWO"
   },
   "source": [
    "- \"Physics Laboratory Manual\", 3d ed., Wall , Levine and Christensen, Experiment 75 Wave Length of Light: Diffraction Grating, p.297, eq.75.2 and 75.3\n"
   ]
  },
  {
   "cell_type": "code",
   "execution_count": null,
   "metadata": {
    "id": "CIsgDE3_oYGY"
   },
   "outputs": [],
   "source": []
  }
 ],
 "metadata": {
  "colab": {
   "include_colab_link": true,
   "provenance": []
  },
  "kernelspec": {
   "display_name": "Python 3 (ipykernel)",
   "language": "python",
   "name": "python3"
  },
  "language_info": {
   "codemirror_mode": {
    "name": "ipython",
    "version": 3
   },
   "file_extension": ".py",
   "mimetype": "text/x-python",
   "name": "python",
   "nbconvert_exporter": "python",
   "pygments_lexer": "ipython3",
   "version": "3.9.12"
  }
 },
 "nbformat": 4,
 "nbformat_minor": 1
}

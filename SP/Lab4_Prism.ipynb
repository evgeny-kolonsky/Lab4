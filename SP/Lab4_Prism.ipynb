{
  "nbformat": 4,
  "nbformat_minor": 0,
  "metadata": {
    "colab": {
      "provenance": [],
      "authorship_tag": "ABX9TyMDWlw3kZrbYaY67KsGCNgQ",
      "include_colab_link": true
    },
    "kernelspec": {
      "name": "python3",
      "display_name": "Python 3"
    },
    "language_info": {
      "name": "python"
    }
  },
  "cells": [
    {
      "cell_type": "markdown",
      "metadata": {
        "id": "view-in-github",
        "colab_type": "text"
      },
      "source": [
        "<a href=\"https://colab.research.google.com/github/evgeny-kolonsky/Lab4/blob/main/SP/Lab4_Prism.ipynb\" target=\"_parent\"><img src=\"https://colab.research.google.com/assets/colab-badge.svg\" alt=\"Open In Colab\"/></a>"
      ]
    },
    {
      "cell_type": "markdown",
      "source": [
        "#Lab4 - Spectro. Prism measurements\n",
        "\n",
        "v.0.1.0"
      ],
      "metadata": {
        "id": "nypNJHYwWeHC"
      }
    },
    {
      "cell_type": "code",
      "execution_count": 1,
      "metadata": {
        "id": "9uWbT5GNWcqk"
      },
      "outputs": [],
      "source": [
        "import numpy as np\n",
        "import matplotlib.pyplot as plt\n",
        "from scipy.optimize import curve_fit\n",
        "from scipy.stats import linregress"
      ]
    },
    {
      "cell_type": "code",
      "source": [
        "data = '''\n",
        "# wavelength theta\n",
        "# helium\n",
        "447.15 50.04\n",
        "471.31 49.61\n",
        "492.19 49.24\n",
        "587.56 48.11\n",
        "667.82 47.55\n",
        "706.52 47.35\n",
        "# mercury\n",
        "435.83 50.30\n",
        "546.01 48.54\n",
        "578 48.25\n",
        "697 47.44\n",
        "'''\n",
        "lmd, theta = np.genfromtxt(data.splitlines()).T\n",
        "theta *= np.pi/ 180\n",
        "y = 1/lmd**2\n",
        "n = 2 * np.sin(np.pi/6 + theta/2)\n",
        "plt.plot(n, y, 'o')\n",
        "fit = linregress(n, y)\n",
        "plt.plot( n, n* fit.slope + fit.intercept, color='red')\n",
        "\n",
        "hydrogen = '''\n",
        "434 50.34\n",
        "486 49.32\n",
        "657 47.64\n",
        "'''\n",
        "lmdH, thetaH = np.genfromtxt(hydrogen.splitlines()).T\n",
        "thetaH *= np.pi/ 180\n",
        "nH = 2 * np.sin(np.pi/6 + thetaH/2)\n",
        "y = 1/ lmdH**2\n",
        "plt.plot(nH, y, '^', color='green')\n",
        "y_expected = nH* fit.slope + fit.intercept\n",
        "\n",
        "lambdaH = 1/np.sqrt(y_expected)\n",
        "print(lambdaH)\n",
        "\n",
        "\n",
        "plt.grid()\n",
        "plt.plot()\n",
        "\n"
      ],
      "metadata": {
        "colab": {
          "base_uri": "https://localhost:8080/",
          "height": 480
        },
        "id": "7wVQyfFXWlTj",
        "outputId": "ddc3bf4e-4532-4d9b-90d4-ad6cb34677e1"
      },
      "execution_count": 13,
      "outputs": [
        {
          "output_type": "stream",
          "name": "stdout",
          "text": [
            "[433.52407456 487.83294817 655.31634628]\n"
          ]
        },
        {
          "output_type": "execute_result",
          "data": {
            "text/plain": [
              "[]"
            ]
          },
          "metadata": {},
          "execution_count": 13
        },
        {
          "output_type": "display_data",
          "data": {
            "text/plain": [
              "<Figure size 640x480 with 1 Axes>"
            ],
            "image/png": "[encoded data removed]"
          },
          "metadata": {}
        }
      ]
    },
    {
      "cell_type": "code",
      "source": [
        "lambdaH"
      ],
      "metadata": {
        "colab": {
          "base_uri": "https://localhost:8080/"
        },
        "id": "AmxIQc1HXz5i",
        "outputId": "21d97f48-2ee5-4f1f-bf05-5a8eca3022ac"
      },
      "execution_count": 10,
      "outputs": [
        {
          "output_type": "execute_result",
          "data": {
            "text/plain": [
              "array([434., 486., 657.])"
            ]
          },
          "metadata": {},
          "execution_count": 10
        }
      ]
    },
    {
      "cell_type": "code",
      "source": [],
      "metadata": {
        "id": "Z7lD75Nzekao"
      },
      "execution_count": null,
      "outputs": []
    }
  ]
}